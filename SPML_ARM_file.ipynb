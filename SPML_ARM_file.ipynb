{
 "cells": [
  {
   "cell_type": "code",
   "execution_count": 45,
   "id": "eca65b77",
   "metadata": {},
   "outputs": [],
   "source": [
    "import pandas as pd\n",
    "import csv\n",
    "import itertools\n",
    "import matplotlib.pyplot as plt\n",
    "import seaborn as sns\n",
    "from scipy.stats import gaussian_kde"
   ]
  },
  {
   "cell_type": "code",
   "execution_count": 46,
   "id": "2114c7bb",
   "metadata": {
    "scrolled": true
   },
   "outputs": [
    {
     "name": "stdout",
     "output_type": "stream",
     "text": [
      "206307\n",
      "997816\n",
      "9115919\n"
     ]
    },
    {
     "data": {
      "text/html": [
       "<div>\n",
       "<style scoped>\n",
       "    .dataframe tbody tr th:only-of-type {\n",
       "        vertical-align: middle;\n",
       "    }\n",
       "\n",
       "    .dataframe tbody tr th {\n",
       "        vertical-align: top;\n",
       "    }\n",
       "\n",
       "    .dataframe thead th {\n",
       "        text-align: right;\n",
       "    }\n",
       "</style>\n",
       "<table border=\"1\" class=\"dataframe\">\n",
       "  <thead>\n",
       "    <tr style=\"text-align: right;\">\n",
       "      <th></th>\n",
       "      <th>user</th>\n",
       "      <th>time_stamp</th>\n",
       "      <th>btag</th>\n",
       "      <th>cate</th>\n",
       "      <th>brand</th>\n",
       "    </tr>\n",
       "  </thead>\n",
       "  <tbody>\n",
       "    <tr>\n",
       "      <th>0</th>\n",
       "      <td>916958</td>\n",
       "      <td>1493811673</td>\n",
       "      <td>buy</td>\n",
       "      <td>123</td>\n",
       "      <td>97176</td>\n",
       "    </tr>\n",
       "    <tr>\n",
       "      <th>1</th>\n",
       "      <td>916958</td>\n",
       "      <td>1493811809</td>\n",
       "      <td>buy</td>\n",
       "      <td>123</td>\n",
       "      <td>97176</td>\n",
       "    </tr>\n",
       "    <tr>\n",
       "      <th>2</th>\n",
       "      <td>628854</td>\n",
       "      <td>1493781424</td>\n",
       "      <td>buy</td>\n",
       "      <td>4262</td>\n",
       "      <td>370203</td>\n",
       "    </tr>\n",
       "    <tr>\n",
       "      <th>3</th>\n",
       "      <td>623496</td>\n",
       "      <td>1493810730</td>\n",
       "      <td>buy</td>\n",
       "      <td>4262</td>\n",
       "      <td>370203</td>\n",
       "    </tr>\n",
       "    <tr>\n",
       "      <th>4</th>\n",
       "      <td>1099015</td>\n",
       "      <td>1493774927</td>\n",
       "      <td>buy</td>\n",
       "      <td>9390</td>\n",
       "      <td>347564</td>\n",
       "    </tr>\n",
       "  </tbody>\n",
       "</table>\n",
       "</div>"
      ],
      "text/plain": [
       "      user  time_stamp btag  cate   brand\n",
       "0   916958  1493811673  buy   123   97176\n",
       "1   916958  1493811809  buy   123   97176\n",
       "2   628854  1493781424  buy  4262  370203\n",
       "3   623496  1493810730  buy  4262  370203\n",
       "4  1099015  1493774927  buy  9390  347564"
      ]
     },
     "execution_count": 46,
     "metadata": {},
     "output_type": "execute_result"
    }
   ],
   "source": [
    "buy_behavior = pd.read_csv('buy_behavior_log.csv')\n",
    "number_of_queries = buy_behavior.shape[0]\n",
    "unique_brands = buy_behavior[\"brand\"].unique()\n",
    "unique_users = buy_behavior[\"user\"].unique()\n",
    "\n",
    "print(len(unique_brands))\n",
    "print(len(unique_users))\n",
    "print(number_of_queries)\n",
    "\n",
    "buy_behavior.head(5)"
   ]
  },
  {
   "cell_type": "code",
   "execution_count": 47,
   "id": "a1858d75",
   "metadata": {
    "scrolled": true
   },
   "outputs": [
    {
     "data": {
      "text/html": [
       "<div>\n",
       "<style scoped>\n",
       "    .dataframe tbody tr th:only-of-type {\n",
       "        vertical-align: middle;\n",
       "    }\n",
       "\n",
       "    .dataframe tbody tr th {\n",
       "        vertical-align: top;\n",
       "    }\n",
       "\n",
       "    .dataframe thead th {\n",
       "        text-align: right;\n",
       "    }\n",
       "</style>\n",
       "<table border=\"1\" class=\"dataframe\">\n",
       "  <thead>\n",
       "    <tr style=\"text-align: right;\">\n",
       "      <th></th>\n",
       "      <th>userid</th>\n",
       "      <th>cms_segid</th>\n",
       "      <th>cms_group_id</th>\n",
       "      <th>final_gender_code</th>\n",
       "      <th>age_level</th>\n",
       "      <th>pvalue_level</th>\n",
       "      <th>shopping_level</th>\n",
       "      <th>occupation</th>\n",
       "      <th>new_user_class_level</th>\n",
       "    </tr>\n",
       "  </thead>\n",
       "  <tbody>\n",
       "    <tr>\n",
       "      <th>0</th>\n",
       "      <td>234</td>\n",
       "      <td>0</td>\n",
       "      <td>5</td>\n",
       "      <td>2</td>\n",
       "      <td>5</td>\n",
       "      <td>NaN</td>\n",
       "      <td>3</td>\n",
       "      <td>0</td>\n",
       "      <td>3.0</td>\n",
       "    </tr>\n",
       "    <tr>\n",
       "      <th>1</th>\n",
       "      <td>523</td>\n",
       "      <td>5</td>\n",
       "      <td>2</td>\n",
       "      <td>2</td>\n",
       "      <td>2</td>\n",
       "      <td>1.0</td>\n",
       "      <td>3</td>\n",
       "      <td>1</td>\n",
       "      <td>2.0</td>\n",
       "    </tr>\n",
       "    <tr>\n",
       "      <th>2</th>\n",
       "      <td>612</td>\n",
       "      <td>0</td>\n",
       "      <td>8</td>\n",
       "      <td>1</td>\n",
       "      <td>2</td>\n",
       "      <td>2.0</td>\n",
       "      <td>3</td>\n",
       "      <td>0</td>\n",
       "      <td>NaN</td>\n",
       "    </tr>\n",
       "    <tr>\n",
       "      <th>3</th>\n",
       "      <td>1670</td>\n",
       "      <td>0</td>\n",
       "      <td>4</td>\n",
       "      <td>2</td>\n",
       "      <td>4</td>\n",
       "      <td>NaN</td>\n",
       "      <td>1</td>\n",
       "      <td>0</td>\n",
       "      <td>NaN</td>\n",
       "    </tr>\n",
       "    <tr>\n",
       "      <th>4</th>\n",
       "      <td>2545</td>\n",
       "      <td>0</td>\n",
       "      <td>10</td>\n",
       "      <td>1</td>\n",
       "      <td>4</td>\n",
       "      <td>NaN</td>\n",
       "      <td>3</td>\n",
       "      <td>0</td>\n",
       "      <td>NaN</td>\n",
       "    </tr>\n",
       "  </tbody>\n",
       "</table>\n",
       "</div>"
      ],
      "text/plain": [
       "   userid  cms_segid  cms_group_id  final_gender_code  age_level  \\\n",
       "0     234          0             5                  2          5   \n",
       "1     523          5             2                  2          2   \n",
       "2     612          0             8                  1          2   \n",
       "3    1670          0             4                  2          4   \n",
       "4    2545          0            10                  1          4   \n",
       "\n",
       "   pvalue_level  shopping_level  occupation  new_user_class_level   \n",
       "0           NaN               3           0                    3.0  \n",
       "1           1.0               3           1                    2.0  \n",
       "2           2.0               3           0                    NaN  \n",
       "3           NaN               1           0                    NaN  \n",
       "4           NaN               3           0                    NaN  "
      ]
     },
     "execution_count": 47,
     "metadata": {},
     "output_type": "execute_result"
    }
   ],
   "source": [
    "user_profile = pd.read_csv('user_profile.csv')\n",
    "\n",
    "user_profile.head(5)"
   ]
  },
  {
   "cell_type": "code",
   "execution_count": 48,
   "id": "25f567f5",
   "metadata": {},
   "outputs": [
    {
     "name": "stdout",
     "output_type": "stream",
     "text": [
      "           user  time_stamp btag  cate   brand  userid  cms_segid  \\\n",
      "0        916958  1493811673  buy   123   97176  916958         33   \n",
      "1        916958  1493811809  buy   123   97176  916958         33   \n",
      "2        916958  1494055722  buy  4267  178847  916958         33   \n",
      "3        916958  1494037918  buy   123   97176  916958         33   \n",
      "4        916958  1493811673  buy   123   97176  916958         33   \n",
      "...         ...         ...  ...   ...     ...     ...        ...   \n",
      "8825410  319183  1493526092  buy  2505  412044  319183         92   \n",
      "8825411  889393  1493567745  buy  6181  264201  889393         60   \n",
      "8825412  401828  1493532067  buy  1892  398556  401828          0   \n",
      "8825413  614980  1493525415  buy  8998  224985  614980          0   \n",
      "8825414  614980  1493525641  buy  8998  224985  614980          0   \n",
      "\n",
      "         cms_group_id  final_gender_code  age_level  pvalue_level  \\\n",
      "0                   4                  2          4           2.0   \n",
      "1                   4                  2          4           2.0   \n",
      "2                   4                  2          4           2.0   \n",
      "3                   4                  2          4           2.0   \n",
      "4                   4                  2          4           2.0   \n",
      "...               ...                ...        ...           ...   \n",
      "8825410            11                  1          5           2.0   \n",
      "8825411             9                  1          3           1.0   \n",
      "8825412             2                  2          2           NaN   \n",
      "8825413             4                  2          4           NaN   \n",
      "8825414             4                  2          4           NaN   \n",
      "\n",
      "         shopping_level  occupation  new_user_class_level   \n",
      "0                     3           0                    2.0  \n",
      "1                     3           0                    2.0  \n",
      "2                     3           0                    2.0  \n",
      "3                     3           0                    2.0  \n",
      "4                     3           0                    2.0  \n",
      "...                 ...         ...                    ...  \n",
      "8825410               3           0                    3.0  \n",
      "8825411               2           0                    2.0  \n",
      "8825412               3           0                    NaN  \n",
      "8825413               1           0                    NaN  \n",
      "8825414               1           0                    NaN  \n",
      "\n",
      "[8825415 rows x 14 columns]\n"
     ]
    }
   ],
   "source": [
    "# Merge the top_5_buy_behavior and user_profile dataframes on the 'userid' column\n",
    "merged_df = pd.merge(buy_behavior, user_profile, left_on='user', right_on='userid')\n",
    "print(merged_df)"
   ]
  },
  {
   "cell_type": "code",
   "execution_count": 49,
   "id": "4141eab0",
   "metadata": {},
   "outputs": [],
   "source": [
    "def analysis(data, sensitive_attribute_val, analysis_val):\n",
    "    \n",
    "    attribute_mapping = {1: 'final_gender_code', 2: 'age_level', 3: 'pvalue_level', 4: 'occupation'}\n",
    "    sensitive_attribute = attribute_mapping[sensitive_attribute_val]\n",
    "    \n",
    "    brand_mapping = {1: 'brand', 2: 'brand_combined'}\n",
    "    analysis_str = brand_mapping[analysis_val]\n",
    "    \n",
    "    # Group the merged dataframe by the 'brand' and 'pvalue_level' columns and get the count of each group\n",
    "    grouped_df = data.groupby([analysis_str, sensitive_attribute], as_index=False).count()[[analysis_str, sensitive_attribute, 'user']]\n",
    "\n",
    "    # Pivot the grouped dataframe to create a pivot table with the 'brand' column as the index, the 'pvalue_level' column as the columns and the 'user' column as the values\n",
    "    pivot_table = grouped_df.pivot(index=analysis_str, columns=sensitive_attribute, values='user')\n",
    "    pivot_table = pivot_table.fillna(0)\n",
    "    \n",
    "    # Get the total number of users for each gender\n",
    "    brand_totals = pivot_table.sum(axis=1)\n",
    "\n",
    "    # Divide the values in the pivot table by the gender totals and multiply by 100 to get the percent values\n",
    "    percent_table = (pivot_table / brand_totals.values.reshape(-1, 1)) * 100\n",
    "    percent_table = percent_table.fillna(0)\n",
    "    percent_table = percent_table.round(2)\n",
    "\n",
    "    # Find ambiguity value by subtracting max frequency from 100 in each row\n",
    "    ambiguity_values = 100 - percent_table.max(axis=1)\n",
    "\n",
    "    # Create new dataframe with brand and ambiguity value\n",
    "    ambiguity_table = pd.DataFrame({analysis_str: percent_table.index, 'ambiguity': ambiguity_values.round(2)}).reset_index(drop=True)\n",
    "\n",
    "    # Display the new dataframe\n",
    "\n",
    "    amb_dict = dict(ambiguity_table['ambiguity'].value_counts())\n",
    "\n",
    "    # Sort the dictionary items by their keys\n",
    "    ambiguity_dict_attribute = dict(sorted(amb_dict.items(), key=lambda x: x[0]))\n",
    "\n",
    "    ambiguity_users = {}\n",
    "\n",
    "    for index, row in ambiguity_table.iterrows():\n",
    "        brand = row[analysis_str]\n",
    "        ambiguity_value = row['ambiguity']\n",
    "        pivot_row = pivot_table.loc[brand]\n",
    "        total_users = int(pivot_row.sum())\n",
    "\n",
    "        if ambiguity_value in ambiguity_users:\n",
    "            ambiguity_users[ambiguity_value] += total_users\n",
    "\n",
    "        else:\n",
    "            ambiguity_users[ambiguity_value] = total_users\n",
    "\n",
    "    ambiguity_users = dict(sorted(ambiguity_users.items(), key=lambda x: x[0]))\n",
    "    \n",
    "    return pivot_table, ambiguity_dict_attribute, ambiguity_users\n",
    "\n",
    "\n",
    "    "
   ]
  },
  {
   "cell_type": "code",
   "execution_count": 50,
   "id": "3a531e6c",
   "metadata": {},
   "outputs": [],
   "source": [
    "def count_users_ambiguity_less_than_one(ambiguity_user_values):\n",
    "    count = 0\n",
    "    for ambiguity_value, num_users in ambiguity_user_values.items():\n",
    "        if ambiguity_value < 1.00:\n",
    "            count += num_users\n",
    "    return count\n",
    "\n"
   ]
  },
  {
   "cell_type": "code",
   "execution_count": 51,
   "id": "e470e79c",
   "metadata": {},
   "outputs": [],
   "source": [
    "####### Performing all the single brands Analysis ########"
   ]
  },
  {
   "cell_type": "code",
   "execution_count": null,
   "id": "e94b02d0",
   "metadata": {},
   "outputs": [],
   "source": []
  },
  {
   "cell_type": "code",
   "execution_count": 52,
   "id": "db42e2bb",
   "metadata": {},
   "outputs": [],
   "source": [
    "####### Gender Analysis ########\n",
    "# gender 1 for male , 2 for female"
   ]
  },
  {
   "cell_type": "code",
   "execution_count": 53,
   "id": "f2067231",
   "metadata": {},
   "outputs": [
    {
     "data": {
      "image/png": "[encoded data removed]",
      "text/plain": [
       "<Figure size 432x288 with 1 Axes>"
      ]
     },
     "metadata": {
      "needs_background": "light"
     },
     "output_type": "display_data"
    }
   ],
   "source": [
    "pivot_table_gender, ambiguity_dict_gender, ambiguity_users_gender = analysis(merged_df, 1, 1)\n",
    "\n",
    "x_values = list(ambiguity_dict_gender.keys())\n",
    "y_values = list(ambiguity_dict_gender.values())\n",
    "\n",
    "# Create a histogram with 10 bins\n",
    "plt.hist(x_values, bins=100, weights=y_values)\n",
    "\n",
    "# Add axis labels and a title\n",
    "plt.xlabel('Ambiguity about Gender groups using Single brands')\n",
    "plt.ylabel('Distribution of brands')\n",
    "plt.title('Ambiguity Distribution for gender')\n",
    "\n",
    "# Show the plot\n",
    "plt.show()"
   ]
  },
  {
   "cell_type": "code",
   "execution_count": 54,
   "id": "6b302ef9",
   "metadata": {},
   "outputs": [
    {
     "name": "stdout",
     "output_type": "stream",
     "text": [
      "262812\n"
     ]
    },
    {
     "data": {
      "image/png": "[encoded data removed]",
      "text/plain": [
       "<Figure size 432x288 with 1 Axes>"
      ]
     },
     "metadata": {
      "needs_background": "light"
     },
     "output_type": "display_data"
    }
   ],
   "source": [
    "# `ambiguity_dict` is the sorted dictionary you created earlier\n",
    "x_values = list(ambiguity_users_gender.keys())\n",
    "y_values = list(ambiguity_users_gender.values())\n",
    "print(count_users_ambiguity_less_than_one(ambiguity_users_gender))\n",
    "\n",
    "# Create a histogram with 10 bins\n",
    "plt.hist(x_values, bins=10, weights=y_values)\n",
    "\n",
    "plt.xlabel('Ambiguity of Gender using Single brands')\n",
    "plt.ylabel('Number of users')\n",
    "plt.title('Ambiguity Value Distribution for gender')\n",
    "plt.show()"
   ]
  },
  {
   "cell_type": "code",
   "execution_count": null,
   "id": "08402833",
   "metadata": {},
   "outputs": [],
   "source": []
  },
  {
   "cell_type": "code",
   "execution_count": 55,
   "id": "4c1bdb11",
   "metadata": {},
   "outputs": [],
   "source": [
    "######## Age Analysis #########\n",
    "# 7 age groups"
   ]
  },
  {
   "cell_type": "code",
   "execution_count": 56,
   "id": "ebfa9a63",
   "metadata": {},
   "outputs": [
    {
     "data": {
      "image/png": "[encoded data removed]",
      "text/plain": [
       "<Figure size 432x288 with 1 Axes>"
      ]
     },
     "metadata": {
      "needs_background": "light"
     },
     "output_type": "display_data"
    }
   ],
   "source": [
    "pivot_table_age, ambiguity_dict_age, ambiguity_users_age = analysis(merged_df, 2, 1)\n",
    "x_values = list(ambiguity_dict_age.keys())\n",
    "y_values = list(ambiguity_dict_age.values())\n",
    "\n",
    "# Create a histogram with 10 bins\n",
    "plt.hist(x_values, bins=100, weights=y_values)\n",
    "\n",
    "# Add axis labels and a title\n",
    "plt.xlabel('Ambiguity about Age groups using Single brands')\n",
    "plt.ylabel('Distribution of brands')\n",
    "plt.title('Ambiguity Distribution for Age')\n",
    "\n",
    "# Show the plot\n",
    "plt.show()"
   ]
  },
  {
   "cell_type": "code",
   "execution_count": 57,
   "id": "12c34343",
   "metadata": {},
   "outputs": [
    {
     "name": "stdout",
     "output_type": "stream",
     "text": [
      "108798\n"
     ]
    },
    {
     "data": {
      "image/png": "[encoded data removed]",
      "text/plain": [
       "<Figure size 432x288 with 1 Axes>"
      ]
     },
     "metadata": {
      "needs_background": "light"
     },
     "output_type": "display_data"
    }
   ],
   "source": [
    "# `ambiguity_dict` is the sorted dictionary you created earlier\n",
    "x_values = list(ambiguity_users_age.keys())\n",
    "y_values = list(ambiguity_users_age.values())\n",
    "print(count_users_ambiguity_less_than_one(ambiguity_users_age))\n",
    "\n",
    "# Create a histogram with 10 bins\n",
    "plt.hist(x_values, bins=10, weights=y_values)\n",
    "\n",
    "plt.xlabel('Ambiguity of Age using Single brands')\n",
    "plt.ylabel('Number of users')\n",
    "plt.title('Ambiguity Value Distribution for age')\n",
    "plt.show()"
   ]
  },
  {
   "cell_type": "code",
   "execution_count": null,
   "id": "b7f460e0",
   "metadata": {},
   "outputs": [],
   "source": []
  },
  {
   "cell_type": "code",
   "execution_count": 58,
   "id": "c04bcb60",
   "metadata": {},
   "outputs": [],
   "source": [
    "###### pvalue_level ######"
   ]
  },
  {
   "cell_type": "code",
   "execution_count": 59,
   "id": "a9b488ec",
   "metadata": {},
   "outputs": [
    {
     "data": {
      "image/png": "[encoded data removed]",
      "text/plain": [
       "<Figure size 432x288 with 1 Axes>"
      ]
     },
     "metadata": {
      "needs_background": "light"
     },
     "output_type": "display_data"
    }
   ],
   "source": [
    "pivot_table_pval, ambiguity_dict_pval, ambiguity_users_pval = analysis(merged_df, 3, 1)\n",
    "x_values = list(ambiguity_dict_pval.keys())\n",
    "y_values = list(ambiguity_dict_pval.values())\n",
    "\n",
    "# Create a histogram with 10 bins\n",
    "plt.hist(x_values, bins=100, weights=y_values)\n",
    "\n",
    "# Add axis labels and a title\n",
    "plt.xlabel('Ambiguity about Pvalue/Consumption groups using Single brands')\n",
    "plt.ylabel('Distribution of brands')\n",
    "plt.title('Ambiguity Distribution for Pvalue')\n",
    "\n",
    "# Show the plot\n",
    "plt.show()"
   ]
  },
  {
   "cell_type": "code",
   "execution_count": 60,
   "id": "a774d35f",
   "metadata": {},
   "outputs": [
    {
     "name": "stdout",
     "output_type": "stream",
     "text": [
      "150761\n"
     ]
    },
    {
     "data": {
      "image/png": "[encoded data removed]",
      "text/plain": [
       "<Figure size 432x288 with 1 Axes>"
      ]
     },
     "metadata": {
      "needs_background": "light"
     },
     "output_type": "display_data"
    }
   ],
   "source": [
    "# `ambiguity_dict` is the sorted dictionary you created earlier\n",
    "x_values = list(ambiguity_users_pval.keys())\n",
    "y_values = list(ambiguity_users_pval.values())\n",
    "print(count_users_ambiguity_less_than_one(ambiguity_users_pval))\n",
    "\n",
    "# Create a histogram with 10 bins\n",
    "plt.hist(x_values, bins=10, weights=y_values)\n",
    "\n",
    "plt.xlabel('Ambiguity of Pvalue/Consumption groups using Single brands')\n",
    "plt.ylabel('Number of users')\n",
    "plt.title('Ambiguity Value Distribution for Pvalue')\n",
    "plt.show()"
   ]
  },
  {
   "cell_type": "code",
   "execution_count": null,
   "id": "3a0abec9",
   "metadata": {},
   "outputs": [],
   "source": []
  },
  {
   "cell_type": "code",
   "execution_count": 61,
   "id": "48fe04dc",
   "metadata": {},
   "outputs": [
    {
     "data": {
      "image/png": "[encoded data removed]",
      "text/plain": [
       "<Figure size 432x288 with 1 Axes>"
      ]
     },
     "metadata": {
      "needs_background": "light"
     },
     "output_type": "display_data"
    }
   ],
   "source": [
    "###### occupation ######\n",
    "# Is the college student 1: yes, 0: no?\n",
    "\n",
    "pivot_table_occup, ambiguity_dict_occup, ambiguity_users_occup = analysis(merged_df, 4, 1)\n",
    "x_values = list(ambiguity_dict_occup.keys())\n",
    "y_values = list(ambiguity_dict_occup.values())\n",
    "\n",
    "# Create a histogram with 10 bins\n",
    "plt.hist(x_values, bins=100, weights=y_values)\n",
    "\n",
    "# Add axis labels and a title\n",
    "plt.xlabel('Ambiguity about Occupation groups using Single brands')\n",
    "plt.ylabel('Distribution of brands')\n",
    "plt.title('Ambiguity Distribution for Occupation')\n",
    "\n",
    "# Show the plot\n",
    "plt.show()"
   ]
  },
  {
   "cell_type": "code",
   "execution_count": 62,
   "id": "f5a9ff75",
   "metadata": {},
   "outputs": [
    {
     "name": "stdout",
     "output_type": "stream",
     "text": [
      "1932625\n"
     ]
    },
    {
     "data": {
      "image/png": "[encoded data removed]",
      "text/plain": [
       "<Figure size 432x288 with 1 Axes>"
      ]
     },
     "metadata": {
      "needs_background": "light"
     },
     "output_type": "display_data"
    }
   ],
   "source": [
    "# `ambiguity_dict` is the sorted dictionary you created earlier\n",
    "x_values = list(ambiguity_users_occup.keys())\n",
    "y_values = list(ambiguity_users_occup.values())\n",
    "print(count_users_ambiguity_less_than_one(ambiguity_users_occup))\n",
    "\n",
    "# Create a histogram with 10 bins\n",
    "plt.hist(x_values, bins=10, weights=y_values)\n",
    "\n",
    "plt.xlabel('Ambiguity of Occupation groups using Single brands')\n",
    "plt.ylabel('Number of users')\n",
    "plt.title('Ambiguity Value Distribution for Occupation')\n",
    "plt.show()"
   ]
  },
  {
   "cell_type": "code",
   "execution_count": null,
   "id": "c9bf4e2b",
   "metadata": {},
   "outputs": [],
   "source": []
  },
  {
   "cell_type": "code",
   "execution_count": null,
   "id": "7e6baaa6",
   "metadata": {},
   "outputs": [],
   "source": []
  },
  {
   "cell_type": "code",
   "execution_count": 63,
   "id": "795f7687",
   "metadata": {},
   "outputs": [],
   "source": [
    "######### Intersection Sensitive Attribute Attack ##########"
   ]
  },
  {
   "cell_type": "code",
   "execution_count": 64,
   "id": "79483332",
   "metadata": {
    "scrolled": true
   },
   "outputs": [
    {
     "name": "stdout",
     "output_type": "stream",
     "text": [
      "61823\n",
      "144148\n",
      "400000\n"
     ]
    },
    {
     "data": {
      "text/html": [
       "<div>\n",
       "<style scoped>\n",
       "    .dataframe tbody tr th:only-of-type {\n",
       "        vertical-align: middle;\n",
       "    }\n",
       "\n",
       "    .dataframe tbody tr th {\n",
       "        vertical-align: top;\n",
       "    }\n",
       "\n",
       "    .dataframe thead th {\n",
       "        text-align: right;\n",
       "    }\n",
       "</style>\n",
       "<table border=\"1\" class=\"dataframe\">\n",
       "  <thead>\n",
       "    <tr style=\"text-align: right;\">\n",
       "      <th></th>\n",
       "      <th>user</th>\n",
       "      <th>time_stamp</th>\n",
       "      <th>btag</th>\n",
       "      <th>cate</th>\n",
       "      <th>brand</th>\n",
       "    </tr>\n",
       "  </thead>\n",
       "  <tbody>\n",
       "    <tr>\n",
       "      <th>0</th>\n",
       "      <td>916958</td>\n",
       "      <td>1493811673</td>\n",
       "      <td>buy</td>\n",
       "      <td>123</td>\n",
       "      <td>97176</td>\n",
       "    </tr>\n",
       "    <tr>\n",
       "      <th>1</th>\n",
       "      <td>916958</td>\n",
       "      <td>1493811809</td>\n",
       "      <td>buy</td>\n",
       "      <td>123</td>\n",
       "      <td>97176</td>\n",
       "    </tr>\n",
       "    <tr>\n",
       "      <th>2</th>\n",
       "      <td>628854</td>\n",
       "      <td>1493781424</td>\n",
       "      <td>buy</td>\n",
       "      <td>4262</td>\n",
       "      <td>370203</td>\n",
       "    </tr>\n",
       "    <tr>\n",
       "      <th>3</th>\n",
       "      <td>623496</td>\n",
       "      <td>1493810730</td>\n",
       "      <td>buy</td>\n",
       "      <td>4262</td>\n",
       "      <td>370203</td>\n",
       "    </tr>\n",
       "    <tr>\n",
       "      <th>4</th>\n",
       "      <td>1099015</td>\n",
       "      <td>1493774927</td>\n",
       "      <td>buy</td>\n",
       "      <td>9390</td>\n",
       "      <td>347564</td>\n",
       "    </tr>\n",
       "  </tbody>\n",
       "</table>\n",
       "</div>"
      ],
      "text/plain": [
       "      user  time_stamp btag  cate   brand\n",
       "0   916958  1493811673  buy   123   97176\n",
       "1   916958  1493811809  buy   123   97176\n",
       "2   628854  1493781424  buy  4262  370203\n",
       "3   623496  1493810730  buy  4262  370203\n",
       "4  1099015  1493774927  buy  9390  347564"
      ]
     },
     "execution_count": 64,
     "metadata": {},
     "output_type": "execute_result"
    }
   ],
   "source": [
    "\n",
    "buy_behavior_combined = pd.read_csv('taobao_dataset_with_orders_male.csv')\n",
    "number_of_queries = buy_behavior_combined.shape[0]\n",
    "unique_brands = buy_behavior_combined[\"brand\"].unique()\n",
    "unique_users = buy_behavior_combined[\"user\"].unique()\n",
    "\n",
    "print(len(unique_brands))\n",
    "print(len(unique_users))\n",
    "print(number_of_queries)\n",
    "\n",
    "buy_behavior.head(5)\n",
    "\n",
    "\n"
   ]
  },
  {
   "cell_type": "code",
   "execution_count": 65,
   "id": "5758aeee",
   "metadata": {},
   "outputs": [
    {
     "ename": "KeyError",
     "evalue": "\"['userid'] not found in axis\"",
     "output_type": "error",
     "traceback": [
      "\u001b[1;31m---------------------------------------------------------------------------\u001b[0m",
      "\u001b[1;31mKeyError\u001b[0m                                  Traceback (most recent call last)",
      "\u001b[1;32m<ipython-input-65-9bc2b8209220>\u001b[0m in \u001b[0;36m<module>\u001b[1;34m\u001b[0m\n\u001b[0;32m     63\u001b[0m \u001b[0mmerged_data\u001b[0m \u001b[1;33m=\u001b[0m \u001b[0mpd\u001b[0m\u001b[1;33m.\u001b[0m\u001b[0mmerge\u001b[0m\u001b[1;33m(\u001b[0m\u001b[0mtop_brands_data\u001b[0m\u001b[1;33m,\u001b[0m \u001b[0muser_profile\u001b[0m\u001b[1;33m,\u001b[0m \u001b[0mleft_on\u001b[0m\u001b[1;33m=\u001b[0m\u001b[1;34m'user'\u001b[0m\u001b[1;33m,\u001b[0m \u001b[0mright_on\u001b[0m\u001b[1;33m=\u001b[0m\u001b[1;34m'userid'\u001b[0m\u001b[1;33m)\u001b[0m\u001b[1;33m\u001b[0m\u001b[1;33m\u001b[0m\u001b[0m\n\u001b[0;32m     64\u001b[0m \u001b[1;31m# Drop the 'userid' column since it contains the same values as 'user'\u001b[0m\u001b[1;33m\u001b[0m\u001b[1;33m\u001b[0m\u001b[1;33m\u001b[0m\u001b[0m\n\u001b[1;32m---> 65\u001b[1;33m \u001b[0mmerged_data\u001b[0m \u001b[1;33m=\u001b[0m \u001b[0mmerged_data\u001b[0m\u001b[1;33m.\u001b[0m\u001b[0mdrop\u001b[0m\u001b[1;33m(\u001b[0m\u001b[1;34m'userid'\u001b[0m\u001b[1;33m,\u001b[0m \u001b[0maxis\u001b[0m\u001b[1;33m=\u001b[0m\u001b[1;36m1\u001b[0m\u001b[1;33m)\u001b[0m\u001b[1;33m\u001b[0m\u001b[1;33m\u001b[0m\u001b[0m\n\u001b[0m\u001b[0;32m     66\u001b[0m \u001b[0mprint\u001b[0m\u001b[1;33m(\u001b[0m\u001b[0mmerged_data\u001b[0m\u001b[1;33m)\u001b[0m\u001b[1;33m\u001b[0m\u001b[1;33m\u001b[0m\u001b[0m\n\u001b[0;32m     67\u001b[0m \u001b[1;33m\u001b[0m\u001b[0m\n",
      "\u001b[1;32m~\\anaconda3\\lib\\site-packages\\pandas\\core\\frame.py\u001b[0m in \u001b[0;36mdrop\u001b[1;34m(self, labels, axis, index, columns, level, inplace, errors)\u001b[0m\n\u001b[0;32m   4306\u001b[0m                 \u001b[0mweight\u001b[0m  \u001b[1;36m1.0\u001b[0m     \u001b[1;36m0.8\u001b[0m\u001b[1;33m\u001b[0m\u001b[1;33m\u001b[0m\u001b[0m\n\u001b[0;32m   4307\u001b[0m         \"\"\"\n\u001b[1;32m-> 4308\u001b[1;33m         return super().drop(\n\u001b[0m\u001b[0;32m   4309\u001b[0m             \u001b[0mlabels\u001b[0m\u001b[1;33m=\u001b[0m\u001b[0mlabels\u001b[0m\u001b[1;33m,\u001b[0m\u001b[1;33m\u001b[0m\u001b[1;33m\u001b[0m\u001b[0m\n\u001b[0;32m   4310\u001b[0m             \u001b[0maxis\u001b[0m\u001b[1;33m=\u001b[0m\u001b[0maxis\u001b[0m\u001b[1;33m,\u001b[0m\u001b[1;33m\u001b[0m\u001b[1;33m\u001b[0m\u001b[0m\n",
      "\u001b[1;32m~\\anaconda3\\lib\\site-packages\\pandas\\core\\generic.py\u001b[0m in \u001b[0;36mdrop\u001b[1;34m(self, labels, axis, index, columns, level, inplace, errors)\u001b[0m\n\u001b[0;32m   4151\u001b[0m         \u001b[1;32mfor\u001b[0m \u001b[0maxis\u001b[0m\u001b[1;33m,\u001b[0m \u001b[0mlabels\u001b[0m \u001b[1;32min\u001b[0m \u001b[0maxes\u001b[0m\u001b[1;33m.\u001b[0m\u001b[0mitems\u001b[0m\u001b[1;33m(\u001b[0m\u001b[1;33m)\u001b[0m\u001b[1;33m:\u001b[0m\u001b[1;33m\u001b[0m\u001b[1;33m\u001b[0m\u001b[0m\n\u001b[0;32m   4152\u001b[0m             \u001b[1;32mif\u001b[0m \u001b[0mlabels\u001b[0m \u001b[1;32mis\u001b[0m \u001b[1;32mnot\u001b[0m \u001b[1;32mNone\u001b[0m\u001b[1;33m:\u001b[0m\u001b[1;33m\u001b[0m\u001b[1;33m\u001b[0m\u001b[0m\n\u001b[1;32m-> 4153\u001b[1;33m                 \u001b[0mobj\u001b[0m \u001b[1;33m=\u001b[0m \u001b[0mobj\u001b[0m\u001b[1;33m.\u001b[0m\u001b[0m_drop_axis\u001b[0m\u001b[1;33m(\u001b[0m\u001b[0mlabels\u001b[0m\u001b[1;33m,\u001b[0m \u001b[0maxis\u001b[0m\u001b[1;33m,\u001b[0m \u001b[0mlevel\u001b[0m\u001b[1;33m=\u001b[0m\u001b[0mlevel\u001b[0m\u001b[1;33m,\u001b[0m \u001b[0merrors\u001b[0m\u001b[1;33m=\u001b[0m\u001b[0merrors\u001b[0m\u001b[1;33m)\u001b[0m\u001b[1;33m\u001b[0m\u001b[1;33m\u001b[0m\u001b[0m\n\u001b[0m\u001b[0;32m   4154\u001b[0m \u001b[1;33m\u001b[0m\u001b[0m\n\u001b[0;32m   4155\u001b[0m         \u001b[1;32mif\u001b[0m \u001b[0minplace\u001b[0m\u001b[1;33m:\u001b[0m\u001b[1;33m\u001b[0m\u001b[1;33m\u001b[0m\u001b[0m\n",
      "\u001b[1;32m~\\anaconda3\\lib\\site-packages\\pandas\\core\\generic.py\u001b[0m in \u001b[0;36m_drop_axis\u001b[1;34m(self, labels, axis, level, errors)\u001b[0m\n\u001b[0;32m   4186\u001b[0m                 \u001b[0mnew_axis\u001b[0m \u001b[1;33m=\u001b[0m \u001b[0maxis\u001b[0m\u001b[1;33m.\u001b[0m\u001b[0mdrop\u001b[0m\u001b[1;33m(\u001b[0m\u001b[0mlabels\u001b[0m\u001b[1;33m,\u001b[0m \u001b[0mlevel\u001b[0m\u001b[1;33m=\u001b[0m\u001b[0mlevel\u001b[0m\u001b[1;33m,\u001b[0m \u001b[0merrors\u001b[0m\u001b[1;33m=\u001b[0m\u001b[0merrors\u001b[0m\u001b[1;33m)\u001b[0m\u001b[1;33m\u001b[0m\u001b[1;33m\u001b[0m\u001b[0m\n\u001b[0;32m   4187\u001b[0m             \u001b[1;32melse\u001b[0m\u001b[1;33m:\u001b[0m\u001b[1;33m\u001b[0m\u001b[1;33m\u001b[0m\u001b[0m\n\u001b[1;32m-> 4188\u001b[1;33m                 \u001b[0mnew_axis\u001b[0m \u001b[1;33m=\u001b[0m \u001b[0maxis\u001b[0m\u001b[1;33m.\u001b[0m\u001b[0mdrop\u001b[0m\u001b[1;33m(\u001b[0m\u001b[0mlabels\u001b[0m\u001b[1;33m,\u001b[0m \u001b[0merrors\u001b[0m\u001b[1;33m=\u001b[0m\u001b[0merrors\u001b[0m\u001b[1;33m)\u001b[0m\u001b[1;33m\u001b[0m\u001b[1;33m\u001b[0m\u001b[0m\n\u001b[0m\u001b[0;32m   4189\u001b[0m             \u001b[0mresult\u001b[0m \u001b[1;33m=\u001b[0m \u001b[0mself\u001b[0m\u001b[1;33m.\u001b[0m\u001b[0mreindex\u001b[0m\u001b[1;33m(\u001b[0m\u001b[1;33m**\u001b[0m\u001b[1;33m{\u001b[0m\u001b[0maxis_name\u001b[0m\u001b[1;33m:\u001b[0m \u001b[0mnew_axis\u001b[0m\u001b[1;33m}\u001b[0m\u001b[1;33m)\u001b[0m\u001b[1;33m\u001b[0m\u001b[1;33m\u001b[0m\u001b[0m\n\u001b[0;32m   4190\u001b[0m \u001b[1;33m\u001b[0m\u001b[0m\n",
      "\u001b[1;32m~\\anaconda3\\lib\\site-packages\\pandas\\core\\indexes\\base.py\u001b[0m in \u001b[0;36mdrop\u001b[1;34m(self, labels, errors)\u001b[0m\n\u001b[0;32m   5589\u001b[0m         \u001b[1;32mif\u001b[0m \u001b[0mmask\u001b[0m\u001b[1;33m.\u001b[0m\u001b[0many\u001b[0m\u001b[1;33m(\u001b[0m\u001b[1;33m)\u001b[0m\u001b[1;33m:\u001b[0m\u001b[1;33m\u001b[0m\u001b[1;33m\u001b[0m\u001b[0m\n\u001b[0;32m   5590\u001b[0m             \u001b[1;32mif\u001b[0m \u001b[0merrors\u001b[0m \u001b[1;33m!=\u001b[0m \u001b[1;34m\"ignore\"\u001b[0m\u001b[1;33m:\u001b[0m\u001b[1;33m\u001b[0m\u001b[1;33m\u001b[0m\u001b[0m\n\u001b[1;32m-> 5591\u001b[1;33m                 \u001b[1;32mraise\u001b[0m \u001b[0mKeyError\u001b[0m\u001b[1;33m(\u001b[0m\u001b[1;34mf\"{labels[mask]} not found in axis\"\u001b[0m\u001b[1;33m)\u001b[0m\u001b[1;33m\u001b[0m\u001b[1;33m\u001b[0m\u001b[0m\n\u001b[0m\u001b[0;32m   5592\u001b[0m             \u001b[0mindexer\u001b[0m \u001b[1;33m=\u001b[0m \u001b[0mindexer\u001b[0m\u001b[1;33m[\u001b[0m\u001b[1;33m~\u001b[0m\u001b[0mmask\u001b[0m\u001b[1;33m]\u001b[0m\u001b[1;33m\u001b[0m\u001b[1;33m\u001b[0m\u001b[0m\n\u001b[0;32m   5593\u001b[0m         \u001b[1;32mreturn\u001b[0m \u001b[0mself\u001b[0m\u001b[1;33m.\u001b[0m\u001b[0mdelete\u001b[0m\u001b[1;33m(\u001b[0m\u001b[0mindexer\u001b[0m\u001b[1;33m)\u001b[0m\u001b[1;33m\u001b[0m\u001b[1;33m\u001b[0m\u001b[0m\n",
      "\u001b[1;31mKeyError\u001b[0m: \"['userid'] not found in axis\""
     ]
    }
   ],
   "source": [
    "brand_combinations = [(93403, 12869),\n",
    "(12869, 370203),\n",
    "(370203, 14983),\n",
    "(77625, 18593),\n",
    "(18593, 124290),\n",
    "(370203, 18593),\n",
    "(392793, 18593),\n",
    "(143597, 18595),\n",
    "(370203, 36241),\n",
    "(38543, 370203),\n",
    "(370203, 49257),\n",
    "(78538, 370203),\n",
    "(370203, 83456),\n",
    "(88078, 370203),\n",
    "(92746, 132243),\n",
    "(93403, 370203),\n",
    "(95766, 370203),\n",
    "(98931, 224985),\n",
    "(98931, 247789),\n",
    "(370203, 98931),\n",
    "(388700, 98931),\n",
    "(103147, 370203),\n",
    "(132243, 124290),\n",
    "(370203, 124290),\n",
    "(392793, 124290),\n",
    "(132243, 129994),\n",
    "(340073, 129994),\n",
    "(132243, 257414),\n",
    "(132243, 313898),\n",
    "(370203, 132353),\n",
    "(143597, 247789),\n",
    "(370203, 143597),\n",
    "(370203, 160582),\n",
    "(370203, 168008),\n",
    "(188059, 370203),\n",
    "(370203, 200935),\n",
    "(370203, 219901),\n",
    "(370203, 224985),\n",
    "(235358, 370203),\n",
    "(370203, 247789),\n",
    "(388700, 247789),\n",
    "(370203, 282953),\n",
    "(370203, 293023),\n",
    "(370203, 336520),\n",
    "(370203, 342760),\n",
    "(388700, 342760),\n",
    "(370203, 353787),\n",
    "(366684, 370203),\n",
    "(376599, 370203),\n",
    "(388700, 370203),\n",
    "(370203, 390518),\n",
    "(370203, 400399),\n",
    "(370203, 425589),\n",
    "(370203, 437724),\n",
    "(388700, 390518),\n",
    "(388700, 425589),\n",
    "(388700, 437724)]\n",
    "\n",
    "unique_brands = sorted(list(set(sum(brand_combinations, ()))))\n",
    "\n",
    "top_brands_data = buy_behavior_combined[buy_behavior_combined['brand'].isin(unique_brands)]\n",
    "\n",
    "merged_data = pd.merge(top_brands_data, user_profile, left_on='user', right_on='userid')\n",
    "# Drop the 'userid' column since it contains the same values as 'user'\n",
    "merged_data = merged_data.drop('userid', axis=1)\n",
    "print(merged_data)\n",
    "\n",
    "\n"
   ]
  },
  {
   "cell_type": "code",
   "execution_count": null,
   "id": "18deb836",
   "metadata": {},
   "outputs": [],
   "source": [
    "##### Top brands Dataset  #####\n",
    "\"\"\"\n",
    "top_brands = buy_behavior['brand'].value_counts().head(100).index.tolist()\n",
    "top_brands_data = buy_behavior[buy_behavior['brand'].isin(top_brands)]\n",
    "\n",
    "number_of_queries = top_brands_data.shape[0]\n",
    "unique_brands = top_brands_data[\"brand\"].unique()\n",
    "unique_users = top_brands_data[\"user\"].unique()\n",
    "\n",
    "print(len(unique_brands))\n",
    "print(len(unique_users))\n",
    "print(number_of_queries)\n",
    "\n",
    "merged_data = pd.merge(top_brands_data, user_profile, left_on='user', right_on='userid')\n",
    "# Drop the 'userid' column since it contains the same values as 'user'\n",
    "merged_data = merged_data.drop('userid', axis=1)\n",
    "merged_data.head(5)\n",
    "\n",
    "brand_combinations = list(itertools.combinations(top_brands, 2))\n",
    "print(len(brand_combinations))\n",
    "\n",
    "\"\"\"\n"
   ]
  },
  {
   "cell_type": "code",
   "execution_count": null,
   "id": "eb7d7574",
   "metadata": {},
   "outputs": [],
   "source": []
  },
  {
   "cell_type": "code",
   "execution_count": null,
   "id": "8e4099b9",
   "metadata": {},
   "outputs": [],
   "source": [
    "import warnings\n",
    "from pandas.core.common import SettingWithCopyWarning\n",
    "\n",
    "warnings.simplefilter(action=\"ignore\", category=SettingWithCopyWarning)\n",
    "\n",
    "\n",
    "result_df = pd.DataFrame(columns=['age_level', 'final_gender_code', 'pvalue_level', 'occupation'])\n",
    "\n",
    "for brand_combo in brand_combinations:\n",
    "    brand1, brand2 = brand_combo\n",
    "    brand_data = merged_data[(merged_data['brand']==brand1) & (merged_data['user'].isin(merged_data[merged_data['brand']==brand2]['user'].tolist()))]\n",
    "    brand_data['brand2'] = brand2\n",
    "    user_data = brand_data[['user','brand', 'brand2', 'age_level', 'final_gender_code', 'pvalue_level', 'occupation']]\n",
    "    result_df = result_df.append(user_data, ignore_index=True)\n",
    "result_df = result_df.drop_duplicates(keep='first')\n",
    "\n",
    "# Combine the brand and brand2 columns into a single column called \"brand_combined\"\n",
    "result_df['brand_combined'] = result_df['brand'].fillna(0).astype(int).astype(str) + '_' + result_df['brand2'].fillna(0).astype(int).astype(str)\n",
    "\n",
    "# Drop the original brand and brand2 columns\n",
    "result_df.drop(['brand', 'brand2'], axis=1, inplace=True)\n",
    "print(result_df)"
   ]
  },
  {
   "cell_type": "code",
   "execution_count": null,
   "id": "6b8e1f47",
   "metadata": {},
   "outputs": [],
   "source": [
    "result_df.to_csv('result_df.csv', index = False)"
   ]
  },
  {
   "cell_type": "code",
   "execution_count": null,
   "id": "82d0a4c3",
   "metadata": {},
   "outputs": [],
   "source": [
    "####### Gender analysis Combined brands #######"
   ]
  },
  {
   "cell_type": "code",
   "execution_count": null,
   "id": "fe3bb1a4",
   "metadata": {},
   "outputs": [],
   "source": [
    "pivot_table_gender, ambiguity_dict_gender, ambiguity_users_gender = analysis(result_df, 1, 2)\n",
    "x_values = list(ambiguity_dict_gender.keys())\n",
    "y_values = list(ambiguity_dict_gender.values())\n",
    "\n",
    "# Create a histogram with 10 bins\n",
    "plt.hist(x_values, bins=100, weights=y_values)\n",
    "\n",
    "# Add axis labels and a title\n",
    "plt.xlabel('Ambiguity about Gender groups using Combination of brands')\n",
    "plt.ylabel('Number of brands')\n",
    "plt.title('Ambiguity Distribution for gender')\n",
    "\n",
    "# Show the plot\n",
    "plt.show()"
   ]
  },
  {
   "cell_type": "code",
   "execution_count": null,
   "id": "9197b25f",
   "metadata": {},
   "outputs": [],
   "source": [
    "# `ambiguity_dict` is the sorted dictionary you created earlier\n",
    "x_values = list(ambiguity_users_gender.keys())\n",
    "y_values = list(ambiguity_users_gender.values())\n",
    "print(count_users_ambiguity_less_than_one(ambiguity_users_gender))\n",
    "\n",
    "# Create a histogram with 10 bins\n",
    "plt.hist(x_values, bins=10, weights=y_values)\n",
    "\n",
    "plt.xlabel('Ambiguity of Gender using Combination of brands')\n",
    "plt.ylabel('Number of users')\n",
    "plt.title('Ambiguity Value Distribution for gender')\n",
    "plt.show()"
   ]
  },
  {
   "cell_type": "code",
   "execution_count": null,
   "id": "d3e19911",
   "metadata": {},
   "outputs": [],
   "source": [
    "pivot_table_gender, ambiguity_dict_gender, ambiguity_users_gender = analysis(merged_data, 1, 1)\n",
    "x_values = list(ambiguity_dict_gender.keys())\n",
    "y_values = list(ambiguity_dict_gender.values())\n",
    "\n",
    "# Create a histogram with 10 bins\n",
    "plt.hist(x_values, bins=100, weights=y_values)\n",
    "\n",
    "# Add axis labels and a title\n",
    "plt.xlabel('Ambiguity about Gender groups using Single brands')\n",
    "plt.ylabel('Number of brands')\n",
    "plt.title('Ambiguity Distribution for gender')\n",
    "\n",
    "# Show the plot\n",
    "plt.show()"
   ]
  },
  {
   "cell_type": "code",
   "execution_count": null,
   "id": "e448ccf4",
   "metadata": {},
   "outputs": [],
   "source": [
    "# `ambiguity_dict` is the sorted dictionary you created earlier\n",
    "x_values = list(ambiguity_users_gender.keys())\n",
    "y_values = list(ambiguity_users_gender.values())\n",
    "print(count_users_ambiguity_less_than_one(ambiguity_users_gender))\n",
    "\n",
    "# Create a histogram with 10 bins\n",
    "plt.hist(x_values, bins=10, weights=y_values)\n",
    "\n",
    "plt.xlabel('Ambiguity of Gender using Single brands')\n",
    "plt.ylabel('Number of users')\n",
    "plt.title('Ambiguity Value Distribution for gender')\n",
    "plt.show()"
   ]
  },
  {
   "cell_type": "code",
   "execution_count": null,
   "id": "6c232fcc",
   "metadata": {},
   "outputs": [],
   "source": []
  },
  {
   "cell_type": "code",
   "execution_count": null,
   "id": "c8563e20",
   "metadata": {},
   "outputs": [],
   "source": []
  },
  {
   "cell_type": "code",
   "execution_count": null,
   "id": "85d5c6b2",
   "metadata": {},
   "outputs": [],
   "source": [
    "######## Age Analysis #########\n",
    "# 7 age groups"
   ]
  },
  {
   "cell_type": "code",
   "execution_count": null,
   "id": "de56768f",
   "metadata": {},
   "outputs": [],
   "source": [
    "pivot_table_age, ambiguity_dict_age, ambiguity_users_age = analysis(result_df, 2, 2)\n",
    "x_values = list(ambiguity_dict_age.keys())\n",
    "y_values = list(ambiguity_dict_age.values())\n",
    "\n",
    "# Create a histogram with 10 bins\n",
    "plt.hist(x_values, bins=100, weights=y_values)\n",
    "\n",
    "# Add axis labels and a title\n",
    "plt.xlabel('Ambiguity about Age groups using Combination of brands')\n",
    "plt.ylabel('Number of brands')\n",
    "plt.title('Ambiguity Distribution for Age')\n",
    "\n",
    "# Show the plot\n",
    "plt.show()"
   ]
  },
  {
   "cell_type": "code",
   "execution_count": null,
   "id": "5e367354",
   "metadata": {},
   "outputs": [],
   "source": [
    "# `ambiguity_dict` is the sorted dictionary you created earlier\n",
    "x_values = list(ambiguity_users_age.keys())\n",
    "y_values = list(ambiguity_users_age.values())\n",
    "print(count_users_ambiguity_less_than_one(ambiguity_users_age))\n",
    "\n",
    "# Create a histogram with 10 bins\n",
    "plt.hist(x_values, bins=10, weights=y_values)\n",
    "\n",
    "plt.xlabel('Ambiguity of Age groups using Combination brands')\n",
    "plt.ylabel('Number of users')\n",
    "plt.title('Ambiguity Value Distribution for Age')\n",
    "plt.show()"
   ]
  },
  {
   "cell_type": "code",
   "execution_count": null,
   "id": "debd3aa5",
   "metadata": {},
   "outputs": [],
   "source": [
    "pivot_table_age, ambiguity_dict_age, ambiguity_users_age = analysis(merged_data, 2, 1)\n",
    "x_values = list(ambiguity_dict_age.keys())\n",
    "y_values = list(ambiguity_dict_age.values())\n",
    "\n",
    "# Create a histogram with 10 bins\n",
    "plt.hist(x_values, bins=100, weights=y_values)\n",
    "\n",
    "# Add axis labels and a title\n",
    "plt.xlabel('Ambiguity about Age groups using Single brands')\n",
    "plt.ylabel('Number of brands')\n",
    "plt.title('Ambiguity Distribution for Age')\n",
    "\n",
    "# Show the plot\n",
    "plt.show()"
   ]
  },
  {
   "cell_type": "code",
   "execution_count": null,
   "id": "4cabd8a3",
   "metadata": {},
   "outputs": [],
   "source": [
    "# `ambiguity_dict` is the sorted dictionary you created earlier\n",
    "x_values = list(ambiguity_users_age.keys())\n",
    "y_values = list(ambiguity_users_age.values())\n",
    "print(count_users_ambiguity_less_than_one(ambiguity_users_age))\n",
    "\n",
    "# Create a histogram with 10 bins\n",
    "plt.hist(x_values, bins=10, weights=y_values)\n",
    "\n",
    "plt.xlabel('Ambiguity of Age groups using Single brands')\n",
    "plt.ylabel('Number of users')\n",
    "plt.title('Ambiguity Value Distribution for Age')\n",
    "plt.show()"
   ]
  },
  {
   "cell_type": "code",
   "execution_count": null,
   "id": "b27d8c21",
   "metadata": {},
   "outputs": [],
   "source": []
  },
  {
   "cell_type": "code",
   "execution_count": null,
   "id": "9fe2582a",
   "metadata": {},
   "outputs": [],
   "source": []
  },
  {
   "cell_type": "code",
   "execution_count": null,
   "id": "8a694f41",
   "metadata": {},
   "outputs": [],
   "source": [
    "###### pvalue_level ######\n",
    "# 1: low 2: medium 3: high consumption levels"
   ]
  },
  {
   "cell_type": "code",
   "execution_count": null,
   "id": "5729e85f",
   "metadata": {},
   "outputs": [],
   "source": [
    "pivot_table_pval, ambiguity_dict_pval, ambiguity_users_pval = analysis(result_df, 3, 2)\n",
    "x_values = list(ambiguity_dict_pval.keys())\n",
    "y_values = list(ambiguity_dict_pval.values())\n",
    "\n",
    "# Create a histogram with 10 bins\n",
    "plt.hist(x_values, bins=100, weights=y_values)\n",
    "\n",
    "# Add axis labels and a title\n",
    "plt.xlabel('Ambiguity about Pvalue/Consumption groups using Combination of brands')\n",
    "plt.ylabel('Number of brands')\n",
    "plt.title('Ambiguity Distribution for Pvalue')\n",
    "\n",
    "# Show the plot\n",
    "plt.show()"
   ]
  },
  {
   "cell_type": "code",
   "execution_count": null,
   "id": "a1dbae91",
   "metadata": {},
   "outputs": [],
   "source": [
    "# `ambiguity_dict` is the sorted dictionary you created earlier\n",
    "x_values = list(ambiguity_users_pval.keys())\n",
    "y_values = list(ambiguity_users_pval.values())\n",
    "print(count_users_ambiguity_less_than_one(ambiguity_users_pval))\n",
    "\n",
    "# Create a histogram with 10 bins\n",
    "plt.hist(x_values, bins=10, weights=y_values)\n",
    "\n",
    "plt.xlabel('Ambiguity of Pvalue/Consumption groups using Comniation of brands')\n",
    "plt.ylabel('Number of users')\n",
    "plt.title('Ambiguity Value Distribution for Pvalue')\n",
    "plt.show()"
   ]
  },
  {
   "cell_type": "code",
   "execution_count": null,
   "id": "b3ac9c4a",
   "metadata": {},
   "outputs": [],
   "source": [
    "pivot_table_pval, ambiguity_dict_pval, ambiguity_users_pval = analysis(merged_data, 3, 1)\n",
    "x_values = list(ambiguity_dict_pval.keys())\n",
    "y_values = list(ambiguity_dict_pval.values())\n",
    "\n",
    "# Create a histogram with 10 bins\n",
    "plt.hist(x_values, bins=100, weights=y_values)\n",
    "\n",
    "# Add axis labels and a title\n",
    "plt.xlabel('Ambiguity about Pvalue/Consumption groups using Single brands')\n",
    "plt.ylabel('Number of brands')\n",
    "plt.title('Ambiguity Distribution for Pvalue')\n",
    "\n",
    "# Show the plot\n",
    "plt.show()"
   ]
  },
  {
   "cell_type": "code",
   "execution_count": null,
   "id": "d581af30",
   "metadata": {},
   "outputs": [],
   "source": [
    "# `ambiguity_dict` is the sorted dictionary you created earlier\n",
    "x_values = list(ambiguity_users_pval.keys())\n",
    "y_values = list(ambiguity_users_pval.values())\n",
    "print(count_users_ambiguity_less_than_one(ambiguity_users_pval))\n",
    "\n",
    "# Create a histogram with 10 bins\n",
    "plt.hist(x_values, bins=10, weights=y_values)\n",
    "\n",
    "plt.xlabel('Ambiguity of Pvalue/Consumption groups using Single brands')\n",
    "plt.ylabel('Number of users')\n",
    "plt.title('Ambiguity Value Distribution for Pvalue')\n",
    "plt.show()"
   ]
  },
  {
   "cell_type": "code",
   "execution_count": null,
   "id": "68fd9513",
   "metadata": {},
   "outputs": [],
   "source": []
  },
  {
   "cell_type": "code",
   "execution_count": null,
   "id": "28087a94",
   "metadata": {},
   "outputs": [],
   "source": []
  },
  {
   "cell_type": "code",
   "execution_count": null,
   "id": "81e61e99",
   "metadata": {},
   "outputs": [],
   "source": [
    "######## Occupation #######\n",
    "# 1: college student 0: not a colllege student"
   ]
  },
  {
   "cell_type": "code",
   "execution_count": null,
   "id": "6a87ed62",
   "metadata": {},
   "outputs": [],
   "source": [
    "###### occupation ######\n",
    "# Is the college student 1: yes, 0: no?\n",
    "\n",
    "pivot_table_occup, ambiguity_dict_occup, ambiguity_users_occup = analysis(result_df, 4, 2)\n",
    "x_values = list(ambiguity_dict_occup.keys())\n",
    "y_values = list(ambiguity_dict_occup.values())\n",
    "\n",
    "# Create a histogram with 10 bins\n",
    "plt.hist(x_values, bins=100, weights=y_values)\n",
    "\n",
    "# Add axis labels and a title\n",
    "plt.xlabel('Ambiguity about Occupation groups using Combination of brands')\n",
    "plt.ylabel('Number of brands')\n",
    "plt.title('Ambiguity Distribution for Occupation')\n",
    "\n",
    "# Show the plot\n",
    "plt.show()"
   ]
  },
  {
   "cell_type": "code",
   "execution_count": null,
   "id": "a8113034",
   "metadata": {},
   "outputs": [],
   "source": [
    "# `ambiguity_dict` is the sorted dictionary you created earlier\n",
    "x_values = list(ambiguity_users_occup.keys())\n",
    "y_values = list(ambiguity_users_occup.values())\n",
    "print(count_users_ambiguity_less_than_one(ambiguity_users_occup))\n",
    "\n",
    "# Create a histogram with 10 bins\n",
    "plt.hist(x_values, bins=10, weights=y_values)\n",
    "\n",
    "plt.xlabel('Ambiguity of Occupation groups using Combination of brands')\n",
    "plt.ylabel('Number of users')\n",
    "plt.title('Ambiguity Value Distribution for Occupation')\n",
    "plt.show()"
   ]
  },
  {
   "cell_type": "code",
   "execution_count": null,
   "id": "028431eb",
   "metadata": {},
   "outputs": [],
   "source": [
    "###### occupation ######\n",
    "# Is the college student 1: yes, 0: no?\n",
    "\n",
    "pivot_table_occup, ambiguity_dict_occup, ambiguity_users_occup = analysis(merged_data, 4, 1)\n",
    "x_values = list(ambiguity_dict_occup.keys())\n",
    "y_values = list(ambiguity_dict_occup.values())\n",
    "\n",
    "# Create a histogram with 10 bins\n",
    "plt.hist(x_values, bins=100, weights=y_values)\n",
    "\n",
    "# Add axis labels and a title\n",
    "plt.xlabel('Ambiguity about Occupation groups using Single brands')\n",
    "plt.ylabel('Number of brands')\n",
    "plt.title('Ambiguity Distribution for Occupation')\n",
    "\n",
    "# Show the plot\n",
    "plt.show()"
   ]
  },
  {
   "cell_type": "code",
   "execution_count": null,
   "id": "08d04fda",
   "metadata": {},
   "outputs": [],
   "source": [
    "# `ambiguity_dict` is the sorted dictionary you created earlier\n",
    "x_values = list(ambiguity_users_occup.keys())\n",
    "y_values = list(ambiguity_users_occup.values())\n",
    "print(count_users_ambiguity_less_than_one(ambiguity_users_occup))\n",
    "\n",
    "# Create a histogram with 10 bins\n",
    "plt.hist(x_values, bins=10, weights=y_values)\n",
    "\n",
    "plt.xlabel('Ambiguity of Occupation groups using Single brands')\n",
    "plt.ylabel('Number of users')\n",
    "plt.title('Ambiguity Value Distribution for Occupation')\n",
    "plt.show()"
   ]
  },
  {
   "cell_type": "code",
   "execution_count": null,
   "id": "abf1f155",
   "metadata": {},
   "outputs": [],
   "source": []
  },
  {
   "cell_type": "code",
   "execution_count": null,
   "id": "3b756913",
   "metadata": {},
   "outputs": [],
   "source": []
  }
 ],
 "metadata": {
  "kernelspec": {
   "display_name": "Python 3",
   "language": "python",
   "name": "python3"
  },
  "language_info": {
   "codemirror_mode": {
    "name": "ipython",
    "version": 3
   },
   "file_extension": ".py",
   "mimetype": "text/x-python",
   "name": "python",
   "nbconvert_exporter": "python",
   "pygments_lexer": "ipython3",
   "version": "3.8.8"
  }
 },
 "nbformat": 4,
 "nbformat_minor": 5
}
