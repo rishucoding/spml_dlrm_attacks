{
 "cells": [
  {
   "cell_type": "code",
   "execution_count": 129,
   "id": "eca65b77",
   "metadata": {},
   "outputs": [],
   "source": [
    "import pandas as pd\n",
    "import csv\n",
    "import itertools\n",
    "import matplotlib.pyplot as plt\n",
    "import seaborn as sns\n",
    "from scipy.stats import gaussian_kde"
   ]
  },
  {
   "cell_type": "code",
   "execution_count": 130,
   "id": "2114c7bb",
   "metadata": {
    "scrolled": true
   },
   "outputs": [
    {
     "name": "stdout",
     "output_type": "stream",
     "text": [
      "206307\n",
      "997816\n",
      "9115919\n"
     ]
    },
    {
     "data": {
      "text/html": [
       "<div>\n",
       "<style scoped>\n",
       "    .dataframe tbody tr th:only-of-type {\n",
       "        vertical-align: middle;\n",
       "    }\n",
       "\n",
       "    .dataframe tbody tr th {\n",
       "        vertical-align: top;\n",
       "    }\n",
       "\n",
       "    .dataframe thead th {\n",
       "        text-align: right;\n",
       "    }\n",
       "</style>\n",
       "<table border=\"1\" class=\"dataframe\">\n",
       "  <thead>\n",
       "    <tr style=\"text-align: right;\">\n",
       "      <th></th>\n",
       "      <th>user</th>\n",
       "      <th>time_stamp</th>\n",
       "      <th>btag</th>\n",
       "      <th>cate</th>\n",
       "      <th>brand</th>\n",
       "    </tr>\n",
       "  </thead>\n",
       "  <tbody>\n",
       "    <tr>\n",
       "      <th>0</th>\n",
       "      <td>916958</td>\n",
       "      <td>1493811673</td>\n",
       "      <td>buy</td>\n",
       "      <td>123</td>\n",
       "      <td>97176</td>\n",
       "    </tr>\n",
       "    <tr>\n",
       "      <th>1</th>\n",
       "      <td>916958</td>\n",
       "      <td>1493811809</td>\n",
       "      <td>buy</td>\n",
       "      <td>123</td>\n",
       "      <td>97176</td>\n",
       "    </tr>\n",
       "    <tr>\n",
       "      <th>2</th>\n",
       "      <td>628854</td>\n",
       "      <td>1493781424</td>\n",
       "      <td>buy</td>\n",
       "      <td>4262</td>\n",
       "      <td>370203</td>\n",
       "    </tr>\n",
       "    <tr>\n",
       "      <th>3</th>\n",
       "      <td>623496</td>\n",
       "      <td>1493810730</td>\n",
       "      <td>buy</td>\n",
       "      <td>4262</td>\n",
       "      <td>370203</td>\n",
       "    </tr>\n",
       "    <tr>\n",
       "      <th>4</th>\n",
       "      <td>1099015</td>\n",
       "      <td>1493774927</td>\n",
       "      <td>buy</td>\n",
       "      <td>9390</td>\n",
       "      <td>347564</td>\n",
       "    </tr>\n",
       "  </tbody>\n",
       "</table>\n",
       "</div>"
      ],
      "text/plain": [
       "      user  time_stamp btag  cate   brand\n",
       "0   916958  1493811673  buy   123   97176\n",
       "1   916958  1493811809  buy   123   97176\n",
       "2   628854  1493781424  buy  4262  370203\n",
       "3   623496  1493810730  buy  4262  370203\n",
       "4  1099015  1493774927  buy  9390  347564"
      ]
     },
     "execution_count": 130,
     "metadata": {},
     "output_type": "execute_result"
    }
   ],
   "source": [
    "buy_behavior = pd.read_csv('buy_behavior_log.csv')\n",
    "number_of_queries = buy_behavior.shape[0]\n",
    "unique_brands = buy_behavior[\"brand\"].unique()\n",
    "unique_users = buy_behavior[\"user\"].unique()\n",
    "\n",
    "print(len(unique_brands))\n",
    "print(len(unique_users))\n",
    "print(number_of_queries)\n",
    "\n",
    "buy_behavior.head(5)"
   ]
  },
  {
   "cell_type": "code",
   "execution_count": 131,
   "id": "a1858d75",
   "metadata": {
    "scrolled": true
   },
   "outputs": [
    {
     "data": {
      "text/html": [
       "<div>\n",
       "<style scoped>\n",
       "    .dataframe tbody tr th:only-of-type {\n",
       "        vertical-align: middle;\n",
       "    }\n",
       "\n",
       "    .dataframe tbody tr th {\n",
       "        vertical-align: top;\n",
       "    }\n",
       "\n",
       "    .dataframe thead th {\n",
       "        text-align: right;\n",
       "    }\n",
       "</style>\n",
       "<table border=\"1\" class=\"dataframe\">\n",
       "  <thead>\n",
       "    <tr style=\"text-align: right;\">\n",
       "      <th></th>\n",
       "      <th>userid</th>\n",
       "      <th>cms_segid</th>\n",
       "      <th>cms_group_id</th>\n",
       "      <th>final_gender_code</th>\n",
       "      <th>age_level</th>\n",
       "      <th>pvalue_level</th>\n",
       "      <th>shopping_level</th>\n",
       "      <th>occupation</th>\n",
       "      <th>new_user_class_level</th>\n",
       "    </tr>\n",
       "  </thead>\n",
       "  <tbody>\n",
       "    <tr>\n",
       "      <th>0</th>\n",
       "      <td>234</td>\n",
       "      <td>0</td>\n",
       "      <td>5</td>\n",
       "      <td>2</td>\n",
       "      <td>5</td>\n",
       "      <td>NaN</td>\n",
       "      <td>3</td>\n",
       "      <td>0</td>\n",
       "      <td>3.0</td>\n",
       "    </tr>\n",
       "    <tr>\n",
       "      <th>1</th>\n",
       "      <td>523</td>\n",
       "      <td>5</td>\n",
       "      <td>2</td>\n",
       "      <td>2</td>\n",
       "      <td>2</td>\n",
       "      <td>1.0</td>\n",
       "      <td>3</td>\n",
       "      <td>1</td>\n",
       "      <td>2.0</td>\n",
       "    </tr>\n",
       "    <tr>\n",
       "      <th>2</th>\n",
       "      <td>612</td>\n",
       "      <td>0</td>\n",
       "      <td>8</td>\n",
       "      <td>1</td>\n",
       "      <td>2</td>\n",
       "      <td>2.0</td>\n",
       "      <td>3</td>\n",
       "      <td>0</td>\n",
       "      <td>NaN</td>\n",
       "    </tr>\n",
       "    <tr>\n",
       "      <th>3</th>\n",
       "      <td>1670</td>\n",
       "      <td>0</td>\n",
       "      <td>4</td>\n",
       "      <td>2</td>\n",
       "      <td>4</td>\n",
       "      <td>NaN</td>\n",
       "      <td>1</td>\n",
       "      <td>0</td>\n",
       "      <td>NaN</td>\n",
       "    </tr>\n",
       "    <tr>\n",
       "      <th>4</th>\n",
       "      <td>2545</td>\n",
       "      <td>0</td>\n",
       "      <td>10</td>\n",
       "      <td>1</td>\n",
       "      <td>4</td>\n",
       "      <td>NaN</td>\n",
       "      <td>3</td>\n",
       "      <td>0</td>\n",
       "      <td>NaN</td>\n",
       "    </tr>\n",
       "  </tbody>\n",
       "</table>\n",
       "</div>"
      ],
      "text/plain": [
       "   userid  cms_segid  cms_group_id  final_gender_code  age_level  \\\n",
       "0     234          0             5                  2          5   \n",
       "1     523          5             2                  2          2   \n",
       "2     612          0             8                  1          2   \n",
       "3    1670          0             4                  2          4   \n",
       "4    2545          0            10                  1          4   \n",
       "\n",
       "   pvalue_level  shopping_level  occupation  new_user_class_level   \n",
       "0           NaN               3           0                    3.0  \n",
       "1           1.0               3           1                    2.0  \n",
       "2           2.0               3           0                    NaN  \n",
       "3           NaN               1           0                    NaN  \n",
       "4           NaN               3           0                    NaN  "
      ]
     },
     "execution_count": 131,
     "metadata": {},
     "output_type": "execute_result"
    }
   ],
   "source": [
    "user_profile = pd.read_csv('user_profile.csv')\n",
    "\n",
    "user_profile.head(5)"
   ]
  },
  {
   "cell_type": "code",
   "execution_count": 132,
   "id": "25f567f5",
   "metadata": {},
   "outputs": [
    {
     "name": "stdout",
     "output_type": "stream",
     "text": [
      "           user  time_stamp btag  cate   brand  userid  cms_segid  \\\n",
      "0        916958  1493811673  buy   123   97176  916958         33   \n",
      "1        916958  1493811809  buy   123   97176  916958         33   \n",
      "2        916958  1494055722  buy  4267  178847  916958         33   \n",
      "3        916958  1494037918  buy   123   97176  916958         33   \n",
      "4        916958  1493811673  buy   123   97176  916958         33   \n",
      "...         ...         ...  ...   ...     ...     ...        ...   \n",
      "8825410  319183  1493526092  buy  2505  412044  319183         92   \n",
      "8825411  889393  1493567745  buy  6181  264201  889393         60   \n",
      "8825412  401828  1493532067  buy  1892  398556  401828          0   \n",
      "8825413  614980  1493525415  buy  8998  224985  614980          0   \n",
      "8825414  614980  1493525641  buy  8998  224985  614980          0   \n",
      "\n",
      "         cms_group_id  final_gender_code  age_level  pvalue_level  \\\n",
      "0                   4                  2          4           2.0   \n",
      "1                   4                  2          4           2.0   \n",
      "2                   4                  2          4           2.0   \n",
      "3                   4                  2          4           2.0   \n",
      "4                   4                  2          4           2.0   \n",
      "...               ...                ...        ...           ...   \n",
      "8825410            11                  1          5           2.0   \n",
      "8825411             9                  1          3           1.0   \n",
      "8825412             2                  2          2           NaN   \n",
      "8825413             4                  2          4           NaN   \n",
      "8825414             4                  2          4           NaN   \n",
      "\n",
      "         shopping_level  occupation  new_user_class_level   \n",
      "0                     3           0                    2.0  \n",
      "1                     3           0                    2.0  \n",
      "2                     3           0                    2.0  \n",
      "3                     3           0                    2.0  \n",
      "4                     3           0                    2.0  \n",
      "...                 ...         ...                    ...  \n",
      "8825410               3           0                    3.0  \n",
      "8825411               2           0                    2.0  \n",
      "8825412               3           0                    NaN  \n",
      "8825413               1           0                    NaN  \n",
      "8825414               1           0                    NaN  \n",
      "\n",
      "[8825415 rows x 14 columns]\n"
     ]
    }
   ],
   "source": [
    "# Merge the top_5_buy_behavior and user_profile dataframes on the 'userid' column\n",
    "merged_df = pd.merge(buy_behavior, user_profile, left_on='user', right_on='userid')\n",
    "print(merged_df)"
   ]
  },
  {
   "cell_type": "code",
   "execution_count": 133,
   "id": "4141eab0",
   "metadata": {},
   "outputs": [],
   "source": [
    "def analysis(data, sensitive_attribute_val, analysis_val):\n",
    "    \n",
    "    attribute_mapping = {1: 'final_gender_code', 2: 'age_level', 3: 'pvalue_level', 4: 'occupation'}\n",
    "    sensitive_attribute = attribute_mapping[sensitive_attribute_val]\n",
    "    \n",
    "    brand_mapping = {1: 'brand', 2: 'brand_combined'}\n",
    "    analysis_str = brand_mapping[analysis_val]\n",
    "    \n",
    "    # Group the merged dataframe by the 'brand' and 'pvalue_level' columns and get the count of each group\n",
    "    grouped_df = data.groupby([analysis_str, sensitive_attribute], as_index=False).count()[[analysis_str, sensitive_attribute, 'user']]\n",
    "\n",
    "    # Pivot the grouped dataframe to create a pivot table with the 'brand' column as the index, the 'pvalue_level' column as the columns and the 'user' column as the values\n",
    "    pivot_table = grouped_df.pivot(index=analysis_str, columns=sensitive_attribute, values='user')\n",
    "    pivot_table = pivot_table.fillna(0)\n",
    "    \n",
    "    # Get the total number of users for each gender\n",
    "    brand_totals = pivot_table.sum(axis=1)\n",
    "\n",
    "    # Divide the values in the pivot table by the gender totals and multiply by 100 to get the percent values\n",
    "    percent_table = (pivot_table / brand_totals.values.reshape(-1, 1)) * 100\n",
    "    percent_table = percent_table.fillna(0)\n",
    "    percent_table = percent_table.round(2)\n",
    "\n",
    "    # Find ambiguity value by subtracting max frequency from 100 in each row\n",
    "    ambiguity_values = 100 - percent_table.max(axis=1)\n",
    "\n",
    "    # Create new dataframe with brand and ambiguity value\n",
    "    ambiguity_table = pd.DataFrame({analysis_str: percent_table.index, 'ambiguity': ambiguity_values.round(2)}).reset_index(drop=True)\n",
    "\n",
    "    # Display the new dataframe\n",
    "\n",
    "    amb_dict = dict(ambiguity_table['ambiguity'].value_counts())\n",
    "\n",
    "    # Sort the dictionary items by their keys\n",
    "    ambiguity_dict_attribute = dict(sorted(amb_dict.items(), key=lambda x: x[0]))\n",
    "\n",
    "    ambiguity_users = {}\n",
    "\n",
    "    for index, row in ambiguity_table.iterrows():\n",
    "        brand = row[analysis_str]\n",
    "        ambiguity_value = row['ambiguity']\n",
    "        pivot_row = pivot_table.loc[brand]\n",
    "        total_users = int(pivot_row.sum())\n",
    "\n",
    "        if ambiguity_value in ambiguity_users:\n",
    "            ambiguity_users[ambiguity_value] += total_users\n",
    "\n",
    "        else:\n",
    "            ambiguity_users[ambiguity_value] = total_users\n",
    "\n",
    "    ambiguity_users = dict(sorted(ambiguity_users.items(), key=lambda x: x[0]))\n",
    "    \n",
    "    return pivot_table, ambiguity_dict_attribute, ambiguity_users\n",
    "\n",
    "\n",
    "    "
   ]
  },
  {
   "cell_type": "code",
   "execution_count": 134,
   "id": "3a531e6c",
   "metadata": {},
   "outputs": [],
   "source": [
    "def count_users_ambiguity_less_than_one(ambiguity_user_values):\n",
    "    count = 0\n",
    "    for ambiguity_value, num_users in ambiguity_user_values.items():\n",
    "        if ambiguity_value < 1.00:\n",
    "            count += num_users\n",
    "    return count\n",
    "\n"
   ]
  },
  {
   "cell_type": "code",
   "execution_count": null,
   "id": "c9bf4e2b",
   "metadata": {},
   "outputs": [],
   "source": []
  },
  {
   "cell_type": "code",
   "execution_count": null,
   "id": "7e6baaa6",
   "metadata": {},
   "outputs": [],
   "source": []
  },
  {
   "cell_type": "code",
   "execution_count": 135,
   "id": "795f7687",
   "metadata": {},
   "outputs": [],
   "source": [
    "######### Intersection Sensitive Attribute Attack ##########"
   ]
  },
  {
   "cell_type": "code",
   "execution_count": 136,
   "id": "79483332",
   "metadata": {
    "scrolled": true
   },
   "outputs": [
    {
     "name": "stdout",
     "output_type": "stream",
     "text": [
      "60392\n",
      "185822\n",
      "399999\n"
     ]
    },
    {
     "data": {
      "text/html": [
       "<div>\n",
       "<style scoped>\n",
       "    .dataframe tbody tr th:only-of-type {\n",
       "        vertical-align: middle;\n",
       "    }\n",
       "\n",
       "    .dataframe tbody tr th {\n",
       "        vertical-align: top;\n",
       "    }\n",
       "\n",
       "    .dataframe thead th {\n",
       "        text-align: right;\n",
       "    }\n",
       "</style>\n",
       "<table border=\"1\" class=\"dataframe\">\n",
       "  <thead>\n",
       "    <tr style=\"text-align: right;\">\n",
       "      <th></th>\n",
       "      <th>user</th>\n",
       "      <th>time_stamp</th>\n",
       "      <th>btag</th>\n",
       "      <th>cate</th>\n",
       "      <th>brand</th>\n",
       "    </tr>\n",
       "  </thead>\n",
       "  <tbody>\n",
       "    <tr>\n",
       "      <th>0</th>\n",
       "      <td>916958</td>\n",
       "      <td>1493811673</td>\n",
       "      <td>buy</td>\n",
       "      <td>123</td>\n",
       "      <td>97176</td>\n",
       "    </tr>\n",
       "    <tr>\n",
       "      <th>1</th>\n",
       "      <td>916958</td>\n",
       "      <td>1493811809</td>\n",
       "      <td>buy</td>\n",
       "      <td>123</td>\n",
       "      <td>97176</td>\n",
       "    </tr>\n",
       "    <tr>\n",
       "      <th>2</th>\n",
       "      <td>628854</td>\n",
       "      <td>1493781424</td>\n",
       "      <td>buy</td>\n",
       "      <td>4262</td>\n",
       "      <td>370203</td>\n",
       "    </tr>\n",
       "    <tr>\n",
       "      <th>3</th>\n",
       "      <td>623496</td>\n",
       "      <td>1493810730</td>\n",
       "      <td>buy</td>\n",
       "      <td>4262</td>\n",
       "      <td>370203</td>\n",
       "    </tr>\n",
       "    <tr>\n",
       "      <th>4</th>\n",
       "      <td>1099015</td>\n",
       "      <td>1493774927</td>\n",
       "      <td>buy</td>\n",
       "      <td>9390</td>\n",
       "      <td>347564</td>\n",
       "    </tr>\n",
       "  </tbody>\n",
       "</table>\n",
       "</div>"
      ],
      "text/plain": [
       "      user  time_stamp btag  cate   brand\n",
       "0   916958  1493811673  buy   123   97176\n",
       "1   916958  1493811809  buy   123   97176\n",
       "2   628854  1493781424  buy  4262  370203\n",
       "3   623496  1493810730  buy  4262  370203\n",
       "4  1099015  1493774927  buy  9390  347564"
      ]
     },
     "execution_count": 136,
     "metadata": {},
     "output_type": "execute_result"
    }
   ],
   "source": [
    "\n",
    "buy_behavior_combined = pd.read_csv('taobao_dataset_with_orders_400k_5.csv')\n",
    "number_of_queries = buy_behavior_combined.shape[0]\n",
    "unique_brands = buy_behavior_combined[\"brand\"].unique()\n",
    "unique_users = buy_behavior_combined[\"user\"].unique()\n",
    "\n",
    "print(len(unique_brands))\n",
    "print(len(unique_users))\n",
    "print(number_of_queries)\n",
    "\n",
    "buy_behavior.head(5)\n",
    "\n",
    "\n"
   ]
  },
  {
   "cell_type": "code",
   "execution_count": 137,
   "id": "5758aeee",
   "metadata": {},
   "outputs": [
    {
     "name": "stdout",
     "output_type": "stream",
     "text": [
      "          user  time_stamp btag   cate   brand  order_id  cms_segid  \\\n",
      "0           11  1493204629  buy   4262  370203         2          8   \n",
      "1           11  1493204645  buy   4262  370203         2          8   \n",
      "2           12  1493213423  buy   4262  370203         3         67   \n",
      "3           12  1493213448  buy   4262  370203         3         67   \n",
      "4           12  1493213533  buy   4263  388700         3         67   \n",
      "...        ...         ...  ...    ...     ...       ...        ...   \n",
      "53775  1141641  1493221008  buy   5480   75603    185808          0   \n",
      "53776  1141653  1493218778  buy  11568  370203    185812          7   \n",
      "53777  1141660  1493174870  buy  12422  370203    185813          0   \n",
      "53778  1141660  1493216413  buy  12422  370203    185813          0   \n",
      "53779  1141704  1493256448  buy  11568  370203    185818          5   \n",
      "\n",
      "       cms_group_id  final_gender_code  age_level  pvalue_level  \\\n",
      "0                 2                  2          2           2.0   \n",
      "1                 2                  2          2           2.0   \n",
      "2                 9                  1          3           2.0   \n",
      "3                 9                  1          3           2.0   \n",
      "4                 9                  1          3           2.0   \n",
      "...             ...                ...        ...           ...   \n",
      "53775             2                  2          2           NaN   \n",
      "53776             2                  2          2           2.0   \n",
      "53777            10                  1          4           NaN   \n",
      "53778            10                  1          4           NaN   \n",
      "53779             2                  2          2           1.0   \n",
      "\n",
      "       shopping_level  occupation  new_user_class_level   \n",
      "0                   3           0                    4.0  \n",
      "1                   3           0                    4.0  \n",
      "2                   3           0                    3.0  \n",
      "3                   3           0                    3.0  \n",
      "4                   3           0                    3.0  \n",
      "...               ...         ...                    ...  \n",
      "53775               3           1                    3.0  \n",
      "53776               3           0                    2.0  \n",
      "53777               3           0                    1.0  \n",
      "53778               3           0                    1.0  \n",
      "53779               3           1                    2.0  \n",
      "\n",
      "[53780 rows x 14 columns]\n"
     ]
    }
   ],
   "source": [
    "brand_combinations = [(93068, 11299),\n",
    "(207241, 11299),\n",
    "(300159, 11299),\n",
    "(77625, 18593),\n",
    "(124290, 18593),\n",
    "(129994, 18593),\n",
    "(392793, 18593),\n",
    "(75603, 160582),\n",
    "(300159, 93068),\n",
    "(95766, 370203),\n",
    "(124290, 392793),\n",
    "(340073, 129994),\n",
    "(406901, 129994),\n",
    "(442842, 156936),\n",
    "(168008, 370203),\n",
    "(247789, 370203),\n",
    "(340004, 357711),\n",
    "(370203, 366684),\n",
    "(370203, 388700),\n",
    "(370203, 425589),\n",
    "(437724, 370203),\n",
    "(437724, 388700),\n",
    "(416410, 416414)]\n",
    "\n",
    "unique_brands = sorted(list(set(sum(brand_combinations, ()))))\n",
    "\n",
    "top_brands_data = buy_behavior_combined[buy_behavior_combined['brand'].isin(unique_brands)]\n",
    "\n",
    "merged_data = pd.merge(top_brands_data, user_profile, left_on='user', right_on='userid')\n",
    "# Drop the 'userid' column since it contains the same values as 'user'\n",
    "merged_data = merged_data.drop('userid', axis=1)\n",
    "print(merged_data)\n",
    "\n",
    "\n"
   ]
  },
  {
   "cell_type": "code",
   "execution_count": 138,
   "id": "18deb836",
   "metadata": {},
   "outputs": [
    {
     "data": {
      "text/plain": [
       "'\\ntop_brands = buy_behavior[\\'brand\\'].value_counts().head(100).index.tolist()\\ntop_brands_data = buy_behavior[buy_behavior[\\'brand\\'].isin(top_brands)]\\n\\nnumber_of_queries = top_brands_data.shape[0]\\nunique_brands = top_brands_data[\"brand\"].unique()\\nunique_users = top_brands_data[\"user\"].unique()\\n\\nprint(len(unique_brands))\\nprint(len(unique_users))\\nprint(number_of_queries)\\n\\nmerged_data = pd.merge(top_brands_data, user_profile, left_on=\\'user\\', right_on=\\'userid\\')\\n# Drop the \\'userid\\' column since it contains the same values as \\'user\\'\\nmerged_data = merged_data.drop(\\'userid\\', axis=1)\\nmerged_data.head(5)\\n\\nbrand_combinations = list(itertools.combinations(top_brands, 2))\\nprint(len(brand_combinations))\\n\\n'"
      ]
     },
     "execution_count": 138,
     "metadata": {},
     "output_type": "execute_result"
    }
   ],
   "source": [
    "##### Top brands Dataset  #####\n",
    "\"\"\"\n",
    "top_brands = buy_behavior['brand'].value_counts().head(100).index.tolist()\n",
    "top_brands_data = buy_behavior[buy_behavior['brand'].isin(top_brands)]\n",
    "\n",
    "number_of_queries = top_brands_data.shape[0]\n",
    "unique_brands = top_brands_data[\"brand\"].unique()\n",
    "unique_users = top_brands_data[\"user\"].unique()\n",
    "\n",
    "print(len(unique_brands))\n",
    "print(len(unique_users))\n",
    "print(number_of_queries)\n",
    "\n",
    "merged_data = pd.merge(top_brands_data, user_profile, left_on='user', right_on='userid')\n",
    "# Drop the 'userid' column since it contains the same values as 'user'\n",
    "merged_data = merged_data.drop('userid', axis=1)\n",
    "merged_data.head(5)\n",
    "\n",
    "brand_combinations = list(itertools.combinations(top_brands, 2))\n",
    "print(len(brand_combinations))\n",
    "\n",
    "\"\"\"\n"
   ]
  },
  {
   "cell_type": "code",
   "execution_count": null,
   "id": "eb7d7574",
   "metadata": {},
   "outputs": [],
   "source": []
  },
  {
   "cell_type": "code",
   "execution_count": 139,
   "id": "8e4099b9",
   "metadata": {},
   "outputs": [
    {
     "name": "stdout",
     "output_type": "stream",
     "text": [
      "     age_level final_gender_code  pvalue_level occupation       user  \\\n",
      "0            3                 2           2.0          0    81103.0   \n",
      "1            3                 1           1.0          0    89991.0   \n",
      "2            3                 2           NaN          0   101430.0   \n",
      "4            4                 1           2.0          0   104864.0   \n",
      "5            5                 1           3.0          0   109357.0   \n",
      "...        ...               ...           ...        ...        ...   \n",
      "2906         5                 1           NaN          0  1030620.0   \n",
      "2911         5                 2           2.0          0  1034849.0   \n",
      "2916         4                 2           2.0          0  1091687.0   \n",
      "2918         4                 2           2.0          0  1093676.0   \n",
      "2924         5                 1           NaN          0  1117215.0   \n",
      "\n",
      "     brand_combined  \n",
      "0       93068_11299  \n",
      "1       93068_11299  \n",
      "2       93068_11299  \n",
      "4       93068_11299  \n",
      "5       93068_11299  \n",
      "...             ...  \n",
      "2906  416410_416414  \n",
      "2911  416410_416414  \n",
      "2916  416410_416414  \n",
      "2918  416410_416414  \n",
      "2924  416410_416414  \n",
      "\n",
      "[1677 rows x 6 columns]\n"
     ]
    }
   ],
   "source": [
    "import warnings\n",
    "from pandas.core.common import SettingWithCopyWarning\n",
    "\n",
    "warnings.simplefilter(action=\"ignore\", category=SettingWithCopyWarning)\n",
    "\n",
    "\n",
    "result_df = pd.DataFrame(columns=['age_level', 'final_gender_code', 'pvalue_level', 'occupation'])\n",
    "\n",
    "for brand_combo in brand_combinations:\n",
    "    brand1, brand2 = brand_combo\n",
    "    brand_data = merged_data[(merged_data['brand']==brand1) & (merged_data['user'].isin(merged_data[merged_data['brand']==brand2]['user'].tolist()))]\n",
    "    brand_data['brand2'] = brand2\n",
    "    user_data = brand_data[['user','brand', 'brand2', 'age_level', 'final_gender_code', 'pvalue_level', 'occupation']]\n",
    "    result_df = result_df.append(user_data, ignore_index=True)\n",
    "result_df = result_df.drop_duplicates(keep='first')\n",
    "\n",
    "# Combine the brand and brand2 columns into a single column called \"brand_combined\"\n",
    "result_df['brand_combined'] = result_df['brand'].fillna(0).astype(int).astype(str) + '_' + result_df['brand2'].fillna(0).astype(int).astype(str)\n",
    "\n",
    "# Drop the original brand and brand2 columns\n",
    "result_df.drop(['brand', 'brand2'], axis=1, inplace=True)\n",
    "print(result_df)"
   ]
  },
  {
   "cell_type": "code",
   "execution_count": 140,
   "id": "6b8e1f47",
   "metadata": {},
   "outputs": [],
   "source": [
    "result_df.to_csv('result_df.csv', index = False)"
   ]
  },
  {
   "cell_type": "code",
   "execution_count": 141,
   "id": "82d0a4c3",
   "metadata": {},
   "outputs": [],
   "source": [
    "####### Gender analysis Combined brands #######"
   ]
  },
  {
   "cell_type": "code",
   "execution_count": 142,
   "id": "fe3bb1a4",
   "metadata": {},
   "outputs": [
    {
     "data": {
      "image/png": "[encoded data removed]",
      "text/plain": [
       "<Figure size 432x288 with 1 Axes>"
      ]
     },
     "metadata": {
      "needs_background": "light"
     },
     "output_type": "display_data"
    }
   ],
   "source": [
    "pivot_table_gender, ambiguity_dict_gender, ambiguity_users_gender = analysis(result_df, 1, 2)\n",
    "x_values = list(ambiguity_dict_gender.keys())\n",
    "y_values = list(ambiguity_dict_gender.values())\n",
    "\n",
    "# Create a histogram with 10 bins\n",
    "plt.hist(x_values, bins=100, weights=y_values)\n",
    "\n",
    "# Add axis labels and a title\n",
    "plt.xlabel('Ambiguity about Gender groups using Combination of brands')\n",
    "plt.ylabel('Number of brands')\n",
    "plt.title('Ambiguity Distribution for gender')\n",
    "\n",
    "# Show the plot\n",
    "plt.show()"
   ]
  },
  {
   "cell_type": "code",
   "execution_count": 143,
   "id": "9197b25f",
   "metadata": {},
   "outputs": [
    {
     "name": "stdout",
     "output_type": "stream",
     "text": [
      "0\n"
     ]
    },
    {
     "data": {
      "image/png": "[encoded data removed]",
      "text/plain": [
       "<Figure size 432x288 with 1 Axes>"
      ]
     },
     "metadata": {
      "needs_background": "light"
     },
     "output_type": "display_data"
    }
   ],
   "source": [
    "# `ambiguity_dict` is the sorted dictionary you created earlier\n",
    "x_values = list(ambiguity_users_gender.keys())\n",
    "y_values = list(ambiguity_users_gender.values())\n",
    "print(count_users_ambiguity_less_than_one(ambiguity_users_gender))\n",
    "\n",
    "# Create a histogram with 10 bins\n",
    "plt.hist(x_values, bins=10, weights=y_values)\n",
    "\n",
    "plt.xlabel('Ambiguity of Gender using Combination of brands')\n",
    "plt.ylabel('Number of users')\n",
    "plt.title('Ambiguity Value Distribution for gender')\n",
    "plt.show()"
   ]
  },
  {
   "cell_type": "code",
   "execution_count": 144,
   "id": "d3e19911",
   "metadata": {},
   "outputs": [
    {
     "data": {
      "image/png": "[encoded data removed]",
      "text/plain": [
       "<Figure size 432x288 with 1 Axes>"
      ]
     },
     "metadata": {
      "needs_background": "light"
     },
     "output_type": "display_data"
    }
   ],
   "source": [
    "pivot_table_gender, ambiguity_dict_gender, ambiguity_users_gender = analysis(merged_data, 1, 1)\n",
    "x_values = list(ambiguity_dict_gender.keys())\n",
    "y_values = list(ambiguity_dict_gender.values())\n",
    "\n",
    "# Create a histogram with 10 bins\n",
    "plt.hist(x_values, bins=100, weights=y_values)\n",
    "\n",
    "# Add axis labels and a title\n",
    "plt.xlabel('Ambiguity about Gender groups using Single brands')\n",
    "plt.ylabel('Number of brands')\n",
    "plt.title('Ambiguity Distribution for gender')\n",
    "\n",
    "# Show the plot\n",
    "plt.show()"
   ]
  },
  {
   "cell_type": "code",
   "execution_count": 145,
   "id": "e448ccf4",
   "metadata": {},
   "outputs": [
    {
     "name": "stdout",
     "output_type": "stream",
     "text": [
      "0\n"
     ]
    },
    {
     "data": {
      "image/png": "[encoded data removed]",
      "text/plain": [
       "<Figure size 432x288 with 1 Axes>"
      ]
     },
     "metadata": {
      "needs_background": "light"
     },
     "output_type": "display_data"
    }
   ],
   "source": [
    "# `ambiguity_dict` is the sorted dictionary you created earlier\n",
    "x_values = list(ambiguity_users_gender.keys())\n",
    "y_values = list(ambiguity_users_gender.values())\n",
    "print(count_users_ambiguity_less_than_one(ambiguity_users_gender))\n",
    "\n",
    "# Create a histogram with 10 bins\n",
    "plt.hist(x_values, bins=10, weights=y_values)\n",
    "\n",
    "plt.xlabel('Ambiguity of Gender using Single brands')\n",
    "plt.ylabel('Number of users')\n",
    "plt.title('Ambiguity Value Distribution for gender')\n",
    "plt.show()"
   ]
  },
  {
   "cell_type": "code",
   "execution_count": null,
   "id": "6c232fcc",
   "metadata": {},
   "outputs": [],
   "source": []
  },
  {
   "cell_type": "code",
   "execution_count": null,
   "id": "c8563e20",
   "metadata": {},
   "outputs": [],
   "source": []
  },
  {
   "cell_type": "code",
   "execution_count": 146,
   "id": "85d5c6b2",
   "metadata": {},
   "outputs": [],
   "source": [
    "######## Age Analysis #########\n",
    "# 7 age groups"
   ]
  },
  {
   "cell_type": "code",
   "execution_count": 147,
   "id": "de56768f",
   "metadata": {},
   "outputs": [
    {
     "data": {
      "image/png": "[encoded data removed]",
      "text/plain": [
       "<Figure size 432x288 with 1 Axes>"
      ]
     },
     "metadata": {
      "needs_background": "light"
     },
     "output_type": "display_data"
    }
   ],
   "source": [
    "pivot_table_age, ambiguity_dict_age, ambiguity_users_age = analysis(result_df, 2, 2)\n",
    "x_values = list(ambiguity_dict_age.keys())\n",
    "y_values = list(ambiguity_dict_age.values())\n",
    "\n",
    "# Create a histogram with 10 bins\n",
    "plt.hist(x_values, bins=100, weights=y_values)\n",
    "\n",
    "# Add axis labels and a title\n",
    "plt.xlabel('Ambiguity about Age groups using Combination of brands')\n",
    "plt.ylabel('Number of brands')\n",
    "plt.title('Ambiguity Distribution for Age')\n",
    "\n",
    "# Show the plot\n",
    "plt.show()"
   ]
  },
  {
   "cell_type": "code",
   "execution_count": 148,
   "id": "5e367354",
   "metadata": {},
   "outputs": [
    {
     "name": "stdout",
     "output_type": "stream",
     "text": [
      "0\n"
     ]
    },
    {
     "data": {
      "image/png": "[encoded data removed]",
      "text/plain": [
       "<Figure size 432x288 with 1 Axes>"
      ]
     },
     "metadata": {
      "needs_background": "light"
     },
     "output_type": "display_data"
    }
   ],
   "source": [
    "# `ambiguity_dict` is the sorted dictionary you created earlier\n",
    "x_values = list(ambiguity_users_age.keys())\n",
    "y_values = list(ambiguity_users_age.values())\n",
    "print(count_users_ambiguity_less_than_one(ambiguity_users_age))\n",
    "\n",
    "# Create a histogram with 10 bins\n",
    "plt.hist(x_values, bins=10, weights=y_values)\n",
    "\n",
    "plt.xlabel('Ambiguity of Age groups using Combination brands')\n",
    "plt.ylabel('Number of users')\n",
    "plt.title('Ambiguity Value Distribution for Age')\n",
    "plt.show()"
   ]
  },
  {
   "cell_type": "code",
   "execution_count": 149,
   "id": "debd3aa5",
   "metadata": {},
   "outputs": [
    {
     "data": {
      "image/png": "[encoded data removed]",
      "text/plain": [
       "<Figure size 432x288 with 1 Axes>"
      ]
     },
     "metadata": {
      "needs_background": "light"
     },
     "output_type": "display_data"
    }
   ],
   "source": [
    "pivot_table_age, ambiguity_dict_age, ambiguity_users_age = analysis(merged_data, 2, 1)\n",
    "x_values = list(ambiguity_dict_age.keys())\n",
    "y_values = list(ambiguity_dict_age.values())\n",
    "\n",
    "# Create a histogram with 10 bins\n",
    "plt.hist(x_values, bins=100, weights=y_values)\n",
    "\n",
    "# Add axis labels and a title\n",
    "plt.xlabel('Ambiguity about Age groups using Single brands')\n",
    "plt.ylabel('Number of brands')\n",
    "plt.title('Ambiguity Distribution for Age')\n",
    "\n",
    "# Show the plot\n",
    "plt.show()"
   ]
  },
  {
   "cell_type": "code",
   "execution_count": 150,
   "id": "4cabd8a3",
   "metadata": {},
   "outputs": [
    {
     "name": "stdout",
     "output_type": "stream",
     "text": [
      "0\n"
     ]
    },
    {
     "data": {
      "image/png": "[encoded data removed]",
      "text/plain": [
       "<Figure size 432x288 with 1 Axes>"
      ]
     },
     "metadata": {
      "needs_background": "light"
     },
     "output_type": "display_data"
    }
   ],
   "source": [
    "# `ambiguity_dict` is the sorted dictionary you created earlier\n",
    "x_values = list(ambiguity_users_age.keys())\n",
    "y_values = list(ambiguity_users_age.values())\n",
    "print(count_users_ambiguity_less_than_one(ambiguity_users_age))\n",
    "\n",
    "# Create a histogram with 10 bins\n",
    "plt.hist(x_values, bins=10, weights=y_values)\n",
    "\n",
    "plt.xlabel('Ambiguity of Age groups using Single brands')\n",
    "plt.ylabel('Number of users')\n",
    "plt.title('Ambiguity Value Distribution for Age')\n",
    "plt.show()"
   ]
  },
  {
   "cell_type": "code",
   "execution_count": null,
   "id": "b27d8c21",
   "metadata": {},
   "outputs": [],
   "source": []
  },
  {
   "cell_type": "code",
   "execution_count": null,
   "id": "9fe2582a",
   "metadata": {},
   "outputs": [],
   "source": []
  },
  {
   "cell_type": "code",
   "execution_count": 151,
   "id": "8a694f41",
   "metadata": {},
   "outputs": [],
   "source": [
    "###### pvalue_level ######\n",
    "# 1: low 2: medium 3: high consumption levels"
   ]
  },
  {
   "cell_type": "code",
   "execution_count": 152,
   "id": "5729e85f",
   "metadata": {},
   "outputs": [
    {
     "data": {
      "image/png": "[encoded data removed]",
      "text/plain": [
       "<Figure size 432x288 with 1 Axes>"
      ]
     },
     "metadata": {
      "needs_background": "light"
     },
     "output_type": "display_data"
    }
   ],
   "source": [
    "pivot_table_pval, ambiguity_dict_pval, ambiguity_users_pval = analysis(result_df, 3, 2)\n",
    "x_values = list(ambiguity_dict_pval.keys())\n",
    "y_values = list(ambiguity_dict_pval.values())\n",
    "\n",
    "# Create a histogram with 10 bins\n",
    "plt.hist(x_values, bins=100, weights=y_values)\n",
    "\n",
    "# Add axis labels and a title\n",
    "plt.xlabel('Ambiguity about Pvalue/Consumption groups using Combination of brands')\n",
    "plt.ylabel('Number of brands')\n",
    "plt.title('Ambiguity Distribution for Pvalue')\n",
    "\n",
    "# Show the plot\n",
    "plt.show()"
   ]
  },
  {
   "cell_type": "code",
   "execution_count": 153,
   "id": "a1dbae91",
   "metadata": {},
   "outputs": [
    {
     "name": "stdout",
     "output_type": "stream",
     "text": [
      "0\n"
     ]
    },
    {
     "data": {
      "image/png": "[encoded data removed]",
      "text/plain": [
       "<Figure size 432x288 with 1 Axes>"
      ]
     },
     "metadata": {
      "needs_background": "light"
     },
     "output_type": "display_data"
    }
   ],
   "source": [
    "# `ambiguity_dict` is the sorted dictionary you created earlier\n",
    "x_values = list(ambiguity_users_pval.keys())\n",
    "y_values = list(ambiguity_users_pval.values())\n",
    "print(count_users_ambiguity_less_than_one(ambiguity_users_pval))\n",
    "\n",
    "# Create a histogram with 10 bins\n",
    "plt.hist(x_values, bins=10, weights=y_values)\n",
    "\n",
    "plt.xlabel('Ambiguity of Pvalue/Consumption groups using Comniation of brands')\n",
    "plt.ylabel('Number of users')\n",
    "plt.title('Ambiguity Value Distribution for Pvalue')\n",
    "plt.show()"
   ]
  },
  {
   "cell_type": "code",
   "execution_count": 154,
   "id": "b3ac9c4a",
   "metadata": {},
   "outputs": [
    {
     "data": {
      "image/png": "[encoded data removed]",
      "text/plain": [
       "<Figure size 432x288 with 1 Axes>"
      ]
     },
     "metadata": {
      "needs_background": "light"
     },
     "output_type": "display_data"
    }
   ],
   "source": [
    "pivot_table_pval, ambiguity_dict_pval, ambiguity_users_pval = analysis(merged_data, 3, 1)\n",
    "x_values = list(ambiguity_dict_pval.keys())\n",
    "y_values = list(ambiguity_dict_pval.values())\n",
    "\n",
    "# Create a histogram with 10 bins\n",
    "plt.hist(x_values, bins=100, weights=y_values)\n",
    "\n",
    "# Add axis labels and a title\n",
    "plt.xlabel('Ambiguity about Pvalue/Consumption groups using Single brands')\n",
    "plt.ylabel('Number of brands')\n",
    "plt.title('Ambiguity Distribution for Pvalue')\n",
    "\n",
    "# Show the plot\n",
    "plt.show()"
   ]
  },
  {
   "cell_type": "code",
   "execution_count": 155,
   "id": "d581af30",
   "metadata": {},
   "outputs": [
    {
     "name": "stdout",
     "output_type": "stream",
     "text": [
      "0\n"
     ]
    },
    {
     "data": {
      "image/png": "[encoded data removed]",
      "text/plain": [
       "<Figure size 432x288 with 1 Axes>"
      ]
     },
     "metadata": {
      "needs_background": "light"
     },
     "output_type": "display_data"
    }
   ],
   "source": [
    "# `ambiguity_dict` is the sorted dictionary you created earlier\n",
    "x_values = list(ambiguity_users_pval.keys())\n",
    "y_values = list(ambiguity_users_pval.values())\n",
    "print(count_users_ambiguity_less_than_one(ambiguity_users_pval))\n",
    "\n",
    "# Create a histogram with 10 bins\n",
    "plt.hist(x_values, bins=10, weights=y_values)\n",
    "\n",
    "plt.xlabel('Ambiguity of Pvalue/Consumption groups using Single brands')\n",
    "plt.ylabel('Number of users')\n",
    "plt.title('Ambiguity Value Distribution for Pvalue')\n",
    "plt.show()"
   ]
  },
  {
   "cell_type": "code",
   "execution_count": null,
   "id": "68fd9513",
   "metadata": {},
   "outputs": [],
   "source": []
  },
  {
   "cell_type": "code",
   "execution_count": null,
   "id": "28087a94",
   "metadata": {},
   "outputs": [],
   "source": []
  },
  {
   "cell_type": "code",
   "execution_count": 156,
   "id": "81e61e99",
   "metadata": {},
   "outputs": [],
   "source": [
    "######## Occupation #######\n",
    "# 1: college student 0: not a colllege student"
   ]
  },
  {
   "cell_type": "code",
   "execution_count": 157,
   "id": "6a87ed62",
   "metadata": {},
   "outputs": [
    {
     "data": {
      "image/png": "[encoded data removed]",
      "text/plain": [
       "<Figure size 432x288 with 1 Axes>"
      ]
     },
     "metadata": {
      "needs_background": "light"
     },
     "output_type": "display_data"
    }
   ],
   "source": [
    "###### occupation ######\n",
    "# Is the college student 1: yes, 0: no?\n",
    "\n",
    "pivot_table_occup, ambiguity_dict_occup, ambiguity_users_occup = analysis(result_df, 4, 2)\n",
    "x_values = list(ambiguity_dict_occup.keys())\n",
    "y_values = list(ambiguity_dict_occup.values())\n",
    "\n",
    "# Create a histogram with 10 bins\n",
    "plt.hist(x_values, bins=100, weights=y_values)\n",
    "\n",
    "# Add axis labels and a title\n",
    "plt.xlabel('Ambiguity about Occupation groups using Combination of brands')\n",
    "plt.ylabel('Number of brands')\n",
    "plt.title('Ambiguity Distribution for Occupation')\n",
    "\n",
    "# Show the plot\n",
    "plt.show()"
   ]
  },
  {
   "cell_type": "code",
   "execution_count": 158,
   "id": "a8113034",
   "metadata": {},
   "outputs": [
    {
     "name": "stdout",
     "output_type": "stream",
     "text": [
      "64\n"
     ]
    },
    {
     "data": {
      "image/png": "[encoded data removed]",
      "text/plain": [
       "<Figure size 432x288 with 1 Axes>"
      ]
     },
     "metadata": {
      "needs_background": "light"
     },
     "output_type": "display_data"
    }
   ],
   "source": [
    "# `ambiguity_dict` is the sorted dictionary you created earlier\n",
    "x_values = list(ambiguity_users_occup.keys())\n",
    "y_values = list(ambiguity_users_occup.values())\n",
    "print(count_users_ambiguity_less_than_one(ambiguity_users_occup))\n",
    "\n",
    "# Create a histogram with 10 bins\n",
    "plt.hist(x_values, bins=10, weights=y_values)\n",
    "\n",
    "plt.xlabel('Ambiguity of Occupation groups using Combination of brands')\n",
    "plt.ylabel('Number of users')\n",
    "plt.title('Ambiguity Value Distribution for Occupation')\n",
    "plt.show()"
   ]
  },
  {
   "cell_type": "code",
   "execution_count": 159,
   "id": "028431eb",
   "metadata": {},
   "outputs": [
    {
     "data": {
      "image/png": "[encoded data removed]",
      "text/plain": [
       "<Figure size 432x288 with 1 Axes>"
      ]
     },
     "metadata": {
      "needs_background": "light"
     },
     "output_type": "display_data"
    }
   ],
   "source": [
    "###### occupation ######\n",
    "# Is the college student 1: yes, 0: no?\n",
    "\n",
    "pivot_table_occup, ambiguity_dict_occup, ambiguity_users_occup = analysis(merged_data, 4, 1)\n",
    "x_values = list(ambiguity_dict_occup.keys())\n",
    "y_values = list(ambiguity_dict_occup.values())\n",
    "\n",
    "# Create a histogram with 10 bins\n",
    "plt.hist(x_values, bins=100, weights=y_values)\n",
    "\n",
    "# Add axis labels and a title\n",
    "plt.xlabel('Ambiguity about Occupation groups using Single brands')\n",
    "plt.ylabel('Number of brands')\n",
    "plt.title('Ambiguity Distribution for Occupation')\n",
    "\n",
    "# Show the plot\n",
    "plt.show()"
   ]
  },
  {
   "cell_type": "code",
   "execution_count": 160,
   "id": "08d04fda",
   "metadata": {},
   "outputs": [
    {
     "name": "stdout",
     "output_type": "stream",
     "text": [
      "680\n"
     ]
    },
    {
     "data": {
      "image/png": "[encoded data removed]",
      "text/plain": [
       "<Figure size 432x288 with 1 Axes>"
      ]
     },
     "metadata": {
      "needs_background": "light"
     },
     "output_type": "display_data"
    }
   ],
   "source": [
    "# `ambiguity_dict` is the sorted dictionary you created earlier\n",
    "x_values = list(ambiguity_users_occup.keys())\n",
    "y_values = list(ambiguity_users_occup.values())\n",
    "print(count_users_ambiguity_less_than_one(ambiguity_users_occup))\n",
    "\n",
    "# Create a histogram with 10 bins\n",
    "plt.hist(x_values, bins=10, weights=y_values)\n",
    "\n",
    "plt.xlabel('Ambiguity of Occupation groups using Single brands')\n",
    "plt.ylabel('Number of users')\n",
    "plt.title('Ambiguity Value Distribution for Occupation')\n",
    "plt.show()"
   ]
  },
  {
   "cell_type": "code",
   "execution_count": null,
   "id": "abf1f155",
   "metadata": {},
   "outputs": [],
   "source": []
  },
  {
   "cell_type": "code",
   "execution_count": null,
   "id": "3b756913",
   "metadata": {},
   "outputs": [],
   "source": []
  }
 ],
 "metadata": {
  "kernelspec": {
   "display_name": "Python 3",
   "language": "python",
   "name": "python3"
  },
  "language_info": {
   "codemirror_mode": {
    "name": "ipython",
    "version": 3
   },
   "file_extension": ".py",
   "mimetype": "text/x-python",
   "name": "python",
   "nbconvert_exporter": "python",
   "pygments_lexer": "ipython3",
   "version": "3.8.8"
  }
 },
 "nbformat": 4,
 "nbformat_minor": 5
}
