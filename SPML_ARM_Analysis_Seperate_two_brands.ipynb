{
 "cells": [
  {
   "cell_type": "code",
   "execution_count": 1,
   "id": "eca65b77",
   "metadata": {},
   "outputs": [],
   "source": [
    "import pandas as pd\n",
    "import csv\n",
    "import itertools\n",
    "import matplotlib.pyplot as plt\n",
    "import seaborn as sns\n",
    "from scipy.stats import gaussian_kde"
   ]
  },
  {
   "cell_type": "code",
   "execution_count": 2,
   "id": "2114c7bb",
   "metadata": {
    "scrolled": true
   },
   "outputs": [
    {
     "name": "stdout",
     "output_type": "stream",
     "text": [
      "206307\n",
      "997816\n",
      "9115919\n"
     ]
    },
    {
     "data": {
      "text/html": [
       "<div>\n",
       "<style scoped>\n",
       "    .dataframe tbody tr th:only-of-type {\n",
       "        vertical-align: middle;\n",
       "    }\n",
       "\n",
       "    .dataframe tbody tr th {\n",
       "        vertical-align: top;\n",
       "    }\n",
       "\n",
       "    .dataframe thead th {\n",
       "        text-align: right;\n",
       "    }\n",
       "</style>\n",
       "<table border=\"1\" class=\"dataframe\">\n",
       "  <thead>\n",
       "    <tr style=\"text-align: right;\">\n",
       "      <th></th>\n",
       "      <th>user</th>\n",
       "      <th>time_stamp</th>\n",
       "      <th>btag</th>\n",
       "      <th>cate</th>\n",
       "      <th>brand</th>\n",
       "    </tr>\n",
       "  </thead>\n",
       "  <tbody>\n",
       "    <tr>\n",
       "      <th>0</th>\n",
       "      <td>916958</td>\n",
       "      <td>1493811673</td>\n",
       "      <td>buy</td>\n",
       "      <td>123</td>\n",
       "      <td>97176</td>\n",
       "    </tr>\n",
       "    <tr>\n",
       "      <th>1</th>\n",
       "      <td>916958</td>\n",
       "      <td>1493811809</td>\n",
       "      <td>buy</td>\n",
       "      <td>123</td>\n",
       "      <td>97176</td>\n",
       "    </tr>\n",
       "    <tr>\n",
       "      <th>2</th>\n",
       "      <td>628854</td>\n",
       "      <td>1493781424</td>\n",
       "      <td>buy</td>\n",
       "      <td>4262</td>\n",
       "      <td>370203</td>\n",
       "    </tr>\n",
       "    <tr>\n",
       "      <th>3</th>\n",
       "      <td>623496</td>\n",
       "      <td>1493810730</td>\n",
       "      <td>buy</td>\n",
       "      <td>4262</td>\n",
       "      <td>370203</td>\n",
       "    </tr>\n",
       "    <tr>\n",
       "      <th>4</th>\n",
       "      <td>1099015</td>\n",
       "      <td>1493774927</td>\n",
       "      <td>buy</td>\n",
       "      <td>9390</td>\n",
       "      <td>347564</td>\n",
       "    </tr>\n",
       "  </tbody>\n",
       "</table>\n",
       "</div>"
      ],
      "text/plain": [
       "      user  time_stamp btag  cate   brand\n",
       "0   916958  1493811673  buy   123   97176\n",
       "1   916958  1493811809  buy   123   97176\n",
       "2   628854  1493781424  buy  4262  370203\n",
       "3   623496  1493810730  buy  4262  370203\n",
       "4  1099015  1493774927  buy  9390  347564"
      ]
     },
     "execution_count": 2,
     "metadata": {},
     "output_type": "execute_result"
    }
   ],
   "source": [
    "buy_behavior = pd.read_csv('buy_behavior_log.csv')\n",
    "number_of_queries = buy_behavior.shape[0]\n",
    "unique_brands = buy_behavior[\"brand\"].unique()\n",
    "unique_users = buy_behavior[\"user\"].unique()\n",
    "\n",
    "print(len(unique_brands))\n",
    "print(len(unique_users))\n",
    "print(number_of_queries)\n",
    "\n",
    "buy_behavior.head(5)"
   ]
  },
  {
   "cell_type": "code",
   "execution_count": 3,
   "id": "a1858d75",
   "metadata": {
    "scrolled": true
   },
   "outputs": [
    {
     "data": {
      "text/html": [
       "<div>\n",
       "<style scoped>\n",
       "    .dataframe tbody tr th:only-of-type {\n",
       "        vertical-align: middle;\n",
       "    }\n",
       "\n",
       "    .dataframe tbody tr th {\n",
       "        vertical-align: top;\n",
       "    }\n",
       "\n",
       "    .dataframe thead th {\n",
       "        text-align: right;\n",
       "    }\n",
       "</style>\n",
       "<table border=\"1\" class=\"dataframe\">\n",
       "  <thead>\n",
       "    <tr style=\"text-align: right;\">\n",
       "      <th></th>\n",
       "      <th>userid</th>\n",
       "      <th>cms_segid</th>\n",
       "      <th>cms_group_id</th>\n",
       "      <th>final_gender_code</th>\n",
       "      <th>age_level</th>\n",
       "      <th>pvalue_level</th>\n",
       "      <th>shopping_level</th>\n",
       "      <th>occupation</th>\n",
       "      <th>new_user_class_level</th>\n",
       "    </tr>\n",
       "  </thead>\n",
       "  <tbody>\n",
       "    <tr>\n",
       "      <th>0</th>\n",
       "      <td>234</td>\n",
       "      <td>0</td>\n",
       "      <td>5</td>\n",
       "      <td>2</td>\n",
       "      <td>5</td>\n",
       "      <td>NaN</td>\n",
       "      <td>3</td>\n",
       "      <td>0</td>\n",
       "      <td>3.0</td>\n",
       "    </tr>\n",
       "    <tr>\n",
       "      <th>1</th>\n",
       "      <td>523</td>\n",
       "      <td>5</td>\n",
       "      <td>2</td>\n",
       "      <td>2</td>\n",
       "      <td>2</td>\n",
       "      <td>1.0</td>\n",
       "      <td>3</td>\n",
       "      <td>1</td>\n",
       "      <td>2.0</td>\n",
       "    </tr>\n",
       "    <tr>\n",
       "      <th>2</th>\n",
       "      <td>612</td>\n",
       "      <td>0</td>\n",
       "      <td>8</td>\n",
       "      <td>1</td>\n",
       "      <td>2</td>\n",
       "      <td>2.0</td>\n",
       "      <td>3</td>\n",
       "      <td>0</td>\n",
       "      <td>NaN</td>\n",
       "    </tr>\n",
       "    <tr>\n",
       "      <th>3</th>\n",
       "      <td>1670</td>\n",
       "      <td>0</td>\n",
       "      <td>4</td>\n",
       "      <td>2</td>\n",
       "      <td>4</td>\n",
       "      <td>NaN</td>\n",
       "      <td>1</td>\n",
       "      <td>0</td>\n",
       "      <td>NaN</td>\n",
       "    </tr>\n",
       "    <tr>\n",
       "      <th>4</th>\n",
       "      <td>2545</td>\n",
       "      <td>0</td>\n",
       "      <td>10</td>\n",
       "      <td>1</td>\n",
       "      <td>4</td>\n",
       "      <td>NaN</td>\n",
       "      <td>3</td>\n",
       "      <td>0</td>\n",
       "      <td>NaN</td>\n",
       "    </tr>\n",
       "  </tbody>\n",
       "</table>\n",
       "</div>"
      ],
      "text/plain": [
       "   userid  cms_segid  cms_group_id  final_gender_code  age_level  \\\n",
       "0     234          0             5                  2          5   \n",
       "1     523          5             2                  2          2   \n",
       "2     612          0             8                  1          2   \n",
       "3    1670          0             4                  2          4   \n",
       "4    2545          0            10                  1          4   \n",
       "\n",
       "   pvalue_level  shopping_level  occupation  new_user_class_level   \n",
       "0           NaN               3           0                    3.0  \n",
       "1           1.0               3           1                    2.0  \n",
       "2           2.0               3           0                    NaN  \n",
       "3           NaN               1           0                    NaN  \n",
       "4           NaN               3           0                    NaN  "
      ]
     },
     "execution_count": 3,
     "metadata": {},
     "output_type": "execute_result"
    }
   ],
   "source": [
    "user_profile = pd.read_csv('user_profile.csv')\n",
    "\n",
    "user_profile.head(5)"
   ]
  },
  {
   "cell_type": "code",
   "execution_count": 4,
   "id": "25f567f5",
   "metadata": {},
   "outputs": [
    {
     "name": "stdout",
     "output_type": "stream",
     "text": [
      "           user  time_stamp btag  cate   brand  userid  cms_segid  \\\n",
      "0        916958  1493811673  buy   123   97176  916958         33   \n",
      "1        916958  1493811809  buy   123   97176  916958         33   \n",
      "2        916958  1494055722  buy  4267  178847  916958         33   \n",
      "3        916958  1494037918  buy   123   97176  916958         33   \n",
      "4        916958  1493811673  buy   123   97176  916958         33   \n",
      "...         ...         ...  ...   ...     ...     ...        ...   \n",
      "8825410  319183  1493526092  buy  2505  412044  319183         92   \n",
      "8825411  889393  1493567745  buy  6181  264201  889393         60   \n",
      "8825412  401828  1493532067  buy  1892  398556  401828          0   \n",
      "8825413  614980  1493525415  buy  8998  224985  614980          0   \n",
      "8825414  614980  1493525641  buy  8998  224985  614980          0   \n",
      "\n",
      "         cms_group_id  final_gender_code  age_level  pvalue_level  \\\n",
      "0                   4                  2          4           2.0   \n",
      "1                   4                  2          4           2.0   \n",
      "2                   4                  2          4           2.0   \n",
      "3                   4                  2          4           2.0   \n",
      "4                   4                  2          4           2.0   \n",
      "...               ...                ...        ...           ...   \n",
      "8825410            11                  1          5           2.0   \n",
      "8825411             9                  1          3           1.0   \n",
      "8825412             2                  2          2           NaN   \n",
      "8825413             4                  2          4           NaN   \n",
      "8825414             4                  2          4           NaN   \n",
      "\n",
      "         shopping_level  occupation  new_user_class_level   \n",
      "0                     3           0                    2.0  \n",
      "1                     3           0                    2.0  \n",
      "2                     3           0                    2.0  \n",
      "3                     3           0                    2.0  \n",
      "4                     3           0                    2.0  \n",
      "...                 ...         ...                    ...  \n",
      "8825410               3           0                    3.0  \n",
      "8825411               2           0                    2.0  \n",
      "8825412               3           0                    NaN  \n",
      "8825413               1           0                    NaN  \n",
      "8825414               1           0                    NaN  \n",
      "\n",
      "[8825415 rows x 14 columns]\n"
     ]
    }
   ],
   "source": [
    "# Merge the top_5_buy_behavior and user_profile dataframes on the 'userid' column\n",
    "merged_df = pd.merge(buy_behavior, user_profile, left_on='user', right_on='userid')\n",
    "print(merged_df)"
   ]
  },
  {
   "cell_type": "code",
   "execution_count": 5,
   "id": "4141eab0",
   "metadata": {},
   "outputs": [],
   "source": [
    "def analysis(data, sensitive_attribute_val, analysis_val):\n",
    "    \n",
    "    attribute_mapping = {1: 'final_gender_code', 2: 'age_level', 3: 'pvalue_level', 4: 'occupation'}\n",
    "    sensitive_attribute = attribute_mapping[sensitive_attribute_val]\n",
    "    \n",
    "    brand_mapping = {1: 'brand', 2: 'brand_combined'}\n",
    "    analysis_str = brand_mapping[analysis_val]\n",
    "    \n",
    "    # Group the merged dataframe by the 'brand' and 'pvalue_level' columns and get the count of each group\n",
    "    grouped_df = data.groupby([analysis_str, sensitive_attribute], as_index=False).count()[[analysis_str, sensitive_attribute, 'user']]\n",
    "\n",
    "    # Pivot the grouped dataframe to create a pivot table with the 'brand' column as the index, the 'pvalue_level' column as the columns and the 'user' column as the values\n",
    "    pivot_table = grouped_df.pivot(index=analysis_str, columns=sensitive_attribute, values='user')\n",
    "    pivot_table = pivot_table.fillna(0)\n",
    "    \n",
    "    # Get the total number of users for each gender\n",
    "    brand_totals = pivot_table.sum(axis=1)\n",
    "\n",
    "    # Divide the values in the pivot table by the gender totals and multiply by 100 to get the percent values\n",
    "    percent_table = (pivot_table / brand_totals.values.reshape(-1, 1)) * 100\n",
    "    percent_table = percent_table.fillna(0)\n",
    "    percent_table = percent_table.round(2)\n",
    "\n",
    "    # Find ambiguity value by subtracting max frequency from 100 in each row\n",
    "    ambiguity_values = 100 - percent_table.max(axis=1)\n",
    "\n",
    "    # Create new dataframe with brand and ambiguity value\n",
    "    ambiguity_table = pd.DataFrame({analysis_str: percent_table.index, 'ambiguity': ambiguity_values.round(2)}).reset_index(drop=True)\n",
    "\n",
    "    # Display the new dataframe\n",
    "\n",
    "    amb_dict = dict(ambiguity_table['ambiguity'].value_counts())\n",
    "\n",
    "    # Sort the dictionary items by their keys\n",
    "    ambiguity_dict_attribute = dict(sorted(amb_dict.items(), key=lambda x: x[0]))\n",
    "\n",
    "    ambiguity_users = {}\n",
    "\n",
    "    for index, row in ambiguity_table.iterrows():\n",
    "        brand = row[analysis_str]\n",
    "        ambiguity_value = row['ambiguity']\n",
    "        pivot_row = pivot_table.loc[brand]\n",
    "        total_users = int(pivot_row.sum())\n",
    "\n",
    "        if ambiguity_value in ambiguity_users:\n",
    "            ambiguity_users[ambiguity_value] += total_users\n",
    "\n",
    "        else:\n",
    "            ambiguity_users[ambiguity_value] = total_users\n",
    "\n",
    "    ambiguity_users = dict(sorted(ambiguity_users.items(), key=lambda x: x[0]))\n",
    "    \n",
    "    return pivot_table, ambiguity_dict_attribute, ambiguity_users\n",
    "\n",
    "\n",
    "    "
   ]
  },
  {
   "cell_type": "code",
   "execution_count": 6,
   "id": "3a531e6c",
   "metadata": {},
   "outputs": [],
   "source": [
    "def count_users_ambiguity_less_than_one(ambiguity_user_values):\n",
    "    count = 0\n",
    "    for ambiguity_value, num_users in ambiguity_user_values.items():\n",
    "        if ambiguity_value < 1.00:\n",
    "            count += num_users\n",
    "    return count\n",
    "\n"
   ]
  },
  {
   "cell_type": "code",
   "execution_count": null,
   "id": "c9bf4e2b",
   "metadata": {},
   "outputs": [],
   "source": []
  },
  {
   "cell_type": "code",
   "execution_count": null,
   "id": "7e6baaa6",
   "metadata": {},
   "outputs": [],
   "source": []
  },
  {
   "cell_type": "code",
   "execution_count": 7,
   "id": "795f7687",
   "metadata": {},
   "outputs": [],
   "source": [
    "######### Intersection Sensitive Attribute Attack ##########"
   ]
  },
  {
   "cell_type": "code",
   "execution_count": 8,
   "id": "79483332",
   "metadata": {
    "scrolled": true
   },
   "outputs": [
    {
     "name": "stdout",
     "output_type": "stream",
     "text": [
      "58326\n",
      "164438\n",
      "400000\n"
     ]
    },
    {
     "data": {
      "text/html": [
       "<div>\n",
       "<style scoped>\n",
       "    .dataframe tbody tr th:only-of-type {\n",
       "        vertical-align: middle;\n",
       "    }\n",
       "\n",
       "    .dataframe tbody tr th {\n",
       "        vertical-align: top;\n",
       "    }\n",
       "\n",
       "    .dataframe thead th {\n",
       "        text-align: right;\n",
       "    }\n",
       "</style>\n",
       "<table border=\"1\" class=\"dataframe\">\n",
       "  <thead>\n",
       "    <tr style=\"text-align: right;\">\n",
       "      <th></th>\n",
       "      <th>user</th>\n",
       "      <th>time_stamp</th>\n",
       "      <th>btag</th>\n",
       "      <th>cate</th>\n",
       "      <th>brand</th>\n",
       "    </tr>\n",
       "  </thead>\n",
       "  <tbody>\n",
       "    <tr>\n",
       "      <th>0</th>\n",
       "      <td>6</td>\n",
       "      <td>1492828747</td>\n",
       "      <td>buy</td>\n",
       "      <td>6806</td>\n",
       "      <td>310648</td>\n",
       "    </tr>\n",
       "    <tr>\n",
       "      <th>1</th>\n",
       "      <td>14</td>\n",
       "      <td>1492873399</td>\n",
       "      <td>buy</td>\n",
       "      <td>4505</td>\n",
       "      <td>106641</td>\n",
       "    </tr>\n",
       "    <tr>\n",
       "      <th>2</th>\n",
       "      <td>27</td>\n",
       "      <td>1492872065</td>\n",
       "      <td>buy</td>\n",
       "      <td>4288</td>\n",
       "      <td>315619</td>\n",
       "    </tr>\n",
       "    <tr>\n",
       "      <th>3</th>\n",
       "      <td>27</td>\n",
       "      <td>1492872065</td>\n",
       "      <td>buy</td>\n",
       "      <td>4520</td>\n",
       "      <td>315619</td>\n",
       "    </tr>\n",
       "    <tr>\n",
       "      <th>4</th>\n",
       "      <td>37</td>\n",
       "      <td>1492903473</td>\n",
       "      <td>buy</td>\n",
       "      <td>6274</td>\n",
       "      <td>43945</td>\n",
       "    </tr>\n",
       "  </tbody>\n",
       "</table>\n",
       "</div>"
      ],
      "text/plain": [
       "   user  time_stamp btag  cate   brand\n",
       "0     6  1492828747  buy  6806  310648\n",
       "1    14  1492873399  buy  4505  106641\n",
       "2    27  1492872065  buy  4288  315619\n",
       "3    27  1492872065  buy  4520  315619\n",
       "4    37  1492903473  buy  6274   43945"
      ]
     },
     "execution_count": 8,
     "metadata": {},
     "output_type": "execute_result"
    }
   ],
   "source": [
    "\n",
    "buy_behavior_combined = pd.read_csv('taobao_dataset_with_orders_female.csv')\n",
    "number_of_queries = buy_behavior_combined.shape[0]\n",
    "unique_brands = buy_behavior_combined[\"brand\"].unique()\n",
    "unique_users = buy_behavior_combined[\"user\"].unique()\n",
    "\n",
    "print(len(unique_brands))\n",
    "print(len(unique_users))\n",
    "print(number_of_queries)\n",
    "\n",
    "\n",
    "buy_behavior_combined = buy_behavior_combined.drop(['userid', 'final_gender_code', 'order_id'], axis=1)\n",
    "buy_behavior_combined.head(5)\n",
    "\n",
    "\n",
    "\n"
   ]
  },
  {
   "cell_type": "code",
   "execution_count": 9,
   "id": "5758aeee",
   "metadata": {},
   "outputs": [
    {
     "name": "stdout",
     "output_type": "stream",
     "text": [
      "          user  time_stamp btag   cate   brand  cms_segid  cms_group_id  \\\n",
      "0           66  1492915278  buy   4262  370203          7             2   \n",
      "1           73  1492884771  buy   1928  200935          0             5   \n",
      "2           95  1492820844  buy   5467  336520          8             2   \n",
      "3          105  1492923635  buy   6509   95766          0             4   \n",
      "4          105  1492923635  buy   6509   95766          0             4   \n",
      "...        ...         ...  ...    ...     ...        ...           ...   \n",
      "54574  1141615  1492934767  buy   6172  124290         22             3   \n",
      "54575  1141649  1492850619  buy   4267  168008          7             2   \n",
      "54576  1141649  1492858110  buy   4267  168008          7             2   \n",
      "54577  1141694  1492926773  buy   4384  247789          0             2   \n",
      "54578  1141694  1492936407  buy  12422  388700          0             2   \n",
      "\n",
      "       final_gender_code  age_level  pvalue_level  shopping_level  occupation  \\\n",
      "0                      2          2           2.0               3           0   \n",
      "1                      2          5           NaN               3           0   \n",
      "2                      2          2           2.0               3           0   \n",
      "3                      2          4           NaN               3           0   \n",
      "4                      2          4           NaN               3           0   \n",
      "...                  ...        ...           ...             ...         ...   \n",
      "54574                  2          3           3.0               3           0   \n",
      "54575                  2          2           1.0               3           0   \n",
      "54576                  2          2           1.0               3           0   \n",
      "54577                  2          2           NaN               3           1   \n",
      "54578                  2          2           NaN               3           1   \n",
      "\n",
      "       new_user_class_level   \n",
      "0                        2.0  \n",
      "1                        NaN  \n",
      "2                        3.0  \n",
      "3                        4.0  \n",
      "4                        4.0  \n",
      "...                      ...  \n",
      "54574                    3.0  \n",
      "54575                    1.0  \n",
      "54576                    1.0  \n",
      "54577                    2.0  \n",
      "54578                    2.0  \n",
      "\n",
      "[54579 rows x 13 columns]\n"
     ]
    }
   ],
   "source": [
    "brand_combinations = [(93403, 12869),\n",
    "(12869, 370203),\n",
    "(370203, 14983),\n",
    "(77625, 18593),\n",
    "(18593, 124290),\n",
    "(370203, 18593),\n",
    "(392793, 18593),\n",
    "(143597, 18595),\n",
    "(370203, 36241),\n",
    "(38543, 370203),\n",
    "(370203, 49257),\n",
    "(78538, 370203),\n",
    "(370203, 83456),\n",
    "(88078, 370203),\n",
    "(92746, 132243),\n",
    "(93403, 370203),\n",
    "(95766, 370203),\n",
    "(98931, 224985),\n",
    "(98931, 247789),\n",
    "(370203, 98931),\n",
    "(388700, 98931),\n",
    "(103147, 370203),\n",
    "(132243, 124290),\n",
    "(370203, 124290),\n",
    "(392793, 124290),\n",
    "(132243, 129994),\n",
    "(340073, 129994),\n",
    "(132243, 257414),\n",
    "(132243, 313898),\n",
    "(370203, 132353),\n",
    "(143597, 247789),\n",
    "(370203, 143597),\n",
    "(370203, 160582),\n",
    "(370203, 168008),\n",
    "(188059, 370203),\n",
    "(370203, 200935),\n",
    "(370203, 219901),\n",
    "(370203, 224985),\n",
    "(235358, 370203),\n",
    "(370203, 247789),\n",
    "(388700, 247789),\n",
    "(370203, 282953),\n",
    "(370203, 293023),\n",
    "(370203, 336520),\n",
    "(370203, 342760),\n",
    "(388700, 342760),\n",
    "(370203, 353787),\n",
    "(366684, 370203),\n",
    "(376599, 370203),\n",
    "(388700, 370203),\n",
    "(370203, 390518),\n",
    "(370203, 400399),\n",
    "(370203, 425589),\n",
    "(370203, 437724),\n",
    "(388700, 390518),\n",
    "(388700, 425589),\n",
    "(388700, 437724)]\n",
    "\n",
    "unique_brands = sorted(list(set(sum(brand_combinations, ()))))\n",
    "\n",
    "top_brands_data = buy_behavior_combined[buy_behavior_combined['brand'].isin(unique_brands)]\n",
    "\n",
    "merged_data = pd.merge(top_brands_data, user_profile, left_on='user', right_on='userid')\n",
    "# Drop the 'userid' column since it contains the same values as 'user'\n",
    "merged_data = merged_data.drop('userid', axis=1)\n",
    "print(merged_data)\n",
    "\n",
    "\n"
   ]
  },
  {
   "cell_type": "code",
   "execution_count": 10,
   "id": "18deb836",
   "metadata": {},
   "outputs": [
    {
     "data": {
      "text/plain": [
       "'\\ntop_brands = buy_behavior[\\'brand\\'].value_counts().head(100).index.tolist()\\ntop_brands_data = buy_behavior[buy_behavior[\\'brand\\'].isin(top_brands)]\\n\\nnumber_of_queries = top_brands_data.shape[0]\\nunique_brands = top_brands_data[\"brand\"].unique()\\nunique_users = top_brands_data[\"user\"].unique()\\n\\nprint(len(unique_brands))\\nprint(len(unique_users))\\nprint(number_of_queries)\\n\\nmerged_data = pd.merge(top_brands_data, user_profile, left_on=\\'user\\', right_on=\\'userid\\')\\n# Drop the \\'userid\\' column since it contains the same values as \\'user\\'\\nmerged_data = merged_data.drop(\\'userid\\', axis=1)\\nmerged_data.head(5)\\n\\nbrand_combinations = list(itertools.combinations(top_brands, 2))\\nprint(len(brand_combinations))\\n\\n'"
      ]
     },
     "execution_count": 10,
     "metadata": {},
     "output_type": "execute_result"
    }
   ],
   "source": [
    "##### Top brands Dataset  #####\n",
    "\"\"\"\n",
    "top_brands = buy_behavior['brand'].value_counts().head(100).index.tolist()\n",
    "top_brands_data = buy_behavior[buy_behavior['brand'].isin(top_brands)]\n",
    "\n",
    "number_of_queries = top_brands_data.shape[0]\n",
    "unique_brands = top_brands_data[\"brand\"].unique()\n",
    "unique_users = top_brands_data[\"user\"].unique()\n",
    "\n",
    "print(len(unique_brands))\n",
    "print(len(unique_users))\n",
    "print(number_of_queries)\n",
    "\n",
    "merged_data = pd.merge(top_brands_data, user_profile, left_on='user', right_on='userid')\n",
    "# Drop the 'userid' column since it contains the same values as 'user'\n",
    "merged_data = merged_data.drop('userid', axis=1)\n",
    "merged_data.head(5)\n",
    "\n",
    "brand_combinations = list(itertools.combinations(top_brands, 2))\n",
    "print(len(brand_combinations))\n",
    "\n",
    "\"\"\"\n"
   ]
  },
  {
   "cell_type": "code",
   "execution_count": null,
   "id": "eb7d7574",
   "metadata": {},
   "outputs": [],
   "source": []
  },
  {
   "cell_type": "code",
   "execution_count": 11,
   "id": "8e4099b9",
   "metadata": {},
   "outputs": [
    {
     "name": "stdout",
     "output_type": "stream",
     "text": [
      "     age_level final_gender_code  pvalue_level occupation       user  \\\n",
      "0            2                 2           1.0          0    91738.0   \n",
      "1            2                 2           2.0          0   197094.0   \n",
      "3            5                 2           2.0          0   352526.0   \n",
      "4            3                 2           NaN          0   356836.0   \n",
      "5            3                 2           2.0          0   403461.0   \n",
      "...        ...               ...           ...        ...        ...   \n",
      "2549         3                 2           NaN          0   942085.0   \n",
      "2551         2                 2           NaN          0   970761.0   \n",
      "2553         2                 2           NaN          0   971421.0   \n",
      "2556         3                 2           NaN          0  1023175.0   \n",
      "2557         5                 2           2.0          0  1095364.0   \n",
      "\n",
      "     brand_combined  \n",
      "0       93403_12869  \n",
      "1       93403_12869  \n",
      "3       93403_12869  \n",
      "4       93403_12869  \n",
      "5       93403_12869  \n",
      "...             ...  \n",
      "2549  388700_437724  \n",
      "2551  388700_437724  \n",
      "2553  388700_437724  \n",
      "2556  388700_437724  \n",
      "2557  388700_437724  \n",
      "\n",
      "[1590 rows x 6 columns]\n"
     ]
    }
   ],
   "source": [
    "import warnings\n",
    "from pandas.core.common import SettingWithCopyWarning\n",
    "\n",
    "warnings.simplefilter(action=\"ignore\", category=SettingWithCopyWarning)\n",
    "\n",
    "\n",
    "result_df = pd.DataFrame(columns=['age_level', 'final_gender_code', 'pvalue_level', 'occupation'])\n",
    "\n",
    "for brand_combo in brand_combinations:\n",
    "    brand1, brand2 = brand_combo\n",
    "    brand_data = merged_data[(merged_data['brand']==brand1) & (merged_data['user'].isin(merged_data[merged_data['brand']==brand2]['user'].tolist()))]\n",
    "    brand_data['brand2'] = brand2\n",
    "    user_data = brand_data[['user','brand', 'brand2', 'age_level', 'final_gender_code', 'pvalue_level', 'occupation']]\n",
    "    result_df = result_df.append(user_data, ignore_index=True)\n",
    "result_df = result_df.drop_duplicates(keep='first')\n",
    "\n",
    "# Combine the brand and brand2 columns into a single column called \"brand_combined\"\n",
    "result_df['brand_combined'] = result_df['brand'].fillna(0).astype(int).astype(str) + '_' + result_df['brand2'].fillna(0).astype(int).astype(str)\n",
    "\n",
    "# Drop the original brand and brand2 columns\n",
    "result_df.drop(['brand', 'brand2'], axis=1, inplace=True)\n",
    "print(result_df)"
   ]
  },
  {
   "cell_type": "code",
   "execution_count": 12,
   "id": "6b8e1f47",
   "metadata": {},
   "outputs": [],
   "source": [
    "result_df.to_csv('result_df.csv', index = False)"
   ]
  },
  {
   "cell_type": "code",
   "execution_count": 13,
   "id": "82d0a4c3",
   "metadata": {},
   "outputs": [],
   "source": [
    "####### Gender analysis Combined brands #######"
   ]
  },
  {
   "cell_type": "code",
   "execution_count": 14,
   "id": "fe3bb1a4",
   "metadata": {},
   "outputs": [
    {
     "name": "stdout",
     "output_type": "stream",
     "text": [
      "final_gender_code    2\n",
      "brand_combined        \n",
      "103147_370203       13\n",
      "12869_370203         9\n",
      "132243_124290       28\n",
      "132243_129994       39\n",
      "132243_257414       51\n",
      "132243_313898       28\n",
      "143597_18595        49\n",
      "143597_247789       32\n",
      "18593_124290        94\n",
      "188059_370203       10\n",
      "235358_370203       12\n",
      "340073_129994       55\n",
      "366684_370203       20\n",
      "370203_124290       23\n",
      "370203_132353        9\n",
      "370203_143597       47\n",
      "370203_14983         8\n",
      "370203_160582        5\n",
      "370203_168008       35\n",
      "370203_18593        13\n",
      "370203_200935       11\n",
      "370203_224985       39\n",
      "370203_247789       68\n",
      "370203_282953       17\n",
      "370203_293023       19\n",
      "370203_336520       21\n",
      "370203_342760       25\n",
      "370203_353787       24\n",
      "370203_36241         9\n",
      "370203_390518       25\n",
      "370203_400399        8\n",
      "370203_425589       47\n",
      "370203_437724       32\n",
      "370203_49257         4\n",
      "370203_83456         2\n",
      "370203_98931        17\n",
      "376599_370203        3\n",
      "38543_370203         5\n",
      "388700_247789        9\n",
      "388700_342760        5\n",
      "388700_370203      327\n",
      "388700_390518       10\n",
      "388700_425589       13\n",
      "388700_437724       34\n",
      "388700_98931         3\n",
      "392793_124290       45\n",
      "392793_18593        41\n",
      "77625_18593         21\n",
      "78538_370203         1\n",
      "88078_370203        12\n",
      "92746_132243        32\n",
      "93403_12869         16\n",
      "93403_370203         3\n",
      "95766_370203        34\n",
      "98931_224985        12\n",
      "98931_247789        16\n"
     ]
    },
    {
     "data": {
      "image/png": "[encoded data removed]",
      "text/plain": [
       "<Figure size 432x288 with 1 Axes>"
      ]
     },
     "metadata": {
      "needs_background": "light"
     },
     "output_type": "display_data"
    }
   ],
   "source": [
    "pivot_table_gender, ambiguity_dict_gender, ambiguity_users_gender = analysis(result_df, 1, 2)\n",
    "print(pivot_table_gender)\n",
    "x_values = list(ambiguity_dict_gender.keys())\n",
    "y_values = list(ambiguity_dict_gender.values())\n",
    "\n",
    "# Create a histogram with 10 bins\n",
    "plt.hist(x_values, bins=100, weights=y_values)\n",
    "\n",
    "# Add axis labels and a title\n",
    "plt.xlabel('Ambiguity about Gender groups using Combination of brands')\n",
    "plt.ylabel('Number of brands')\n",
    "plt.title('Ambiguity Distribution for gender')\n",
    "\n",
    "# Show the plot\n",
    "plt.show()"
   ]
  },
  {
   "cell_type": "code",
   "execution_count": 15,
   "id": "9197b25f",
   "metadata": {},
   "outputs": [
    {
     "name": "stdout",
     "output_type": "stream",
     "text": [
      "1590\n"
     ]
    },
    {
     "data": {
      "image/png": "[encoded data removed]",
      "text/plain": [
       "<Figure size 432x288 with 1 Axes>"
      ]
     },
     "metadata": {
      "needs_background": "light"
     },
     "output_type": "display_data"
    }
   ],
   "source": [
    "# `ambiguity_dict` is the sorted dictionary you created earlier\n",
    "x_values = list(ambiguity_users_gender.keys())\n",
    "y_values = list(ambiguity_users_gender.values())\n",
    "print(count_users_ambiguity_less_than_one(ambiguity_users_gender))\n",
    "\n",
    "# Create a histogram with 10 bins\n",
    "plt.hist(x_values, bins=10, weights=y_values)\n",
    "\n",
    "plt.xlabel('Ambiguity of Gender using Combination of brands')\n",
    "plt.ylabel('Number of users')\n",
    "plt.title('Ambiguity Value Distribution for gender')\n",
    "plt.show()"
   ]
  },
  {
   "cell_type": "code",
   "execution_count": 16,
   "id": "d3e19911",
   "metadata": {},
   "outputs": [
    {
     "data": {
      "image/png": "[encoded data removed]",
      "text/plain": [
       "<Figure size 432x288 with 1 Axes>"
      ]
     },
     "metadata": {
      "needs_background": "light"
     },
     "output_type": "display_data"
    }
   ],
   "source": [
    "pivot_table_gender, ambiguity_dict_gender, ambiguity_users_gender = analysis(merged_data, 1, 1)\n",
    "x_values = list(ambiguity_dict_gender.keys())\n",
    "y_values = list(ambiguity_dict_gender.values())\n",
    "\n",
    "# Create a histogram with 10 bins\n",
    "plt.hist(x_values, bins=100, weights=y_values)\n",
    "\n",
    "# Add axis labels and a title\n",
    "plt.xlabel('Ambiguity about Gender groups using Single brands')\n",
    "plt.ylabel('Number of brands')\n",
    "plt.title('Ambiguity Distribution for gender')\n",
    "\n",
    "# Show the plot\n",
    "plt.show()"
   ]
  },
  {
   "cell_type": "code",
   "execution_count": 17,
   "id": "e448ccf4",
   "metadata": {},
   "outputs": [
    {
     "name": "stdout",
     "output_type": "stream",
     "text": [
      "54579\n"
     ]
    },
    {
     "data": {
      "image/png": "[encoded data removed]",
      "text/plain": [
       "<Figure size 432x288 with 1 Axes>"
      ]
     },
     "metadata": {
      "needs_background": "light"
     },
     "output_type": "display_data"
    }
   ],
   "source": [
    "# `ambiguity_dict` is the sorted dictionary you created earlier\n",
    "x_values = list(ambiguity_users_gender.keys())\n",
    "y_values = list(ambiguity_users_gender.values())\n",
    "print(count_users_ambiguity_less_than_one(ambiguity_users_gender))\n",
    "\n",
    "# Create a histogram with 10 bins\n",
    "plt.hist(x_values, bins=10, weights=y_values)\n",
    "\n",
    "plt.xlabel('Ambiguity of Gender using Single brands')\n",
    "plt.ylabel('Number of users')\n",
    "plt.title('Ambiguity Value Distribution for gender')\n",
    "plt.show()"
   ]
  },
  {
   "cell_type": "code",
   "execution_count": null,
   "id": "6c232fcc",
   "metadata": {},
   "outputs": [],
   "source": []
  },
  {
   "cell_type": "code",
   "execution_count": null,
   "id": "c8563e20",
   "metadata": {},
   "outputs": [],
   "source": []
  },
  {
   "cell_type": "code",
   "execution_count": 18,
   "id": "85d5c6b2",
   "metadata": {},
   "outputs": [],
   "source": [
    "######## Age Analysis #########\n",
    "# 7 age groups"
   ]
  },
  {
   "cell_type": "code",
   "execution_count": 19,
   "id": "de56768f",
   "metadata": {},
   "outputs": [
    {
     "data": {
      "image/png": "[encoded data removed]",
      "text/plain": [
       "<Figure size 432x288 with 1 Axes>"
      ]
     },
     "metadata": {
      "needs_background": "light"
     },
     "output_type": "display_data"
    }
   ],
   "source": [
    "pivot_table_age, ambiguity_dict_age, ambiguity_users_age = analysis(result_df, 2, 2)\n",
    "x_values = list(ambiguity_dict_age.keys())\n",
    "y_values = list(ambiguity_dict_age.values())\n",
    "\n",
    "# Create a histogram with 10 bins\n",
    "plt.hist(x_values, bins=100, weights=y_values)\n",
    "\n",
    "# Add axis labels and a title\n",
    "plt.xlabel('Ambiguity about Age groups using Combination of brands')\n",
    "plt.ylabel('Number of brands')\n",
    "plt.title('Ambiguity Distribution for Age')\n",
    "\n",
    "# Show the plot\n",
    "plt.show()"
   ]
  },
  {
   "cell_type": "code",
   "execution_count": 20,
   "id": "5e367354",
   "metadata": {},
   "outputs": [
    {
     "name": "stdout",
     "output_type": "stream",
     "text": [
      "1\n"
     ]
    },
    {
     "data": {
      "image/png": "[encoded data removed]",
      "text/plain": [
       "<Figure size 432x288 with 1 Axes>"
      ]
     },
     "metadata": {
      "needs_background": "light"
     },
     "output_type": "display_data"
    }
   ],
   "source": [
    "# `ambiguity_dict` is the sorted dictionary you created earlier\n",
    "x_values = list(ambiguity_users_age.keys())\n",
    "y_values = list(ambiguity_users_age.values())\n",
    "print(count_users_ambiguity_less_than_one(ambiguity_users_age))\n",
    "\n",
    "# Create a histogram with 10 bins\n",
    "plt.hist(x_values, bins=10, weights=y_values)\n",
    "\n",
    "plt.xlabel('Ambiguity of Age groups using Combination brands')\n",
    "plt.ylabel('Number of users')\n",
    "plt.title('Ambiguity Value Distribution for Age')\n",
    "plt.show()"
   ]
  },
  {
   "cell_type": "code",
   "execution_count": 21,
   "id": "debd3aa5",
   "metadata": {},
   "outputs": [
    {
     "data": {
      "image/png": "[encoded data removed]",
      "text/plain": [
       "<Figure size 432x288 with 1 Axes>"
      ]
     },
     "metadata": {
      "needs_background": "light"
     },
     "output_type": "display_data"
    }
   ],
   "source": [
    "pivot_table_age, ambiguity_dict_age, ambiguity_users_age = analysis(merged_data, 2, 1)\n",
    "x_values = list(ambiguity_dict_age.keys())\n",
    "y_values = list(ambiguity_dict_age.values())\n",
    "\n",
    "# Create a histogram with 10 bins\n",
    "plt.hist(x_values, bins=100, weights=y_values)\n",
    "\n",
    "# Add axis labels and a title\n",
    "plt.xlabel('Ambiguity about Age groups using Single brands')\n",
    "plt.ylabel('Number of brands')\n",
    "plt.title('Ambiguity Distribution for Age')\n",
    "\n",
    "# Show the plot\n",
    "plt.show()"
   ]
  },
  {
   "cell_type": "code",
   "execution_count": 22,
   "id": "4cabd8a3",
   "metadata": {},
   "outputs": [
    {
     "name": "stdout",
     "output_type": "stream",
     "text": [
      "0\n"
     ]
    },
    {
     "data": {
      "image/png": "[encoded data removed]",
      "text/plain": [
       "<Figure size 432x288 with 1 Axes>"
      ]
     },
     "metadata": {
      "needs_background": "light"
     },
     "output_type": "display_data"
    }
   ],
   "source": [
    "# `ambiguity_dict` is the sorted dictionary you created earlier\n",
    "x_values = list(ambiguity_users_age.keys())\n",
    "y_values = list(ambiguity_users_age.values())\n",
    "print(count_users_ambiguity_less_than_one(ambiguity_users_age))\n",
    "\n",
    "# Create a histogram with 10 bins\n",
    "plt.hist(x_values, bins=10, weights=y_values)\n",
    "\n",
    "plt.xlabel('Ambiguity of Age groups using Single brands')\n",
    "plt.ylabel('Number of users')\n",
    "plt.title('Ambiguity Value Distribution for Age')\n",
    "plt.show()"
   ]
  },
  {
   "cell_type": "code",
   "execution_count": null,
   "id": "b27d8c21",
   "metadata": {},
   "outputs": [],
   "source": []
  },
  {
   "cell_type": "code",
   "execution_count": null,
   "id": "9fe2582a",
   "metadata": {},
   "outputs": [],
   "source": []
  },
  {
   "cell_type": "code",
   "execution_count": 23,
   "id": "8a694f41",
   "metadata": {},
   "outputs": [],
   "source": [
    "###### pvalue_level ######\n",
    "# 1: low 2: medium 3: high consumption levels"
   ]
  },
  {
   "cell_type": "code",
   "execution_count": 24,
   "id": "5729e85f",
   "metadata": {},
   "outputs": [
    {
     "data": {
      "image/png": "[encoded data removed]",
      "text/plain": [
       "<Figure size 432x288 with 1 Axes>"
      ]
     },
     "metadata": {
      "needs_background": "light"
     },
     "output_type": "display_data"
    }
   ],
   "source": [
    "pivot_table_pval, ambiguity_dict_pval, ambiguity_users_pval = analysis(result_df, 3, 2)\n",
    "x_values = list(ambiguity_dict_pval.keys())\n",
    "y_values = list(ambiguity_dict_pval.values())\n",
    "\n",
    "# Create a histogram with 10 bins\n",
    "plt.hist(x_values, bins=100, weights=y_values)\n",
    "\n",
    "# Add axis labels and a title\n",
    "plt.xlabel('Ambiguity about Pvalue/Consumption groups using Combination of brands')\n",
    "plt.ylabel('Number of brands')\n",
    "plt.title('Ambiguity Distribution for Pvalue')\n",
    "\n",
    "# Show the plot\n",
    "plt.show()"
   ]
  },
  {
   "cell_type": "code",
   "execution_count": 25,
   "id": "a1dbae91",
   "metadata": {},
   "outputs": [
    {
     "name": "stdout",
     "output_type": "stream",
     "text": [
      "9\n"
     ]
    },
    {
     "data": {
      "image/png": "[encoded data removed]",
      "text/plain": [
       "<Figure size 432x288 with 1 Axes>"
      ]
     },
     "metadata": {
      "needs_background": "light"
     },
     "output_type": "display_data"
    }
   ],
   "source": [
    "# `ambiguity_dict` is the sorted dictionary you created earlier\n",
    "x_values = list(ambiguity_users_pval.keys())\n",
    "y_values = list(ambiguity_users_pval.values())\n",
    "print(count_users_ambiguity_less_than_one(ambiguity_users_pval))\n",
    "\n",
    "# Create a histogram with 10 bins\n",
    "plt.hist(x_values, bins=10, weights=y_values)\n",
    "\n",
    "plt.xlabel('Ambiguity of Pvalue/Consumption groups using Comniation of brands')\n",
    "plt.ylabel('Number of users')\n",
    "plt.title('Ambiguity Value Distribution for Pvalue')\n",
    "plt.show()"
   ]
  },
  {
   "cell_type": "code",
   "execution_count": 26,
   "id": "b3ac9c4a",
   "metadata": {},
   "outputs": [
    {
     "data": {
      "image/png": "[encoded data removed]",
      "text/plain": [
       "<Figure size 432x288 with 1 Axes>"
      ]
     },
     "metadata": {
      "needs_background": "light"
     },
     "output_type": "display_data"
    }
   ],
   "source": [
    "pivot_table_pval, ambiguity_dict_pval, ambiguity_users_pval = analysis(merged_data, 3, 1)\n",
    "x_values = list(ambiguity_dict_pval.keys())\n",
    "y_values = list(ambiguity_dict_pval.values())\n",
    "\n",
    "# Create a histogram with 10 bins\n",
    "plt.hist(x_values, bins=100, weights=y_values)\n",
    "\n",
    "# Add axis labels and a title\n",
    "plt.xlabel('Ambiguity about Pvalue/Consumption groups using Single brands')\n",
    "plt.ylabel('Number of brands')\n",
    "plt.title('Ambiguity Distribution for Pvalue')\n",
    "\n",
    "# Show the plot\n",
    "plt.show()"
   ]
  },
  {
   "cell_type": "code",
   "execution_count": 27,
   "id": "d581af30",
   "metadata": {},
   "outputs": [
    {
     "name": "stdout",
     "output_type": "stream",
     "text": [
      "0\n"
     ]
    },
    {
     "data": {
      "image/png": "[encoded data removed]",
      "text/plain": [
       "<Figure size 432x288 with 1 Axes>"
      ]
     },
     "metadata": {
      "needs_background": "light"
     },
     "output_type": "display_data"
    }
   ],
   "source": [
    "# `ambiguity_dict` is the sorted dictionary you created earlier\n",
    "x_values = list(ambiguity_users_pval.keys())\n",
    "y_values = list(ambiguity_users_pval.values())\n",
    "print(count_users_ambiguity_less_than_one(ambiguity_users_pval))\n",
    "\n",
    "# Create a histogram with 10 bins\n",
    "plt.hist(x_values, bins=10, weights=y_values)\n",
    "\n",
    "plt.xlabel('Ambiguity of Pvalue/Consumption groups using Single brands')\n",
    "plt.ylabel('Number of users')\n",
    "plt.title('Ambiguity Value Distribution for Pvalue')\n",
    "plt.show()"
   ]
  },
  {
   "cell_type": "code",
   "execution_count": null,
   "id": "68fd9513",
   "metadata": {},
   "outputs": [],
   "source": []
  },
  {
   "cell_type": "code",
   "execution_count": null,
   "id": "28087a94",
   "metadata": {},
   "outputs": [],
   "source": []
  },
  {
   "cell_type": "code",
   "execution_count": 28,
   "id": "81e61e99",
   "metadata": {},
   "outputs": [],
   "source": [
    "######## Occupation #######\n",
    "# 1: college student 0: not a colllege student"
   ]
  },
  {
   "cell_type": "code",
   "execution_count": 29,
   "id": "6a87ed62",
   "metadata": {},
   "outputs": [
    {
     "data": {
      "image/png": "[encoded data removed]",
      "text/plain": [
       "<Figure size 432x288 with 1 Axes>"
      ]
     },
     "metadata": {
      "needs_background": "light"
     },
     "output_type": "display_data"
    }
   ],
   "source": [
    "###### occupation ######\n",
    "# Is the college student 1: yes, 0: no?\n",
    "\n",
    "pivot_table_occup, ambiguity_dict_occup, ambiguity_users_occup = analysis(result_df, 4, 2)\n",
    "x_values = list(ambiguity_dict_occup.keys())\n",
    "y_values = list(ambiguity_dict_occup.values())\n",
    "\n",
    "# Create a histogram with 10 bins\n",
    "plt.hist(x_values, bins=100, weights=y_values)\n",
    "\n",
    "# Add axis labels and a title\n",
    "plt.xlabel('Ambiguity about Occupation groups using Combination of brands')\n",
    "plt.ylabel('Number of brands')\n",
    "plt.title('Ambiguity Distribution for Occupation')\n",
    "\n",
    "# Show the plot\n",
    "plt.show()"
   ]
  },
  {
   "cell_type": "code",
   "execution_count": 30,
   "id": "a8113034",
   "metadata": {},
   "outputs": [
    {
     "name": "stdout",
     "output_type": "stream",
     "text": [
      "307\n"
     ]
    },
    {
     "data": {
      "image/png": "[encoded data removed]",
      "text/plain": [
       "<Figure size 432x288 with 1 Axes>"
      ]
     },
     "metadata": {
      "needs_background": "light"
     },
     "output_type": "display_data"
    }
   ],
   "source": [
    "# `ambiguity_dict` is the sorted dictionary you created earlier\n",
    "x_values = list(ambiguity_users_occup.keys())\n",
    "y_values = list(ambiguity_users_occup.values())\n",
    "print(count_users_ambiguity_less_than_one(ambiguity_users_occup))\n",
    "\n",
    "# Create a histogram with 10 bins\n",
    "plt.hist(x_values, bins=10, weights=y_values)\n",
    "\n",
    "plt.xlabel('Ambiguity of Occupation groups using Combination of brands')\n",
    "plt.ylabel('Number of users')\n",
    "plt.title('Ambiguity Value Distribution for Occupation')\n",
    "plt.show()"
   ]
  },
  {
   "cell_type": "code",
   "execution_count": 31,
   "id": "028431eb",
   "metadata": {},
   "outputs": [
    {
     "data": {
      "image/png": "[encoded data removed]",
      "text/plain": [
       "<Figure size 432x288 with 1 Axes>"
      ]
     },
     "metadata": {
      "needs_background": "light"
     },
     "output_type": "display_data"
    }
   ],
   "source": [
    "###### occupation ######\n",
    "# Is the college student 1: yes, 0: no?\n",
    "\n",
    "pivot_table_occup, ambiguity_dict_occup, ambiguity_users_occup = analysis(merged_data, 4, 1)\n",
    "x_values = list(ambiguity_dict_occup.keys())\n",
    "y_values = list(ambiguity_dict_occup.values())\n",
    "\n",
    "# Create a histogram with 10 bins\n",
    "plt.hist(x_values, bins=100, weights=y_values)\n",
    "\n",
    "# Add axis labels and a title\n",
    "plt.xlabel('Ambiguity about Occupation groups using Single brands')\n",
    "plt.ylabel('Number of brands')\n",
    "plt.title('Ambiguity Distribution for Occupation')\n",
    "\n",
    "# Show the plot\n",
    "plt.show()"
   ]
  },
  {
   "cell_type": "code",
   "execution_count": 32,
   "id": "08d04fda",
   "metadata": {},
   "outputs": [
    {
     "name": "stdout",
     "output_type": "stream",
     "text": [
      "141\n"
     ]
    },
    {
     "data": {
      "image/png": "[encoded data removed]",
      "text/plain": [
       "<Figure size 432x288 with 1 Axes>"
      ]
     },
     "metadata": {
      "needs_background": "light"
     },
     "output_type": "display_data"
    }
   ],
   "source": [
    "# `ambiguity_dict` is the sorted dictionary you created earlier\n",
    "x_values = list(ambiguity_users_occup.keys())\n",
    "y_values = list(ambiguity_users_occup.values())\n",
    "print(count_users_ambiguity_less_than_one(ambiguity_users_occup))\n",
    "\n",
    "# Create a histogram with 10 bins\n",
    "plt.hist(x_values, bins=10, weights=y_values)\n",
    "\n",
    "plt.xlabel('Ambiguity of Occupation groups using Single brands')\n",
    "plt.ylabel('Number of users')\n",
    "plt.title('Ambiguity Value Distribution for Occupation')\n",
    "plt.show()"
   ]
  },
  {
   "cell_type": "code",
   "execution_count": null,
   "id": "abf1f155",
   "metadata": {},
   "outputs": [],
   "source": []
  },
  {
   "cell_type": "code",
   "execution_count": null,
   "id": "3b756913",
   "metadata": {},
   "outputs": [],
   "source": []
  }
 ],
 "metadata": {
  "kernelspec": {
   "display_name": "Python 3",
   "language": "python",
   "name": "python3"
  },
  "language_info": {
   "codemirror_mode": {
    "name": "ipython",
    "version": 3
   },
   "file_extension": ".py",
   "mimetype": "text/x-python",
   "name": "python",
   "nbconvert_exporter": "python",
   "pygments_lexer": "ipython3",
   "version": "3.8.8"
  }
 },
 "nbformat": 4,
 "nbformat_minor": 5
}
