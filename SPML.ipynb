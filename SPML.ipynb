{
 "cells": [
  {
   "cell_type": "code",
   "execution_count": 1,
   "id": "178ddaa4",
   "metadata": {},
   "outputs": [],
   "source": [
    "import pandas as pd"
   ]
  },
  {
   "cell_type": "code",
   "execution_count": 2,
   "id": "ae999c3e",
   "metadata": {},
   "outputs": [],
   "source": [
    "ad_feature = pd.read_csv('PycharmProjects/SPML/ad_feature.csv')"
   ]
  },
  {
   "cell_type": "code",
   "execution_count": 3,
   "id": "92697a5e",
   "metadata": {},
   "outputs": [],
   "source": [
    "raw_sample = pd.read_csv('PycharmProjects/SPML/raw_sample.csv')"
   ]
  },
  {
   "cell_type": "code",
   "execution_count": 4,
   "id": "4af41788",
   "metadata": {},
   "outputs": [],
   "source": [
    "user_profile = pd.read_csv('PycharmProjects/SPML/user_profile.csv')\n",
    "# add behavior log dataset"
   ]
  },
  {
   "cell_type": "code",
   "execution_count": 5,
   "id": "7104cf53",
   "metadata": {},
   "outputs": [],
   "source": [
    "clicks_brand = pd.merge(raw_sample, ad_feature[['brand', 'adgroup_id']], how='left', on='adgroup_id')"
   ]
  },
  {
   "cell_type": "code",
   "execution_count": 6,
   "id": "9baf0645",
   "metadata": {},
   "outputs": [
    {
     "name": "stdout",
     "output_type": "stream",
     "text": [
      "            user  time_stamp  adgroup_id          pid  nonclk  clk\n",
      "0         581738  1494137644           1  430548_1007       1    0\n",
      "1         449818  1494638778           3  430548_1007       1    0\n",
      "2         914836  1494650879           4  430548_1007       1    0\n",
      "3         914836  1494651029           5  430548_1007       1    0\n",
      "4         399907  1494302958           8  430548_1007       1    0\n",
      "...          ...         ...         ...          ...     ...  ...\n",
      "26557956    6834  1494139949      846808  430548_1007       1    0\n",
      "26557957   16815  1494328475      846808  430548_1007       1    0\n",
      "26557958  736609  1494597871      846809  430548_1007       1    0\n",
      "26557959  735781  1494684550      846809  430539_1007       1    0\n",
      "26557960  735781  1494677729      846810  430539_1007       1    0\n",
      "\n",
      "[26557961 rows x 6 columns]\n"
     ]
    }
   ],
   "source": [
    "print(raw_sample)"
   ]
  },
  {
   "cell_type": "code",
   "execution_count": 7,
   "id": "f66b20c6",
   "metadata": {},
   "outputs": [],
   "source": [
    "clicks_with_brand = pd.merge(left=raw_sample, right=ad_feature, how='inner', on='adgroup_id')"
   ]
  },
  {
   "cell_type": "code",
   "execution_count": 9,
   "id": "910b40a5",
   "metadata": {},
   "outputs": [],
   "source": [
    "clicks_user_brand = pd.merge(clicks_brand, user_profile[['final_gender_code', 'age_level', 'userid']], how='left',\n",
    "                             left_on='user', right_on='userid')\n",
    "#filter out columns not required\n",
    "#join columns with behavior log and user datasets"
   ]
  },
  {
   "cell_type": "code",
   "execution_count": null,
   "id": "cc4cded0",
   "metadata": {},
   "outputs": [],
   "source": []
  },
  {
   "cell_type": "code",
   "execution_count": 10,
   "id": "07429abc",
   "metadata": {},
   "outputs": [],
   "source": [
    "brands = clicks_user_brand.brand.unique()"
   ]
  },
  {
   "cell_type": "code",
   "execution_count": 27,
   "id": "2b6c49fc",
   "metadata": {},
   "outputs": [
    {
     "name": "stdout",
     "output_type": "stream",
     "text": [
      "[ 2. nan  5.  3.  4.  6.  1.  0.]\n",
      "[0.0, 1.0, 2.0, 3.0, 4.0, 5.0, 6.0]\n"
     ]
    }
   ],
   "source": [
    "print((clicks_user_brand.age_level.unique()))\n",
    "age_levels = [x for x in clicks_user_brand.age_level.unique() if x==x]\n",
    "age_levels.sort()\n",
    "print(age_levels)"
   ]
  },
  {
   "cell_type": "code",
   "execution_count": 20,
   "id": "ba988134",
   "metadata": {},
   "outputs": [
    {
     "name": "stdout",
     "output_type": "stream",
     "text": [
      "99815\n"
     ]
    }
   ],
   "source": [
    "print(len(brands))"
   ]
  },
  {
   "cell_type": "code",
   "execution_count": null,
   "id": "5922ce75",
   "metadata": {},
   "outputs": [],
   "source": [
    "print(len(brands))"
   ]
  },
  {
   "cell_type": "code",
   "execution_count": null,
   "id": "ac93cd85",
   "metadata": {},
   "outputs": [],
   "source": [
    "#brand_id : [count of brand query for each age group]\n",
    "#debug\n",
    "brand_count = {}\n",
    "for brand in brands[:2]:\n",
    "    print(brand)\n",
    "    brand_clicks = clicks_user_brand.loc[clicks_user_brand['brand'] == brand]\n",
    "    total_queries = brand_clicks[brand_clicks['age_level'].isin(age_levels)].shape[0]\n",
    "    age_perc_list =[]\n",
    "    for age_level in age_levels:\n",
    "        queries_from_age = clicks_user_brand.loc[clicks_user_brand['age_level'] == age_level].shape[0]\n",
    "        age_percentage = (queries_from_age/total_queries)*100\n",
    "        age_perc_list.append(age_percentage)\n",
    "    brand_count[brand = age_perc_list]\n",
    "    "
   ]
  },
  {
   "cell_type": "code",
   "execution_count": null,
   "id": "c7bd7581",
   "metadata": {},
   "outputs": [],
   "source": [
    "print(brand_count)"
   ]
  },
  {
   "cell_type": "code",
   "execution_count": null,
   "id": "9fec658e",
   "metadata": {},
   "outputs": [],
   "source": []
  }
 ],
 "metadata": {
  "kernelspec": {
   "display_name": "Python 3 (ipykernel)",
   "language": "python",
   "name": "python3"
  },
  "language_info": {
   "codemirror_mode": {
    "name": "ipython",
    "version": 3
   },
   "file_extension": ".py",
   "mimetype": "text/x-python",
   "name": "python",
   "nbconvert_exporter": "python",
   "pygments_lexer": "ipython3",
   "version": "3.9.13"
  }
 },
 "nbformat": 4,
 "nbformat_minor": 5
}
