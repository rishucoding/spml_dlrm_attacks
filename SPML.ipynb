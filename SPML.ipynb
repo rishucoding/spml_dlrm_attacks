{
 "cells": [
  {
   "cell_type": "code",
   "execution_count": 61,
   "id": "178ddaa4",
   "metadata": {},
   "outputs": [],
   "source": [
    "import pandas as pd\n",
    "import csv\n",
    "import itertools\n",
    "import matplotlib.pyplot as plt"
   ]
  },
  {
   "cell_type": "code",
   "execution_count": 62,
   "id": "3232e7c6",
   "metadata": {},
   "outputs": [
    {
     "data": {
      "text/plain": [
       "'\\nCHUNK_SIZE = 1000 # Number of rows to read at a time\\nheader_written = False\\n\\nwith open(\"behavior_log.csv\", \"r\") as in_file:\\n    reader = csv.reader(in_file)\\n    header = next(reader)\\n\\n    with open(\"buy_behavior_log.csv\", \"a\", newline=\\'\\') as out_file:\\n        writer = csv.writer(out_file)\\n        if not header_written:\\n            writer.writerow(header)\\n            header_written = True\\n\\n        chunk = []\\n        for i, row in enumerate(reader):\\n            if row[2] == \"buy\":\\n                chunk.append(row)\\n            if (i + 1) % CHUNK_SIZE == 0:\\n                writer.writerows(chunk)\\n                chunk = []\\n        writer.writerows(chunk)\\n#In this code, the CHUNK_SIZE variable determines the number of rows to be read and processed at a time.\\n# Use this code to generate buy_behaviour_log.csv file.\\n'"
      ]
     },
     "execution_count": 62,
     "metadata": {},
     "output_type": "execute_result"
    }
   ],
   "source": [
    "\"\"\"\n",
    "CHUNK_SIZE = 1000 # Number of rows to read at a time\n",
    "header_written = False\n",
    "\n",
    "with open(\"behavior_log.csv\", \"r\") as in_file:\n",
    "    reader = csv.reader(in_file)\n",
    "    header = next(reader)\n",
    "\n",
    "    with open(\"buy_behavior_log.csv\", \"a\", newline='') as out_file:\n",
    "        writer = csv.writer(out_file)\n",
    "        if not header_written:\n",
    "            writer.writerow(header)\n",
    "            header_written = True\n",
    "\n",
    "        chunk = []\n",
    "        for i, row in enumerate(reader):\n",
    "            if row[2] == \"buy\":\n",
    "                chunk.append(row)\n",
    "            if (i + 1) % CHUNK_SIZE == 0:\n",
    "                writer.writerows(chunk)\n",
    "                chunk = []\n",
    "        writer.writerows(chunk)\n",
    "#In this code, the CHUNK_SIZE variable determines the number of rows to be read and processed at a time.\n",
    "# Use this code to generate buy_behaviour_log.csv file.\n",
    "\"\"\"\n"
   ]
  },
  {
   "cell_type": "code",
   "execution_count": 63,
   "id": "ae999c3e",
   "metadata": {},
   "outputs": [],
   "source": [
    "#ad_feature = pd.read_csv('PycharmProjects/SPML/ad_feature.csv')\n",
    "ad_feature = pd.read_csv('ad_feature.csv')"
   ]
  },
  {
   "cell_type": "code",
   "execution_count": 64,
   "id": "92697a5e",
   "metadata": {},
   "outputs": [],
   "source": [
    "#raw_sample = pd.read_csv('PycharmProjects/SPML/raw_sample.csv')\n",
    "raw_sample = pd.read_csv('raw_sample.csv')"
   ]
  },
  {
   "cell_type": "code",
   "execution_count": 65,
   "id": "4729c6e0",
   "metadata": {},
   "outputs": [],
   "source": [
    "#user_behavior_log = pd.read_csv('PycharmProjects/SPML/buy_behavior_log.csv')\n",
    "buy_behavior = pd.read_csv('buy_behavior_log.csv')\n"
   ]
  },
  {
   "cell_type": "code",
   "execution_count": 66,
   "id": "4af41788",
   "metadata": {},
   "outputs": [
    {
     "name": "stdout",
     "output_type": "stream",
     "text": [
      "Index(['userid', 'cms_segid', 'cms_group_id', 'final_gender_code', 'age_level',\n",
      "       'pvalue_level', 'shopping_level', 'occupation',\n",
      "       'new_user_class_level '],\n",
      "      dtype='object')\n"
     ]
    },
    {
     "data": {
      "text/html": [
       "<div>\n",
       "<style scoped>\n",
       "    .dataframe tbody tr th:only-of-type {\n",
       "        vertical-align: middle;\n",
       "    }\n",
       "\n",
       "    .dataframe tbody tr th {\n",
       "        vertical-align: top;\n",
       "    }\n",
       "\n",
       "    .dataframe thead th {\n",
       "        text-align: right;\n",
       "    }\n",
       "</style>\n",
       "<table border=\"1\" class=\"dataframe\">\n",
       "  <thead>\n",
       "    <tr style=\"text-align: right;\">\n",
       "      <th></th>\n",
       "      <th>userid</th>\n",
       "      <th>cms_segid</th>\n",
       "      <th>cms_group_id</th>\n",
       "      <th>final_gender_code</th>\n",
       "      <th>age_level</th>\n",
       "      <th>pvalue_level</th>\n",
       "      <th>shopping_level</th>\n",
       "      <th>occupation</th>\n",
       "      <th>new_user_class_level</th>\n",
       "    </tr>\n",
       "  </thead>\n",
       "  <tbody>\n",
       "    <tr>\n",
       "      <th>0</th>\n",
       "      <td>234</td>\n",
       "      <td>0</td>\n",
       "      <td>5</td>\n",
       "      <td>2</td>\n",
       "      <td>5</td>\n",
       "      <td>NaN</td>\n",
       "      <td>3</td>\n",
       "      <td>0</td>\n",
       "      <td>3.0</td>\n",
       "    </tr>\n",
       "    <tr>\n",
       "      <th>1</th>\n",
       "      <td>523</td>\n",
       "      <td>5</td>\n",
       "      <td>2</td>\n",
       "      <td>2</td>\n",
       "      <td>2</td>\n",
       "      <td>1.0</td>\n",
       "      <td>3</td>\n",
       "      <td>1</td>\n",
       "      <td>2.0</td>\n",
       "    </tr>\n",
       "    <tr>\n",
       "      <th>2</th>\n",
       "      <td>612</td>\n",
       "      <td>0</td>\n",
       "      <td>8</td>\n",
       "      <td>1</td>\n",
       "      <td>2</td>\n",
       "      <td>2.0</td>\n",
       "      <td>3</td>\n",
       "      <td>0</td>\n",
       "      <td>NaN</td>\n",
       "    </tr>\n",
       "    <tr>\n",
       "      <th>3</th>\n",
       "      <td>1670</td>\n",
       "      <td>0</td>\n",
       "      <td>4</td>\n",
       "      <td>2</td>\n",
       "      <td>4</td>\n",
       "      <td>NaN</td>\n",
       "      <td>1</td>\n",
       "      <td>0</td>\n",
       "      <td>NaN</td>\n",
       "    </tr>\n",
       "    <tr>\n",
       "      <th>4</th>\n",
       "      <td>2545</td>\n",
       "      <td>0</td>\n",
       "      <td>10</td>\n",
       "      <td>1</td>\n",
       "      <td>4</td>\n",
       "      <td>NaN</td>\n",
       "      <td>3</td>\n",
       "      <td>0</td>\n",
       "      <td>NaN</td>\n",
       "    </tr>\n",
       "  </tbody>\n",
       "</table>\n",
       "</div>"
      ],
      "text/plain": [
       "   userid  cms_segid  cms_group_id  final_gender_code  age_level  \\\n",
       "0     234          0             5                  2          5   \n",
       "1     523          5             2                  2          2   \n",
       "2     612          0             8                  1          2   \n",
       "3    1670          0             4                  2          4   \n",
       "4    2545          0            10                  1          4   \n",
       "\n",
       "   pvalue_level  shopping_level  occupation  new_user_class_level   \n",
       "0           NaN               3           0                    3.0  \n",
       "1           1.0               3           1                    2.0  \n",
       "2           2.0               3           0                    NaN  \n",
       "3           NaN               1           0                    NaN  \n",
       "4           NaN               3           0                    NaN  "
      ]
     },
     "execution_count": 66,
     "metadata": {},
     "output_type": "execute_result"
    }
   ],
   "source": [
    "#user_profile = pd.read_csv('PycharmProjects/SPML/user_profile.csv')\n",
    "\n",
    "user_profile = pd.read_csv('user_profile.csv')\n",
    "\n",
    "unique_age_levels = user_profile[\"age_level\"].unique()\n",
    "\n",
    "# Print the unique values of age_level\n",
    "print(user_profile.columns)\n",
    "\n",
    "user_profile.head(5)"
   ]
  },
  {
   "cell_type": "code",
   "execution_count": 67,
   "id": "83249719",
   "metadata": {},
   "outputs": [
    {
     "data": {
      "text/html": [
       "<div>\n",
       "<style scoped>\n",
       "    .dataframe tbody tr th:only-of-type {\n",
       "        vertical-align: middle;\n",
       "    }\n",
       "\n",
       "    .dataframe tbody tr th {\n",
       "        vertical-align: top;\n",
       "    }\n",
       "\n",
       "    .dataframe thead th {\n",
       "        text-align: right;\n",
       "    }\n",
       "</style>\n",
       "<table border=\"1\" class=\"dataframe\">\n",
       "  <thead>\n",
       "    <tr style=\"text-align: right;\">\n",
       "      <th></th>\n",
       "      <th>user</th>\n",
       "      <th>time_stamp</th>\n",
       "      <th>btag</th>\n",
       "      <th>cate</th>\n",
       "      <th>brand</th>\n",
       "    </tr>\n",
       "  </thead>\n",
       "  <tbody>\n",
       "    <tr>\n",
       "      <th>0</th>\n",
       "      <td>916958</td>\n",
       "      <td>1493811673</td>\n",
       "      <td>buy</td>\n",
       "      <td>123</td>\n",
       "      <td>97176</td>\n",
       "    </tr>\n",
       "    <tr>\n",
       "      <th>1</th>\n",
       "      <td>916958</td>\n",
       "      <td>1493811809</td>\n",
       "      <td>buy</td>\n",
       "      <td>123</td>\n",
       "      <td>97176</td>\n",
       "    </tr>\n",
       "    <tr>\n",
       "      <th>2</th>\n",
       "      <td>628854</td>\n",
       "      <td>1493781424</td>\n",
       "      <td>buy</td>\n",
       "      <td>4262</td>\n",
       "      <td>370203</td>\n",
       "    </tr>\n",
       "    <tr>\n",
       "      <th>3</th>\n",
       "      <td>623496</td>\n",
       "      <td>1493810730</td>\n",
       "      <td>buy</td>\n",
       "      <td>4262</td>\n",
       "      <td>370203</td>\n",
       "    </tr>\n",
       "    <tr>\n",
       "      <th>4</th>\n",
       "      <td>1099015</td>\n",
       "      <td>1493774927</td>\n",
       "      <td>buy</td>\n",
       "      <td>9390</td>\n",
       "      <td>347564</td>\n",
       "    </tr>\n",
       "  </tbody>\n",
       "</table>\n",
       "</div>"
      ],
      "text/plain": [
       "      user  time_stamp btag  cate   brand\n",
       "0   916958  1493811673  buy   123   97176\n",
       "1   916958  1493811809  buy   123   97176\n",
       "2   628854  1493781424  buy  4262  370203\n",
       "3   623496  1493810730  buy  4262  370203\n",
       "4  1099015  1493774927  buy  9390  347564"
      ]
     },
     "execution_count": 67,
     "metadata": {},
     "output_type": "execute_result"
    }
   ],
   "source": [
    "buy_behavior.head(5)"
   ]
  },
  {
   "cell_type": "code",
   "execution_count": 68,
   "id": "808364a2",
   "metadata": {},
   "outputs": [
    {
     "name": "stdout",
     "output_type": "stream",
     "text": [
      "206307\n"
     ]
    }
   ],
   "source": [
    "unique_brands = buy_behavior[\"brand\"].unique()\n",
    "print(len(unique_brands))"
   ]
  },
  {
   "cell_type": "code",
   "execution_count": 87,
   "id": "63041efd",
   "metadata": {},
   "outputs": [
    {
     "name": "stdout",
     "output_type": "stream",
     "text": [
      "255\n"
     ]
    },
    {
     "data": {
      "image/png": "[encoded data removed]",
      "text/plain": [
       "<Figure size 432x288 with 1 Axes>"
      ]
     },
     "metadata": {
      "needs_background": "light"
     },
     "output_type": "display_data"
    }
   ],
   "source": [
    "###### Identification attack user_groups ######\n",
    "\n",
    "user_features = user_profile[['cms_segid', 'cms_group_id', 'final_gender_code', 'age_level', 'pvalue_level', 'shopping_level', 'occupation', 'new_user_class_level ']]\n",
    "\n",
    "# Drop rows with missing values\n",
    "user_features = user_features.dropna()\n",
    "\n",
    "# Get all possible combinations of the user features\n",
    "combinations = []\n",
    "for i in range(1, len(user_features.columns)+1):\n",
    "    combinations += list(itertools.combinations(user_features.columns, i))\n",
    "    \n",
    "print(len(combinations))\n",
    "\n",
    "combinations_count = {}\n",
    "for combination in combinations:\n",
    "    combination_count = len(user_features.groupby(list(combination)).size())\n",
    "    combinations_count[combination] = combination_count\n",
    "\n",
    "# Create a list of tuples from the dictionary items\n",
    "counts_list = list(combinations_count.items())\n",
    "\n",
    "# Sort the list by the count of users in ascending order\n",
    "counts_list.sort(key=lambda x: x[1])\n",
    "\n",
    "# Get the top 20 combinations with the least count\n",
    "top_combinations = counts_list[:20]\n",
    "\n",
    "# Create a list of the K-anonymity values for each combination\n",
    "k_anonimity = [1/count[1] for count in top_combinations]\n",
    "\n",
    "# Plot the K-anonymity values as a bar chart\n",
    "plt.bar(range(len(k_anonimity)), k_anonimity)\n",
    "\n",
    "# Add labels to the x and y axis and add a title to the plot\n",
    "plt.xlabel('Combination')\n",
    "plt.ylabel('K-Anonymity')\n",
    "plt.title('K-Anonymity for 20 Combinations with Least User Count')\n",
    "\n",
    "# Show the plot\n",
    "plt.show()"
   ]
  },
  {
   "cell_type": "code",
   "execution_count": 69,
   "id": "7104cf53",
   "metadata": {},
   "outputs": [],
   "source": [
    "clicks_brand = pd.merge(raw_sample, ad_feature[['brand', 'adgroup_id']], how='left', on='adgroup_id')"
   ]
  },
  {
   "cell_type": "code",
   "execution_count": 70,
   "id": "f66b20c6",
   "metadata": {},
   "outputs": [],
   "source": [
    "clicks_with_brand = pd.merge(left=raw_sample, right=ad_feature, how='inner', on='adgroup_id')"
   ]
  },
  {
   "cell_type": "code",
   "execution_count": 71,
   "id": "910b40a5",
   "metadata": {},
   "outputs": [
    {
     "name": "stdout",
     "output_type": "stream",
     "text": [
      "age_level    0      1       2       3       4      5     6\n",
      "brand                                                     \n",
      "224985      13   1563    6653   12724   11363   7732   751\n",
      "247789      23   3422   10764   19509   17115  11737  1265\n",
      "370203     116  49809  170628  196661  129074  93324  7336\n",
      "388700      29  13554   43388   48397   28786  21409  1902\n",
      "425589      26   1584    5714   10794    9327   7659   899\n"
     ]
    },
    {
     "data": {
      "image/png": "[encoded data removed]",
      "text/plain": [
       "<Figure size 432x288 with 1 Axes>"
      ]
     },
     "metadata": {
      "needs_background": "light"
     },
     "output_type": "display_data"
    }
   ],
   "source": [
    "clicks_user_brand = pd.merge(clicks_brand, user_profile[['final_gender_code', 'age_level', 'userid']], how='left',\n",
    "                             left_on='user', right_on='userid')\n",
    "#filter out columns not required\n",
    "#join columns with behavior log and user datasets\n",
    "\n",
    "top_5_brands = buy_behavior['brand'].value_counts().head(5).index.tolist()\n",
    "top_5_buy_behavior = buy_behavior[buy_behavior['brand'].isin(top_5_brands)]\n",
    "\n",
    "\n",
    "# Merge the top_5_buy_behavior and user_profile dataframes on the 'userid' column\n",
    "merged_df = pd.merge(top_5_buy_behavior, user_profile, left_on='user', right_on='userid')\n",
    "\n",
    "\n",
    "# Group the merged dataframe by the 'age_level' and 'brand' columns and get the count of each group\n",
    "grouped_df = merged_df.groupby(['age_level', 'brand'], as_index=False).count()[['age_level', 'brand', 'user']]\n",
    "\n",
    "\n",
    "# Pivot the grouped dataframe to create a pivot table with the 'age_level' column as the index, the 'brand' column as the columns and the 'user' column as the values\n",
    "pivot_table = grouped_df.pivot(index='brand', columns='age_level', values='user')\n",
    "print(pivot_table)\n",
    "\n",
    "# Plot the pivot table as a bar plot\n",
    "pivot_table.plot(kind='bar', stacked=True)\n",
    "\n",
    "# Add labels to the x and y axis and add a title to the plot\n",
    "plt.xlabel('Brands')\n",
    "plt.ylabel('Number of Users')\n",
    "plt.title('Interested Brands vs Users (based on age_levels) (Top 5 Brands)')\n",
    "\n",
    "# Show the plot\n",
    "plt.show()\n",
    "\n",
    "\n",
    "\n",
    "\n",
    "\n",
    "\n",
    "\n",
    "\n",
    "\n",
    "\n",
    "\n"
   ]
  },
  {
   "cell_type": "code",
   "execution_count": 72,
   "id": "cc4cded0",
   "metadata": {},
   "outputs": [
    {
     "name": "stdout",
     "output_type": "stream",
     "text": [
      "age_level     0     1      2      3      4      5     6\n",
      "brand                                                  \n",
      "224985     0.03  3.83  16.31  31.19  27.85  18.95  1.84\n",
      "247789     0.04  5.36  16.86  30.56  26.81  18.39  1.98\n",
      "370203     0.02  7.70  26.37  30.40  19.95  14.43  1.13\n",
      "388700     0.02  8.61  27.55  30.74  18.28  13.60  1.21\n",
      "425589     0.07  4.40  15.87  29.98  25.91  21.27  2.50\n"
     ]
    }
   ],
   "source": [
    "###### Following is a table generated that shows for top 5 brands how each age group interacts with each brand #########\n",
    "##### Using this information we can create dummy figure 4  #####\n",
    "\n",
    "\n",
    "# Get the total number of users for each age level\n",
    "brand_totals = pivot_table.sum(axis=1)\n",
    "\n",
    "# Divide the values in the pivot table by the age level totals and multiply by 100 to get the percent values\n",
    "percent_table = (pivot_table / brand_totals.values.reshape(-1, 1)) * 100\n",
    "\n",
    "# Round the values in the percent table to 2 decimal places\n",
    "percent_table = percent_table.round(2)\n",
    "\n",
    "# Print the percent table\n",
    "print(percent_table)"
   ]
  },
  {
   "cell_type": "code",
   "execution_count": 101,
   "id": "24bbcc23",
   "metadata": {},
   "outputs": [
    {
     "name": "stdout",
     "output_type": "stream",
     "text": [
      "final_gender_code    1    2\n",
      "brand                      \n",
      "40097              2.0  3.0\n",
      "47093              1.0  4.0\n",
      "52891              3.0  2.0\n",
      "55196              1.0  4.0\n",
      "62300              0.0  5.0\n",
      "63486              0.0  5.0\n",
      "111378             5.0  0.0\n",
      "120793             3.0  2.0\n",
      "121267             0.0  5.0\n",
      "126630             3.0  2.0\n",
      "155973             4.0  1.0\n",
      "156892             1.0  4.0\n",
      "167099             0.0  3.0\n",
      "167629             1.0  4.0\n",
      "172382             1.0  4.0\n",
      "179199             1.0  4.0\n",
      "184002             3.0  2.0\n",
      "209702             0.0  5.0\n",
      "213357             1.0  4.0\n",
      "219855             4.0  1.0\n",
      "222460             1.0  4.0\n",
      "237415             0.0  1.0\n",
      "237949             1.0  4.0\n",
      "244293             5.0  0.0\n",
      "249569             1.0  4.0\n",
      "254326             2.0  3.0\n",
      "261032             0.0  5.0\n",
      "273442             0.0  5.0\n",
      "298039             1.0  4.0\n",
      "308180             2.0  3.0\n",
      "326460             2.0  3.0\n",
      "342798             4.0  1.0\n",
      "363600             3.0  2.0\n",
      "365457             4.0  1.0\n",
      "366392             0.0  4.0\n",
      "369693             3.0  2.0\n",
      "371807             3.0  2.0\n",
      "392210             3.0  2.0\n",
      "394436             0.0  5.0\n",
      "400856             0.0  5.0\n",
      "400861             2.0  3.0\n",
      "402512             0.0  5.0\n",
      "410730             0.0  5.0\n",
      "413266             5.0  0.0\n",
      "418926             0.0  5.0\n",
      "420980             2.0  3.0\n",
      "422645             3.0  2.0\n",
      "443468             0.0  5.0\n",
      "443514             1.0  4.0\n",
      "450094             1.0  4.0\n"
     ]
    },
    {
     "data": {
      "image/png": "[encoded data removed]",
      "text/plain": [
       "<Figure size 432x288 with 1 Axes>"
      ]
     },
     "metadata": {
      "needs_background": "light"
     },
     "output_type": "display_data"
    }
   ],
   "source": [
    "# Filter the behavior log to only include the rows where the brand was part of Average 15 interacted brands\n",
    "\n",
    "# Get the value counts of all brands\n",
    "brand_counts = buy_behavior['brand'].value_counts()\n",
    "\n",
    "# Calculate the index of the first and last brand you want to include\n",
    "total_brands = len(brand_counts)\n",
    "middle_index = total_brands // 2\n",
    "first_index = middle_index - 25\n",
    "last_index = middle_index + 25\n",
    "\n",
    "# Get the average 15 interacted brands\n",
    "average_50_brands = brand_counts.iloc[first_index:last_index].index.tolist()\n",
    "\n",
    "# Filter the buy_behavior dataframe to only include the least 15 brands\n",
    "average_50_buy_behavior = buy_behavior[buy_behavior['brand'].isin(average_50_brands)]\n",
    "\n",
    "#top_15_brands = buy_behavior['brand'].value_counts().head(50).index.tolist()\n",
    "#top_15_buy_behavior = buy_behavior[buy_behavior['brand'].isin(top_15_brands)]\n",
    "\n",
    "\n",
    "# Merge the top_5_buy_behavior and user_profile dataframes on the 'userid' column\n",
    "merged_df = pd.merge(average_50_buy_behavior, user_profile, left_on='user', right_on='userid')\n",
    "\n",
    "# Group the merged dataframe by the 'brand' and 'final_gender_code' columns and get the count of each group\n",
    "grouped_df = merged_df.groupby(['brand', 'final_gender_code'], as_index=False).count()[['brand', 'final_gender_code', 'user']]\n",
    "\n",
    "# Pivot the grouped dataframe to create a pivot table with the 'brand' column as the index, the 'final_gender_code' column as the columns and the 'user' column as the values\n",
    "pivot_table = grouped_df.pivot(index='brand', columns='final_gender_code', values='user')\n",
    "pivot_table = pivot_table.fillna(0)\n",
    "print(pivot_table)\n",
    "\n",
    "# Plot the pivot table as a bar plot\n",
    "pivot_table.plot(kind='bar', stacked=True)\n",
    "\n",
    "# Add labels to the x and y axis and add a title to the plot\n",
    "plt.xlabel('Brands')\n",
    "plt.ylabel('Number of Users')\n",
    "plt.title('Interested Brands vs Users (based on gender)')\n",
    "\n",
    "# Show the plot\n",
    "plt.show()"
   ]
  },
  {
   "cell_type": "code",
   "execution_count": 102,
   "id": "e23faa6d",
   "metadata": {},
   "outputs": [
    {
     "name": "stdout",
     "output_type": "stream",
     "text": [
      "final_gender_code      1      2\n",
      "brand                          \n",
      "40097               60.0   40.0\n",
      "47093               80.0   20.0\n",
      "52891               40.0   60.0\n",
      "55196               80.0   20.0\n",
      "62300              100.0    0.0\n",
      "63486              100.0    0.0\n",
      "111378               0.0  100.0\n",
      "120793              40.0   60.0\n",
      "121267             100.0    0.0\n",
      "126630              40.0   60.0\n",
      "155973              20.0   80.0\n",
      "156892              80.0   20.0\n",
      "167099             100.0    0.0\n",
      "167629              80.0   20.0\n",
      "172382              80.0   20.0\n",
      "179199              80.0   20.0\n",
      "184002              40.0   60.0\n",
      "209702             100.0    0.0\n",
      "213357              80.0   20.0\n",
      "219855              20.0   80.0\n",
      "222460              80.0   20.0\n",
      "237415             100.0    0.0\n",
      "237949              80.0   20.0\n",
      "244293               0.0  100.0\n",
      "249569              80.0   20.0\n",
      "254326              60.0   40.0\n",
      "261032             100.0    0.0\n",
      "273442             100.0    0.0\n",
      "298039              80.0   20.0\n",
      "308180              60.0   40.0\n",
      "326460              60.0   40.0\n",
      "342798              20.0   80.0\n",
      "363600              40.0   60.0\n",
      "365457              20.0   80.0\n",
      "366392             100.0    0.0\n",
      "369693              40.0   60.0\n",
      "371807              40.0   60.0\n",
      "392210              40.0   60.0\n",
      "394436             100.0    0.0\n",
      "400856             100.0    0.0\n",
      "400861              60.0   40.0\n",
      "402512             100.0    0.0\n",
      "410730             100.0    0.0\n",
      "413266               0.0  100.0\n",
      "418926             100.0    0.0\n",
      "420980              60.0   40.0\n",
      "422645              40.0   60.0\n",
      "443468             100.0    0.0\n",
      "443514              80.0   20.0\n",
      "450094              80.0   20.0\n"
     ]
    }
   ],
   "source": [
    "# Pivot the grouped dataframe to create a pivot table with the 'final_gender_code' column as the index, the 'brand' column as the columns and the 'user' column as the values\n",
    "pivot_table = grouped_df.pivot(index='brand', columns='final_gender_code', values='user')\n",
    "\n",
    "# Get the total number of users for each gender\n",
    "brand_totals = pivot_table.sum(axis=1)\n",
    "\n",
    "# Divide the values in the pivot table by the gender totals and multiply by 100 to get the percent values\n",
    "percent_table = (pivot_table / brand_totals.values.reshape(-1, 1)) * 100\n",
    "percent_table = percent_table.fillna(0)\n",
    "\n",
    "# Compute the ambiguity metric values by subtracting the percent values from 100\n",
    "ambiguity_table = 100 - percent_table\n",
    "\n",
    "# Round the values in the ambiguity table to 2 decimal places\n",
    "ambiguity_table = ambiguity_table.round(2)\n",
    "\n",
    "# Print the ambiguity table\n",
    "print(ambiguity_table)"
   ]
  },
  {
   "cell_type": "code",
   "execution_count": 75,
   "id": "07429abc",
   "metadata": {},
   "outputs": [],
   "source": [
    "brands = clicks_user_brand.brand.unique()"
   ]
  },
  {
   "cell_type": "code",
   "execution_count": 76,
   "id": "2b6c49fc",
   "metadata": {},
   "outputs": [
    {
     "name": "stdout",
     "output_type": "stream",
     "text": [
      "[ 2. nan  5.  3.  4.  6.  1.  0.]\n",
      "[0.0, 1.0, 2.0, 3.0, 4.0, 5.0, 6.0]\n"
     ]
    }
   ],
   "source": [
    "print((clicks_user_brand.age_level.unique()))\n",
    "age_levels = [x for x in clicks_user_brand.age_level.unique() if x==x]\n",
    "age_levels.sort()\n",
    "print(age_levels)"
   ]
  },
  {
   "cell_type": "code",
   "execution_count": 77,
   "id": "ba988134",
   "metadata": {},
   "outputs": [
    {
     "name": "stdout",
     "output_type": "stream",
     "text": [
      "99815\n"
     ]
    }
   ],
   "source": [
    "print(len(brands))"
   ]
  },
  {
   "cell_type": "code",
   "execution_count": 78,
   "id": "5922ce75",
   "metadata": {},
   "outputs": [
    {
     "name": "stdout",
     "output_type": "stream",
     "text": [
      "99815\n"
     ]
    }
   ],
   "source": [
    "print(len(brands))"
   ]
  },
  {
   "cell_type": "code",
   "execution_count": 79,
   "id": "ac93cd85",
   "metadata": {},
   "outputs": [
    {
     "ename": "SyntaxError",
     "evalue": "invalid syntax (<ipython-input-79-d128c773e28c>, line 13)",
     "output_type": "error",
     "traceback": [
      "\u001b[1;36m  File \u001b[1;32m\"<ipython-input-79-d128c773e28c>\"\u001b[1;36m, line \u001b[1;32m13\u001b[0m\n\u001b[1;33m    brand_count[brand = age_perc_list]\u001b[0m\n\u001b[1;37m                      ^\u001b[0m\n\u001b[1;31mSyntaxError\u001b[0m\u001b[1;31m:\u001b[0m invalid syntax\n"
     ]
    }
   ],
   "source": [
    "#brand_id : [count of brand query for each age group]\n",
    "#debug\n",
    "brand_count = {}\n",
    "for brand in brands[:2]:\n",
    "    print(brand)\n",
    "    brand_clicks = clicks_user_brand.loc[clicks_user_brand['brand'] == brand]\n",
    "    total_queries = brand_clicks[brand_clicks['age_level'].isin(age_levels)].shape[0]\n",
    "    age_perc_list =[]\n",
    "    for age_level in age_levels:\n",
    "        queries_from_age = clicks_user_brand.loc[clicks_user_brand['age_level'] == age_level].shape[0]\n",
    "        age_percentage = (queries_from_age/total_queries)*100\n",
    "        age_perc_list.append(age_percentage)\n",
    "    brand_count[brand = age_perc_list]\n",
    "    "
   ]
  },
  {
   "cell_type": "code",
   "execution_count": 80,
   "id": "c7bd7581",
   "metadata": {},
   "outputs": [
    {
     "ename": "NameError",
     "evalue": "name 'brand_count' is not defined",
     "output_type": "error",
     "traceback": [
      "\u001b[1;31m---------------------------------------------------------------------------\u001b[0m",
      "\u001b[1;31mNameError\u001b[0m                                 Traceback (most recent call last)",
      "\u001b[1;32m<ipython-input-80-079f9d255ea9>\u001b[0m in \u001b[0;36m<module>\u001b[1;34m\u001b[0m\n\u001b[1;32m----> 1\u001b[1;33m \u001b[0mprint\u001b[0m\u001b[1;33m(\u001b[0m\u001b[0mbrand_count\u001b[0m\u001b[1;33m)\u001b[0m\u001b[1;33m\u001b[0m\u001b[1;33m\u001b[0m\u001b[0m\n\u001b[0m",
      "\u001b[1;31mNameError\u001b[0m: name 'brand_count' is not defined"
     ]
    }
   ],
   "source": [
    "print(brand_count)"
   ]
  },
  {
   "cell_type": "code",
   "execution_count": 81,
   "id": "9fec658e",
   "metadata": {},
   "outputs": [
    {
     "data": {
      "image/png": "[encoded data removed]",
      "text/plain": [
       "<Figure size 432x288 with 1 Axes>"
      ]
     },
     "metadata": {
      "needs_background": "light"
     },
     "output_type": "display_data"
    }
   ],
   "source": [
    "####### Generating figure 5 results #########\n",
    "\n",
    "df = pd.merge(buy_behavior, user_profile, left_on=\"user\", right_on=\"userid\")\n",
    "\n",
    "# Get the top 5 brands\n",
    "top_brands = df[\"brand\"].value_counts().nlargest(5).index.tolist()\n",
    "\n",
    "# Filter the DataFrame to only include the top 5 brands\n",
    "df = df[df[\"brand\"].isin(top_brands)]\n",
    "\n",
    "# Create a pivot table to get the age_level frequency for each brand\n",
    "pivot_table = pd.pivot_table(df, values=\"user\", index=\"brand\", columns=\"age_level\", aggfunc=\"count\")\n",
    "\n",
    "# Normalize the pivot table to get the percentage of each age_level for each brand\n",
    "normalized_table = pivot_table.div(pivot_table.sum(axis=1), axis=0)\n",
    "\n",
    "# Calculate the ambiguity for each brand\n",
    "ambiguity = 100 - normalized_table.max(axis=1)\n",
    "\n",
    "# Plot the ambiguity as a bar chart\n",
    "ambiguity.plot(kind=\"bar\")\n",
    "\n",
    "# Add labels to the x-axis and y-axis\n",
    "plt.xlabel(\"Brand\")\n",
    "plt.ylabel(\"Ambiguity (%)\")\n",
    "\n",
    "# Show the plot\n",
    "plt.show()"
   ]
  },
  {
   "cell_type": "code",
   "execution_count": null,
   "id": "8ade6aa5",
   "metadata": {},
   "outputs": [],
   "source": []
  }
 ],
 "metadata": {
  "kernelspec": {
   "display_name": "Python 3",
   "language": "python",
   "name": "python3"
  },
  "language_info": {
   "codemirror_mode": {
    "name": "ipython",
    "version": 3
   },
   "file_extension": ".py",
   "mimetype": "text/x-python",
   "name": "python",
   "nbconvert_exporter": "python",
   "pygments_lexer": "ipython3",
   "version": "3.8.8"
  }
 },
 "nbformat": 4,
 "nbformat_minor": 5
}
