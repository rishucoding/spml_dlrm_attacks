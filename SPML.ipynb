{
 "cells": [
  {
   "cell_type": "code",
   "execution_count": 1,
   "id": "178ddaa4",
   "metadata": {},
   "outputs": [],
   "source": [
    "import pandas as pd\n",
    "import csv\n",
    "import itertools\n",
    "import matplotlib.pyplot as plt\n",
    "import seaborn as sns\n",
    "from scipy.stats import gaussian_kde"
   ]
  },
  {
   "cell_type": "code",
   "execution_count": null,
   "id": "77036eed",
   "metadata": {},
   "outputs": [],
   "source": []
  },
  {
   "cell_type": "code",
   "execution_count": 2,
   "id": "3232e7c6",
   "metadata": {},
   "outputs": [
    {
     "data": {
      "text/plain": [
       "'\\nCHUNK_SIZE = 1000 # Number of rows to read at a time\\nheader_written = False\\n\\nwith open(\"behavior_log.csv\", \"r\") as in_file:\\n    reader = csv.reader(in_file)\\n    header = next(reader)\\n\\n    with open(\"buy_behavior_log.csv\", \"a\", newline=\\'\\') as out_file:\\n        writer = csv.writer(out_file)\\n        if not header_written:\\n            writer.writerow(header)\\n            header_written = True\\n\\n        chunk = []\\n        for i, row in enumerate(reader):\\n            if row[2] == \"buy\":\\n                chunk.append(row)\\n            if (i + 1) % CHUNK_SIZE == 0:\\n                writer.writerows(chunk)\\n                chunk = []\\n        writer.writerows(chunk)\\n#In this code, the CHUNK_SIZE variable determines the number of rows to be read and processed at a time.\\n# Use this code to generate buy_behaviour_log.csv file.\\n'"
      ]
     },
     "execution_count": 2,
     "metadata": {},
     "output_type": "execute_result"
    }
   ],
   "source": [
    "\"\"\"\n",
    "CHUNK_SIZE = 1000 # Number of rows to read at a time\n",
    "header_written = False\n",
    "\n",
    "with open(\"behavior_log.csv\", \"r\") as in_file:\n",
    "    reader = csv.reader(in_file)\n",
    "    header = next(reader)\n",
    "\n",
    "    with open(\"buy_behavior_log.csv\", \"a\", newline='') as out_file:\n",
    "        writer = csv.writer(out_file)\n",
    "        if not header_written:\n",
    "            writer.writerow(header)\n",
    "            header_written = True\n",
    "\n",
    "        chunk = []\n",
    "        for i, row in enumerate(reader):\n",
    "            if row[2] == \"buy\":\n",
    "                chunk.append(row)\n",
    "            if (i + 1) % CHUNK_SIZE == 0:\n",
    "                writer.writerows(chunk)\n",
    "                chunk = []\n",
    "        writer.writerows(chunk)\n",
    "#In this code, the CHUNK_SIZE variable determines the number of rows to be read and processed at a time.\n",
    "# Use this code to generate buy_behaviour_log.csv file.\n",
    "\"\"\"\n"
   ]
  },
  {
   "cell_type": "code",
   "execution_count": 3,
   "id": "ae999c3e",
   "metadata": {},
   "outputs": [],
   "source": [
    "#ad_feature = pd.read_csv('PycharmProjects/SPML/ad_feature.csv')\n",
    "#ad_feature = pd.read_csv('ad_feature.csv')"
   ]
  },
  {
   "cell_type": "code",
   "execution_count": 4,
   "id": "92697a5e",
   "metadata": {},
   "outputs": [],
   "source": [
    "#raw_sample = pd.read_csv('PycharmProjects/SPML/raw_sample.csv')\n",
    "#raw_sample = pd.read_csv('raw_sample.csv')"
   ]
  },
  {
   "cell_type": "code",
   "execution_count": 5,
   "id": "4729c6e0",
   "metadata": {},
   "outputs": [],
   "source": [
    "#user_behavior_log = pd.read_csv('PycharmProjects/SPML/buy_behavior_log.csv')\n",
    "buy_behavior = pd.read_csv('buy_behavior_log.csv')\n"
   ]
  },
  {
   "cell_type": "code",
   "execution_count": 6,
   "id": "4af41788",
   "metadata": {},
   "outputs": [
    {
     "name": "stdout",
     "output_type": "stream",
     "text": [
      "Index(['userid', 'cms_segid', 'cms_group_id', 'final_gender_code', 'age_level',\n",
      "       'pvalue_level', 'shopping_level', 'occupation',\n",
      "       'new_user_class_level '],\n",
      "      dtype='object')\n"
     ]
    },
    {
     "data": {
      "text/html": [
       "<div>\n",
       "<style scoped>\n",
       "    .dataframe tbody tr th:only-of-type {\n",
       "        vertical-align: middle;\n",
       "    }\n",
       "\n",
       "    .dataframe tbody tr th {\n",
       "        vertical-align: top;\n",
       "    }\n",
       "\n",
       "    .dataframe thead th {\n",
       "        text-align: right;\n",
       "    }\n",
       "</style>\n",
       "<table border=\"1\" class=\"dataframe\">\n",
       "  <thead>\n",
       "    <tr style=\"text-align: right;\">\n",
       "      <th></th>\n",
       "      <th>userid</th>\n",
       "      <th>cms_segid</th>\n",
       "      <th>cms_group_id</th>\n",
       "      <th>final_gender_code</th>\n",
       "      <th>age_level</th>\n",
       "      <th>pvalue_level</th>\n",
       "      <th>shopping_level</th>\n",
       "      <th>occupation</th>\n",
       "      <th>new_user_class_level</th>\n",
       "    </tr>\n",
       "  </thead>\n",
       "  <tbody>\n",
       "    <tr>\n",
       "      <th>0</th>\n",
       "      <td>234</td>\n",
       "      <td>0</td>\n",
       "      <td>5</td>\n",
       "      <td>2</td>\n",
       "      <td>5</td>\n",
       "      <td>NaN</td>\n",
       "      <td>3</td>\n",
       "      <td>0</td>\n",
       "      <td>3.0</td>\n",
       "    </tr>\n",
       "    <tr>\n",
       "      <th>1</th>\n",
       "      <td>523</td>\n",
       "      <td>5</td>\n",
       "      <td>2</td>\n",
       "      <td>2</td>\n",
       "      <td>2</td>\n",
       "      <td>1.0</td>\n",
       "      <td>3</td>\n",
       "      <td>1</td>\n",
       "      <td>2.0</td>\n",
       "    </tr>\n",
       "    <tr>\n",
       "      <th>2</th>\n",
       "      <td>612</td>\n",
       "      <td>0</td>\n",
       "      <td>8</td>\n",
       "      <td>1</td>\n",
       "      <td>2</td>\n",
       "      <td>2.0</td>\n",
       "      <td>3</td>\n",
       "      <td>0</td>\n",
       "      <td>NaN</td>\n",
       "    </tr>\n",
       "    <tr>\n",
       "      <th>3</th>\n",
       "      <td>1670</td>\n",
       "      <td>0</td>\n",
       "      <td>4</td>\n",
       "      <td>2</td>\n",
       "      <td>4</td>\n",
       "      <td>NaN</td>\n",
       "      <td>1</td>\n",
       "      <td>0</td>\n",
       "      <td>NaN</td>\n",
       "    </tr>\n",
       "    <tr>\n",
       "      <th>4</th>\n",
       "      <td>2545</td>\n",
       "      <td>0</td>\n",
       "      <td>10</td>\n",
       "      <td>1</td>\n",
       "      <td>4</td>\n",
       "      <td>NaN</td>\n",
       "      <td>3</td>\n",
       "      <td>0</td>\n",
       "      <td>NaN</td>\n",
       "    </tr>\n",
       "  </tbody>\n",
       "</table>\n",
       "</div>"
      ],
      "text/plain": [
       "   userid  cms_segid  cms_group_id  final_gender_code  age_level  \\\n",
       "0     234          0             5                  2          5   \n",
       "1     523          5             2                  2          2   \n",
       "2     612          0             8                  1          2   \n",
       "3    1670          0             4                  2          4   \n",
       "4    2545          0            10                  1          4   \n",
       "\n",
       "   pvalue_level  shopping_level  occupation  new_user_class_level   \n",
       "0           NaN               3           0                    3.0  \n",
       "1           1.0               3           1                    2.0  \n",
       "2           2.0               3           0                    NaN  \n",
       "3           NaN               1           0                    NaN  \n",
       "4           NaN               3           0                    NaN  "
      ]
     },
     "execution_count": 6,
     "metadata": {},
     "output_type": "execute_result"
    }
   ],
   "source": [
    "#user_profile = pd.read_csv('PycharmProjects/SPML/user_profile.csv')\n",
    "\n",
    "user_profile = pd.read_csv('user_profile.csv')\n",
    "\n",
    "unique_age_levels = user_profile[\"age_level\"].unique()\n",
    "\n",
    "# Print the unique values of age_level\n",
    "print(user_profile.columns)\n",
    "\n",
    "user_profile.head(5)"
   ]
  },
  {
   "cell_type": "code",
   "execution_count": 7,
   "id": "80b63ff8",
   "metadata": {},
   "outputs": [
    {
     "data": {
      "text/html": [
       "<div>\n",
       "<style scoped>\n",
       "    .dataframe tbody tr th:only-of-type {\n",
       "        vertical-align: middle;\n",
       "    }\n",
       "\n",
       "    .dataframe tbody tr th {\n",
       "        vertical-align: top;\n",
       "    }\n",
       "\n",
       "    .dataframe thead th {\n",
       "        text-align: right;\n",
       "    }\n",
       "</style>\n",
       "<table border=\"1\" class=\"dataframe\">\n",
       "  <thead>\n",
       "    <tr style=\"text-align: right;\">\n",
       "      <th></th>\n",
       "      <th>user</th>\n",
       "      <th>time_stamp</th>\n",
       "      <th>btag</th>\n",
       "      <th>cate</th>\n",
       "      <th>brand</th>\n",
       "    </tr>\n",
       "  </thead>\n",
       "  <tbody>\n",
       "    <tr>\n",
       "      <th>0</th>\n",
       "      <td>916958</td>\n",
       "      <td>1493811673</td>\n",
       "      <td>buy</td>\n",
       "      <td>123</td>\n",
       "      <td>97176</td>\n",
       "    </tr>\n",
       "    <tr>\n",
       "      <th>1</th>\n",
       "      <td>916958</td>\n",
       "      <td>1493811809</td>\n",
       "      <td>buy</td>\n",
       "      <td>123</td>\n",
       "      <td>97176</td>\n",
       "    </tr>\n",
       "    <tr>\n",
       "      <th>2</th>\n",
       "      <td>628854</td>\n",
       "      <td>1493781424</td>\n",
       "      <td>buy</td>\n",
       "      <td>4262</td>\n",
       "      <td>370203</td>\n",
       "    </tr>\n",
       "    <tr>\n",
       "      <th>3</th>\n",
       "      <td>623496</td>\n",
       "      <td>1493810730</td>\n",
       "      <td>buy</td>\n",
       "      <td>4262</td>\n",
       "      <td>370203</td>\n",
       "    </tr>\n",
       "    <tr>\n",
       "      <th>4</th>\n",
       "      <td>1099015</td>\n",
       "      <td>1493774927</td>\n",
       "      <td>buy</td>\n",
       "      <td>9390</td>\n",
       "      <td>347564</td>\n",
       "    </tr>\n",
       "  </tbody>\n",
       "</table>\n",
       "</div>"
      ],
      "text/plain": [
       "      user  time_stamp btag  cate   brand\n",
       "0   916958  1493811673  buy   123   97176\n",
       "1   916958  1493811809  buy   123   97176\n",
       "2   628854  1493781424  buy  4262  370203\n",
       "3   623496  1493810730  buy  4262  370203\n",
       "4  1099015  1493774927  buy  9390  347564"
      ]
     },
     "execution_count": 7,
     "metadata": {},
     "output_type": "execute_result"
    }
   ],
   "source": [
    "buy_behavior.head(5)"
   ]
  },
  {
   "cell_type": "code",
   "execution_count": 8,
   "id": "04555c84",
   "metadata": {},
   "outputs": [
    {
     "name": "stdout",
     "output_type": "stream",
     "text": [
      "206307\n"
     ]
    }
   ],
   "source": [
    "unique_brands = buy_behavior[\"brand\"].unique()\n",
    "print(len(unique_brands))"
   ]
  },
  {
   "cell_type": "code",
   "execution_count": 9,
   "id": "8b13501d",
   "metadata": {},
   "outputs": [
    {
     "name": "stdout",
     "output_type": "stream",
     "text": [
      "255\n"
     ]
    },
    {
     "data": {
      "image/png": "[encoded data removed]",
      "text/plain": [
       "<Figure size 432x288 with 1 Axes>"
      ]
     },
     "metadata": {
      "needs_background": "light"
     },
     "output_type": "display_data"
    }
   ],
   "source": [
    "###### Identification attack user_groups ######\n",
    "\n",
    "user_features = user_profile[['cms_segid', 'cms_group_id', 'final_gender_code', 'age_level', 'pvalue_level', 'shopping_level', 'occupation', 'new_user_class_level ']]\n",
    "\n",
    "# Drop rows with missing values\n",
    "user_features = user_features.dropna()\n",
    "\n",
    "# Get all possible combinations of the user features\n",
    "combinations = []\n",
    "for i in range(1, len(user_features.columns)+1):\n",
    "    combinations += list(itertools.combinations(user_features.columns, i))\n",
    "    \n",
    "print(len(combinations))\n",
    "\n",
    "combinations_count = {}\n",
    "for combination in combinations:\n",
    "    combination_count = len(user_features.groupby(list(combination)).size())\n",
    "    combinations_count[combination] = combination_count\n",
    "\n",
    "# Create a list of tuples from the dictionary items\n",
    "counts_list = list(combinations_count.items())\n",
    "\n",
    "# Sort the list by the count of users in ascending order\n",
    "counts_list.sort(key=lambda x: x[1])\n",
    "\n",
    "# Get the top 20 combinations with the least count\n",
    "top_combinations = counts_list[:20]\n",
    "\n",
    "# Create a list of the K-anonymity values for each combination\n",
    "k_anonimity = [1/count[1] for count in top_combinations]\n",
    "\n",
    "# Plot the K-anonymity values as a bar chart\n",
    "plt.bar(range(len(k_anonimity)), k_anonimity)\n",
    "\n",
    "# Add labels to the x and y axis and add a title to the plot\n",
    "plt.xlabel('Combination')\n",
    "plt.ylabel('K-Anonymity')\n",
    "plt.title('K-Anonymity for 20 Combinations with Least User Count')\n",
    "\n",
    "# Show the plot\n",
    "plt.show()"
   ]
  },
  {
   "cell_type": "code",
   "execution_count": 10,
   "id": "7104cf53",
   "metadata": {},
   "outputs": [],
   "source": [
    "#clicks_brand = pd.merge(raw_sample, ad_feature[['brand', 'adgroup_id']], how='left', on='adgroup_id')"
   ]
  },
  {
   "cell_type": "code",
   "execution_count": 11,
   "id": "f66b20c6",
   "metadata": {},
   "outputs": [],
   "source": [
    "#clicks_with_brand = pd.merge(left=raw_sample, right=ad_feature, how='inner', on='adgroup_id')"
   ]
  },
  {
   "cell_type": "code",
   "execution_count": 12,
   "id": "bd5d8ce0",
   "metadata": {},
   "outputs": [
    {
     "name": "stdout",
     "output_type": "stream",
     "text": [
      "            user  time_stamp btag  cate   brand\n",
      "308003    152833  1494573598  buy   771   47093\n",
      "375930    698513  1494043523  buy  5751  273442\n",
      "380392   1110839  1494065020  buy  6961  155973\n",
      "380393   1110839  1494065020  buy  6961  155973\n",
      "380394   1110839  1494065020  buy  6961  155973\n",
      "...          ...         ...  ...   ...     ...\n",
      "8540904   192332  1494374173  buy  4291  392210\n",
      "8753534   393455  1494395802  buy  4539  184002\n",
      "8840103   998342  1494474219  buy  7241  450094\n",
      "8905963  1110839  1494481579  buy  6961  155973\n",
      "9071094   283196  1494665810  buy  5944  237949\n",
      "\n",
      "[75 rows x 5 columns]\n"
     ]
    }
   ],
   "source": [
    "# Get the value counts of all brands\n",
    "brand_counts = buy_behavior['brand'].value_counts()\n",
    "\n",
    "# Calculate the index of the first and last brand you want to include\n",
    "total_brands = len(brand_counts)\n",
    "middle_index = total_brands // 2\n",
    "first_index = middle_index - 7\n",
    "last_index = middle_index + 8\n",
    "\n",
    "# Get the average 5 interacted brands\n",
    "average_15_brands = brand_counts.iloc[first_index:last_index].index.tolist()\n",
    "\n",
    "# Filter the buy_behavior dataframe to only include the least 5 brands\n",
    "average_15_buy_behavior = buy_behavior[buy_behavior['brand'].isin(average_15_brands)]\n",
    "print(average_15_buy_behavior)"
   ]
  },
  {
   "cell_type": "code",
   "execution_count": 13,
   "id": "910b40a5",
   "metadata": {},
   "outputs": [
    {
     "name": "stdout",
     "output_type": "stream",
     "text": [
      "age_level    0     1     2     3     4     5     6\n",
      "brand                                             \n",
      "2          0.0   8.0  31.0  54.0  60.0  21.0   3.0\n",
      "3          0.0   1.0   5.0  12.0   9.0   7.0   1.0\n",
      "6          0.0   0.0   0.0   1.0   0.0   0.0   0.0\n",
      "7          0.0  46.0  87.0  85.0  97.0  74.0  10.0\n",
      "8          0.0  33.0  61.0  16.0   0.0  45.0   9.0\n",
      "...        ...   ...   ...   ...   ...   ...   ...\n",
      "461430     0.0   0.0   0.0   0.0   0.0   1.0   0.0\n",
      "461447     0.0   0.0   0.0   0.0   1.0   0.0   0.0\n",
      "461453     0.0   0.0   0.0   1.0   0.0   0.0   1.0\n",
      "461457     0.0   0.0   1.0   0.0   0.0   0.0   0.0\n",
      "461526     0.0   0.0   0.0   0.0   0.0   1.0   0.0\n",
      "\n",
      "[204324 rows x 7 columns]\n"
     ]
    }
   ],
   "source": [
    "\n",
    "#filter out columns not required\n",
    "#join columns with behavior log and user datasets\n",
    "\n",
    "#top_5_brands = buy_behavior['brand'].value_counts().head(5).index.tolist()\n",
    "#top_5_buy_behavior = buy_behavior[buy_behavior['brand'].isin(top_5_brands)]\n",
    "\n",
    "\n",
    "# Merge the top_5_buy_behavior and user_profile dataframes on the 'userid' column\n",
    "merged_df = pd.merge(buy_behavior, user_profile, left_on='user', right_on='userid')\n",
    "\n",
    "\n",
    "# Group the merged dataframe by the 'age_level' and 'brand' columns and get the count of each group\n",
    "grouped_df = merged_df.groupby(['age_level', 'brand'], as_index=False).count()[['age_level', 'brand', 'user']]\n",
    "\n",
    "\n",
    "# Pivot the grouped dataframe to create a pivot table with the 'age_level' column as the index, the 'brand' column as the columns and the 'user' column as the values\n",
    "pivot_table = grouped_df.pivot(index='brand', columns='age_level', values='user')\n",
    "pivot_table = pivot_table.fillna(0)\n",
    "print(pivot_table)\n",
    "\n",
    "\n",
    "\n",
    "\n",
    "\n",
    "\n",
    "\n",
    "\n",
    "\n",
    "\n",
    "\n"
   ]
  },
  {
   "cell_type": "code",
   "execution_count": 14,
   "id": "cc4cded0",
   "metadata": {},
   "outputs": [
    {
     "name": "stdout",
     "output_type": "stream",
     "text": [
      "age_level      0       1       2       3       4       5       6\n",
      "brand                                                           \n",
      "2          100.0   95.48   82.49   69.49   66.10   88.14   98.31\n",
      "3          100.0   97.14   85.71   65.71   74.29   80.00   97.14\n",
      "6          100.0  100.00  100.00    0.00  100.00  100.00  100.00\n",
      "7          100.0   88.47   78.20   78.70   75.69   81.45   97.49\n",
      "8          100.0   79.88   62.80   90.24  100.00   72.56   94.51\n",
      "...          ...     ...     ...     ...     ...     ...     ...\n",
      "461430     100.0  100.00  100.00  100.00  100.00    0.00  100.00\n",
      "461447     100.0  100.00  100.00  100.00    0.00  100.00  100.00\n",
      "461453     100.0  100.00  100.00   50.00  100.00  100.00   50.00\n",
      "461457     100.0  100.00    0.00  100.00  100.00  100.00  100.00\n",
      "461526     100.0  100.00  100.00  100.00  100.00    0.00  100.00\n",
      "\n",
      "[204324 rows x 7 columns]\n"
     ]
    }
   ],
   "source": [
    "###### Following is a table generated that shows for top 5 brands how each age group interacts with each brand #########\n",
    "##### Using this information we can create dummy figure 4  #####\n",
    "\n",
    "\n",
    "# Get the total number of users for each age level\n",
    "brand_totals = pivot_table.sum(axis=1)\n",
    "\n",
    "# Divide the values in the pivot table by the age level totals and multiply by 100 to get the percent values\n",
    "percent_table = (pivot_table / brand_totals.values.reshape(-1, 1)) * 100\n",
    "percent_table = percent_table.fillna(0)\n",
    "\n",
    "ambiguity_table = 100 - percent_table\n",
    "\n",
    "# Round the values in the ambiguity table to 2 decimal places\n",
    "ambiguity_table = ambiguity_table.round(2)\n",
    "\n",
    "# Print the ambiguity table\n",
    "print(ambiguity_table)"
   ]
  },
  {
   "cell_type": "code",
   "execution_count": 15,
   "id": "d1ca764b",
   "metadata": {},
   "outputs": [
    {
     "name": "stdout",
     "output_type": "stream",
     "text": [
      "{0.0: 67465, 0.41: 1, 1.4: 1, 1.49: 1, 1.85: 1, 2.17: 1, 2.22: 1, 2.41: 1, 2.78: 1, 3.03: 1, 3.23: 3, 3.45: 1, 3.53: 1, 3.92: 1, 4.0: 2, 4.17: 2, 4.19: 1, 4.32: 1, 4.35: 3, 4.55: 3, 4.76: 6, 5.0: 5, 5.13: 2, 5.26: 6, 5.56: 8, 5.71: 1, 5.88: 11, 6.06: 1, 6.25: 10, 6.45: 1, 6.67: 20, 6.9: 3, 6.98: 1, 7.14: 23, 7.32: 1, 7.41: 1, 7.5: 2, 7.69: 27, 8.0: 1, 8.11: 1, 8.33: 46, 8.51: 1, 8.57: 1, 8.7: 3, 8.77: 1, 9.05: 1, 9.09: 66, 9.38: 1, 9.52: 3, 9.68: 2, 10.0: 114, 10.34: 1, 10.53: 12, 10.71: 3, 10.81: 1, 10.84: 1, 11.11: 165, 11.27: 1, 11.29: 1, 11.32: 1, 11.49: 1, 11.54: 1, 11.58: 1, 11.76: 24, 12.0: 2, 12.12: 1, 12.2: 1, 12.28: 1, 12.5: 232, 12.7: 1, 12.96: 1, 13.04: 5, 13.33: 33, 13.51: 1, 13.64: 7, 13.79: 2, 13.89: 1, 13.95: 1, 14.29: 461, 14.58: 1, 14.71: 2, 14.73: 1, 14.81: 3, 15.0: 9, 15.09: 1, 15.15: 6, 15.25: 1, 15.38: 64, 15.62: 2, 15.66: 1, 15.69: 1, 15.79: 18, 15.83: 1, 15.91: 2, 16.0: 6, 16.13: 2, 16.22: 1, 16.33: 1, 16.67: 918, 16.85: 1, 16.95: 1, 17.14: 2, 17.24: 3, 17.39: 10, 17.42: 1, 17.5: 1, 17.65: 28, 17.78: 2, 17.86: 7, 17.91: 1, 17.95: 1, 18.18: 140, 18.29: 1, 18.42: 2, 18.52: 3, 18.6: 1, 18.7: 1, 18.75: 32, 18.92: 2, 18.97: 1, 19.05: 10, 19.15: 1, 19.23: 2, 19.3: 2, 19.35: 1, 19.44: 3, 19.57: 1, 19.61: 1, 19.63: 1, 19.67: 1, 20.0: 1964, 20.31: 1, 20.37: 1, 20.45: 1, 20.59: 3, 20.69: 1, 20.83: 16, 20.93: 1, 21.05: 32, 21.1: 1, 21.21: 2, 21.28: 2, 21.29: 1, 21.43: 76, 21.59: 1, 21.62: 1, 21.74: 10, 21.88: 6, 21.95: 2, 22.22: 298, 22.35: 1, 22.41: 1, 22.45: 1, 22.47: 1, 22.5: 2, 22.58: 2, 22.62: 1, 22.64: 3, 22.67: 1, 22.73: 17, 22.86: 3, 22.95: 1, 23.08: 92, 23.19: 1, 23.33: 7, 23.44: 1, 23.45: 1, 23.46: 2, 23.47: 1, 23.53: 46, 23.64: 2, 23.68: 2, 23.78: 1, 23.81: 15, 23.91: 1, 24.0: 13, 24.07: 1, 24.11: 1, 24.14: 7, 24.19: 1, 24.24: 3, 24.29: 1, 24.32: 2, 24.39: 4, 24.44: 1, 24.49: 1, 24.53: 1, 25.0: 4267, 25.33: 1, 25.37: 1, 25.4: 1, 25.49: 3, 25.58: 1, 25.64: 5, 25.71: 5, 25.77: 1, 25.78: 1, 25.81: 6, 25.86: 1, 25.88: 1, 25.93: 9, 26.0: 4, 26.03: 1, 26.09: 13, 26.19: 2, 26.22: 1, 26.23: 1, 26.32: 35, 26.42: 1, 26.47: 1, 26.53: 1, 26.56: 1, 26.6: 1, 26.67: 80, 26.74: 1, 26.83: 2, 26.85: 1, 26.92: 9, 27.03: 3, 27.08: 1, 27.14: 1, 27.27: 249, 27.34: 1, 27.37: 1, 27.38: 1, 27.44: 1, 27.49: 2, 27.59: 14, 27.78: 49, 27.87: 1, 27.91: 2, 27.94: 1, 28.0: 15, 28.07: 1, 28.12: 7, 28.15: 1, 28.21: 1, 28.26: 2, 28.28: 1, 28.3: 1, 28.46: 1, 28.51: 1, 28.57: 1033, 28.83: 1, 28.85: 5, 28.89: 1, 28.95: 6, 29.03: 15, 29.09: 2, 29.13: 1, 29.17: 20, 29.2: 1, 29.25: 1, 29.27: 2, 29.31: 3, 29.33: 1, 29.41: 72, 29.51: 2, 29.55: 1, 29.58: 1, 29.63: 19, 29.73: 5, 29.79: 1, 29.82: 1, 29.85: 2, 29.93: 1, 30.0: 394, 30.18: 1, 30.19: 1, 30.23: 3, 30.26: 1, 30.3: 11, 30.38: 2, 30.43: 23, 30.45: 1, 30.51: 2, 30.56: 9, 30.61: 3, 30.77: 171, 30.85: 1, 30.88: 1, 30.95: 2, 30.99: 2, 31.03: 12, 31.08: 1, 31.11: 3, 31.18: 1, 31.25: 88, 31.37: 2, 31.4: 1, 31.43: 7, 31.48: 1, 31.52: 1, 31.53: 2, 31.54: 2, 31.58: 63, 31.67: 3, 31.71: 3, 31.79: 1, 31.82: 30, 31.87: 1, 31.88: 1, 31.91: 2, 31.96: 2, 32.0: 31, 32.03: 1, 32.08: 5, 32.11: 1, 32.14: 15, 32.2: 1, 32.26: 12, 32.35: 13, 32.39: 1, 32.43: 10, 32.47: 1, 32.48: 1, 32.5: 5, 32.56: 1, 32.6: 1, 32.61: 1, 32.65: 3, 32.69: 1, 32.73: 3, 32.81: 1, 32.84: 2, 32.9: 1, 32.95: 1, 32.97: 1, 33.05: 1, 33.33: 11868, 33.61: 1, 33.67: 1, 33.72: 1, 33.77: 1, 33.87: 2, 33.9: 1, 33.97: 1, 34.0: 3, 34.04: 3, 34.09: 3, 34.12: 1, 34.13: 1, 34.15: 3, 34.18: 1, 34.21: 10, 34.22: 1, 34.25: 3, 34.29: 5, 34.33: 3, 34.34: 2, 34.35: 1, 34.36: 1, 34.38: 8, 34.41: 1, 34.43: 1, 34.46: 1, 34.48: 15, 34.5: 1, 34.53: 1, 34.6: 1, 34.62: 21, 34.69: 4, 34.74: 1, 34.75: 1, 34.78: 50, 34.83: 1, 34.88: 4, 34.91: 1, 34.92: 4, 34.93: 1, 34.94: 1, 35.0: 72, 35.04: 1, 35.05: 1, 35.06: 1, 35.09: 2, 35.11: 1, 35.14: 9, 35.21: 1, 35.29: 109, 35.34: 1, 35.35: 1, 35.37: 1, 35.39: 1, 35.42: 3, 35.44: 1, 35.46: 1, 35.47: 1, 35.48: 14, 35.53: 2, 35.56: 2, 35.58: 1, 35.59: 4, 35.62: 1, 35.64: 1, 35.65: 1, 35.68: 1, 35.71: 202, 35.75: 1, 35.82: 1, 35.85: 1, 35.87: 1, 35.88: 1, 35.9: 10, 35.92: 2, 35.94: 1, 35.96: 2, 36.0: 37, 36.07: 4, 36.08: 1, 36.11: 12, 36.13: 1, 36.17: 3, 36.26: 2, 36.27: 1, 36.3: 1, 36.31: 1, 36.36: 470, 36.44: 1, 36.45: 1, 36.47: 1, 36.49: 2, 36.51: 2, 36.52: 1, 36.59: 7, 36.6: 1, 36.61: 1, 36.62: 1, 36.67: 25, 36.69: 1, 36.73: 3, 36.76: 4, 36.77: 1, 36.79: 1, 36.81: 1, 36.82: 1, 36.84: 89, 36.88: 2, 36.9: 1, 36.92: 1, 36.94: 1, 36.96: 2, 36.97: 1, 36.99: 3, 37.04: 30, 37.06: 1, 37.1: 2, 37.13: 1, 37.14: 10, 37.21: 5, 37.22: 1, 37.23: 1, 37.25: 3, 37.29: 2, 37.31: 1, 37.33: 2, 37.36: 2, 37.4: 1, 37.44: 1, 37.5: 1215, 37.61: 3, 37.7: 4, 37.74: 4, 37.76: 1, 37.78: 5, 37.79: 1, 37.84: 10, 37.86: 1, 37.88: 1, 37.9: 2, 37.93: 28, 37.96: 1, 37.97: 1, 38.0: 7, 38.02: 1, 38.03: 2, 38.04: 1, 38.07: 1, 38.1: 65, 38.12: 1, 38.13: 1, 38.14: 1, 38.15: 1, 38.16: 1, 38.18: 1, 38.19: 1, 38.24: 11, 38.25: 1, 38.3: 7, 38.33: 2, 38.36: 3, 38.38: 2, 38.39: 1, 38.4: 1, 38.46: 320, 38.5: 1, 38.51: 1, 38.55: 1, 38.57: 4, 38.6: 3, 38.64: 8, 38.71: 24, 38.72: 1, 38.76: 1, 38.78: 3, 38.8: 1, 38.81: 3, 38.82: 1, 38.84: 1, 38.85: 1, 38.89: 122, 38.98: 2, 39.02: 9, 39.06: 4, 39.08: 1, 39.09: 1, 39.11: 1, 39.13: 65, 39.17: 1, 39.2: 1, 39.22: 4, 39.24: 1, 39.25: 1, 39.26: 1, 39.28: 1, 39.29: 32, 39.33: 2, 39.34: 7, 39.35: 1, 39.37: 1, 39.39: 16, 39.42: 1, 39.44: 1, 39.45: 1, 39.47: 11, 39.49: 1, 39.51: 1, 39.53: 7, 39.56: 1, 39.58: 5, 39.6: 3, 39.62: 6, 39.64: 2, 39.66: 1, 39.68: 4, 39.71: 3, 39.72: 1, 39.73: 1, 39.74: 1, 39.76: 2, 39.78: 1, 39.81: 1, 39.82: 2, 39.84: 2, 39.85: 1, 39.86: 1, 39.88: 1, 39.91: 1, 39.93: 2, 40.0: 4607, 40.09: 1, 40.11: 1, 40.14: 1, 40.15: 1, 40.17: 2, 40.2: 1, 40.21: 1, 40.24: 2, 40.26: 1, 40.28: 3, 40.3: 3, 40.32: 1, 40.35: 4, 40.38: 7, 40.4: 2, 40.43: 9, 40.47: 1, 40.48: 7, 40.51: 2, 40.52: 2, 40.54: 16, 40.57: 1, 40.58: 2, 40.59: 1, 40.61: 1, 40.62: 28, 40.65: 1, 40.66: 1, 40.68: 4, 40.69: 1, 40.7: 1, 40.73: 1, 40.74: 53, 40.78: 1, 40.79: 5, 40.82: 6, 40.83: 1, 40.85: 3, 40.86: 1, 40.91: 71, 40.92: 1, 40.94: 1, 40.95: 1, 40.96: 3, 40.97: 1, 40.98: 7, 41.03: 11, 41.05: 1, 41.07: 2, 41.11: 3, 41.14: 1, 41.18: 181, 41.23: 2, 41.24: 1, 41.25: 1, 41.27: 1, 41.3: 10, 41.35: 1, 41.38: 37, 41.43: 2, 41.44: 1, 41.46: 19, 41.49: 1, 41.5: 1, 41.51: 6, 41.54: 3, 41.55: 1, 41.57: 2, 41.58: 1, 41.59: 1, 41.61: 1, 41.67: 527, 41.69: 1, 41.71: 3, 41.72: 1, 41.76: 2, 41.77: 1, 41.79: 1, 41.82: 2, 41.84: 1, 41.85: 1, 41.86: 15, 41.89: 1, 41.9: 1, 41.91: 1, 41.94: 23, 41.95: 1, 41.96: 1, 41.98: 4, 42.0: 8, 42.03: 1, 42.05: 3, 42.06: 1, 42.07: 1, 42.08: 1, 42.11: 160, 42.13: 1, 42.14: 1, 42.19: 3, 42.22: 15, 42.25: 2, 42.27: 2, 42.3: 1, 42.31: 64, 42.32: 1, 42.34: 1, 42.35: 5, 42.36: 2, 42.37: 8, 42.38: 1, 42.39: 2, 42.4: 1, 42.42: 33, 42.45: 1, 42.47: 4, 42.49: 1, 42.5: 24, 42.51: 1, 42.52: 2, 42.53: 1, 42.55: 6, 42.56: 1, 42.57: 1, 42.59: 3, 42.61: 1, 42.62: 4, 42.65: 2, 42.66: 2, 42.68: 3, 42.69: 1, 42.72: 1, 42.73: 1, 42.74: 1, 42.75: 1, 42.76: 1, 42.79: 1, 42.86: 2268, 42.88: 1, 42.95: 1, 42.99: 1, 43.0: 4, 43.02: 3, 43.04: 4, 43.05: 1, 43.06: 3, 43.08: 4, 43.09: 1, 43.1: 7, 43.12: 2, 43.13: 1, 43.14: 7, 43.15: 1, 43.16: 2, 43.17: 1, 43.18: 14, 43.21: 1, 43.24: 24, 43.26: 1, 43.27: 2, 43.28: 3, 43.29: 1, 43.3: 2, 43.32: 1, 43.33: 33, 43.36: 2, 43.37: 1, 43.38: 1, 43.4: 8, 43.41: 1, 43.42: 5, 43.43: 1, 43.44: 1, 43.45: 1, 43.48: 86, 43.51: 2, 43.55: 5, 43.56: 1, 43.59: 20, 43.6: 1, 43.61: 1, 43.64: 8, 43.65: 2, 43.66: 1, 43.68: 3, 43.7: 2, 43.71: 1, 43.72: 2, 43.75: 272, 43.76: 1, 43.79: 1, 43.8: 2, 43.81: 1, 43.82: 3, 43.83: 1, 43.84: 2, 43.85: 1, 43.86: 7, 43.88: 2, 43.89: 1, 43.9: 13, 43.91: 1, 43.94: 6, 43.96: 1, 43.97: 1, 43.98: 1, 43.99: 1, 44.0: 70, 44.05: 3, 44.07: 7, 44.08: 2, 44.11: 1, 44.12: 22, 44.13: 1, 44.14: 4, 44.15: 1, 44.16: 3, 44.17: 1, 44.19: 31, 44.21: 2, 44.23: 7, 44.26: 5, 44.28: 1, 44.29: 1, 44.3: 4, 44.34: 3, 44.35: 2, 44.38: 1, 44.39: 1, 44.42: 2, 44.44: 1377, 44.46: 1, 44.47: 1, 44.49: 1, 44.5: 3, 44.53: 3, 44.54: 2, 44.55: 1, 44.56: 1, 44.57: 3, 44.58: 5, 44.59: 2, 44.62: 4, 44.63: 1, 44.64: 7, 44.67: 1, 44.68: 9, 44.69: 1, 44.7: 1, 44.72: 3, 44.74: 23, 44.75: 2, 44.76: 2, 44.77: 2, 44.78: 4, 44.79: 1, 44.8: 1, 44.81: 1, 44.83: 55, 44.84: 1, 44.85: 1, 44.86: 2, 44.87: 2, 44.9: 13, 44.92: 2, 44.93: 4, 44.94: 1, 44.95: 1, 44.96: 2, 45.0: 144, 45.01: 1, 45.03: 1, 45.04: 1, 45.05: 3, 45.07: 3, 45.08: 1, 45.09: 1, 45.1: 5, 45.11: 1, 45.12: 1, 45.13: 1, 45.16: 46, 45.18: 1, 45.19: 2, 45.22: 2, 45.24: 22, 45.25: 2, 45.26: 4, 45.27: 2, 45.28: 8, 45.31: 4, 45.33: 2, 45.35: 1, 45.36: 2, 45.38: 2, 45.4: 1, 45.41: 1, 45.45: 858, 45.48: 1, 45.5: 2, 45.51: 1, 45.52: 1, 45.56: 4, 45.57: 4, 45.59: 4, 45.6: 2, 45.61: 12, 45.62: 2, 45.63: 1, 45.64: 1, 45.65: 18, 45.66: 1, 45.68: 2, 45.7: 1, 45.71: 31, 45.72: 1, 45.73: 1, 45.74: 1, 45.75: 3, 45.76: 4, 45.77: 2, 45.78: 1, 45.79: 2, 45.8: 2, 45.81: 2, 45.82: 1, 45.83: 114, 45.86: 1, 45.89: 1, 45.9: 6, 45.91: 1, 45.92: 1, 45.95: 25, 45.97: 4, 45.98: 1, 46.0: 14, 46.02: 2, 46.03: 4, 46.05: 1, 46.07: 2, 46.08: 1, 46.09: 5, 46.1: 3, 46.15: 582, 46.18: 1, 46.19: 1, 46.23: 2, 46.25: 3, 46.27: 2, 46.28: 1, 46.29: 1, 46.3: 11, 46.31: 3, 46.32: 3, 46.34: 22, 46.36: 2, 46.37: 1, 46.38: 4, 46.42: 1, 46.43: 58, 46.44: 1, 46.45: 2, 46.46: 4, 46.47: 1, 46.48: 9, 46.49: 2, 46.5: 3, 46.51: 23, 46.55: 7, 46.56: 2, 46.57: 2, 46.58: 7, 46.59: 4, 46.6: 1, 46.62: 1, 46.63: 1, 46.65: 2, 46.67: 424, 46.69: 1, 46.7: 1, 46.71: 2, 46.72: 1, 46.73: 1, 46.74: 2, 46.75: 5, 46.77: 4, 46.79: 2, 46.81: 17, 46.83: 1, 46.84: 7, 46.85: 1, 46.86: 1, 46.88: 45, 46.9: 1, 46.91: 3, 46.92: 2, 46.94: 11, 46.95: 1, 46.96: 2, 46.97: 7, 46.99: 2, 47.0: 1, 47.06: 316, 47.07: 1, 47.09: 2, 47.1: 2, 47.11: 2, 47.12: 4, 47.13: 6, 47.14: 4, 47.15: 1, 47.16: 2, 47.17: 7, 47.19: 3, 47.2: 1, 47.21: 1, 47.22: 28, 47.23: 1, 47.24: 1, 47.25: 2, 47.26: 2, 47.27: 23, 47.29: 2, 47.3: 4, 47.31: 3, 47.32: 2, 47.36: 1, 47.37: 225, 47.4: 1, 47.41: 4, 47.42: 4, 47.44: 6, 47.45: 3, 47.46: 5, 47.47: 2, 47.5: 30, 47.51: 1, 47.52: 2, 47.53: 2, 47.54: 9, 47.55: 1, 47.56: 4, 47.58: 3, 47.6: 1, 47.62: 172, 47.63: 1, 47.65: 2, 47.66: 3, 47.67: 4, 47.69: 7, 47.7: 1, 47.71: 2, 47.72: 1, 47.73: 26, 47.74: 1, 47.75: 2, 47.76: 9, 47.77: 2, 47.78: 3, 47.79: 1, 47.8: 1, 47.81: 2, 47.83: 151, 47.84: 2, 47.85: 1, 47.86: 2, 47.87: 1, 47.89: 6, 47.9: 4, 47.92: 15, 47.93: 1, 47.95: 7, 47.96: 6, 47.97: 1, 48.0: 106, 48.01: 1, 48.02: 1, 48.04: 3, 48.05: 6, 48.08: 9, 48.09: 3, 48.1: 6, 48.15: 86, 48.16: 1, 48.17: 1, 48.18: 3, 48.19: 7, 48.2: 1, 48.21: 10, 48.22: 1, 48.24: 3, 48.25: 2, 48.28: 71, 48.29: 1, 48.31: 6, 48.32: 1, 48.33: 5, 48.34: 3, 48.35: 3, 48.36: 2, 48.37: 2, 48.39: 81, 48.4: 1, 48.41: 2, 48.43: 5, 48.44: 8, 48.45: 3, 48.47: 1, 48.48: 50, 48.5: 2, 48.51: 3, 48.53: 1, 48.54: 1, 48.55: 1, 48.56: 1, 48.57: 53, 48.58: 2, 48.59: 2, 48.6: 3, 48.61: 5, 48.63: 1, 48.65: 34, 48.67: 1, 48.68: 2, 48.69: 2, 48.7: 5, 48.71: 1, 48.72: 46, 48.73: 2, 48.74: 1, 48.75: 7, 48.77: 1, 48.78: 28, 48.79: 1, 48.8: 2, 48.81: 1, 48.82: 5, 48.83: 1, 48.84: 25, 48.86: 3, 48.89: 16, 48.9: 1, 48.91: 2, 48.93: 1, 48.94: 15, 48.95: 3, 48.96: 5, 48.98: 13, 48.99: 2, 49.0: 3, 49.02: 15, 49.03: 5, 49.04: 1, 49.06: 16, 49.07: 1, 49.09: 13, 49.1: 1, 49.11: 3, 49.12: 9, 49.13: 3, 49.14: 2, 49.15: 12, 49.18: 7, 49.19: 2, 49.21: 10, 49.22: 2, 49.23: 7, 49.24: 1, 49.25: 6, 49.27: 2, 49.28: 5, 49.29: 1, 49.3: 7, 49.32: 3, 49.33: 3, 49.34: 1, 49.35: 6, 49.36: 1, 49.37: 3, 49.38: 13, 49.39: 1, 49.4: 4, 49.41: 2, 49.42: 1, 49.43: 3, 49.44: 2, 49.45: 4, 49.46: 1, 49.47: 2, 49.48: 6, 49.49: 3, 49.5: 2, 49.51: 4, 49.52: 2, 49.53: 5, 49.54: 2, 49.55: 1, 49.56: 1, 49.57: 2, 49.58: 1, 49.59: 2, 49.6: 1, 49.61: 4, 49.62: 2, 49.63: 1, 49.64: 2, 49.65: 1, 49.66: 2, 49.67: 1, 49.68: 3, 49.71: 4, 49.72: 1, 49.73: 2, 49.74: 2, 49.76: 1, 49.78: 1, 49.8: 3, 49.84: 1, 49.87: 1, 49.93: 2, 50.0: 42408}\n"
     ]
    }
   ],
   "source": [
    "ambiguity_counts_age = {}\n",
    "\n",
    "# Loop through each value in the ambiguity table and count the number of occurrences\n",
    "for ambiguity_value in ambiguity_table.values.flatten():\n",
    "    if ambiguity_value < 50.01:\n",
    "        if ambiguity_value in ambiguity_counts_age:\n",
    "            ambiguity_counts_age[ambiguity_value] += 1\n",
    "        else:\n",
    "            ambiguity_counts_age[ambiguity_value] = 1\n",
    "\n",
    "\n",
    "# Sort the dictionary items by their keys\n",
    "ambiguity_dict_age = dict(sorted(ambiguity_counts_age.items(), key=lambda x: x[0]))\n",
    "\n",
    "# Print the sorted dictionary\n",
    "print(ambiguity_dict_age)"
   ]
  },
  {
   "cell_type": "code",
   "execution_count": 16,
   "id": "880b86e7",
   "metadata": {},
   "outputs": [
    {
     "data": {
      "image/png": "[encoded data removed]",
      "text/plain": [
       "<Figure size 432x288 with 1 Axes>"
      ]
     },
     "metadata": {
      "needs_background": "light"
     },
     "output_type": "display_data"
    }
   ],
   "source": [
    "# `ambiguity_dict_age` is the sorted dictionary\n",
    "x_values = list(ambiguity_dict_age.keys())\n",
    "y_values = list(ambiguity_dict_age.values())\n",
    "\n",
    "# Create a histogram with 10 bins\n",
    "plt.hist(x_values, bins=100, weights=y_values)\n",
    "\n",
    "# Add axis labels and a title\n",
    "plt.xlabel('Ambiguity about Age groups using brands')\n",
    "plt.ylabel('Distribution of brands')\n",
    "plt.title('Ambiguity Distribution')\n",
    "\n",
    "# Show the plot\n",
    "plt.show()"
   ]
  },
  {
   "cell_type": "code",
   "execution_count": 17,
   "id": "548f7521",
   "metadata": {},
   "outputs": [
    {
     "data": {
      "image/png": "[encoded data removed]",
      "text/plain": [
       "<Figure size 432x288 with 1 Axes>"
      ]
     },
     "metadata": {
      "needs_background": "light"
     },
     "output_type": "display_data"
    }
   ],
   "source": [
    "# `ambiguity_dict` is the sorted dictionary you created earlier\n",
    "x_values = list(ambiguity_dict_age.keys())\n",
    "y_values = list(ambiguity_dict_age.values())\n",
    "\n",
    "# Calculate the percentage of each y_value over the total number of brands\n",
    "total_brands = len(unique_brands)\n",
    "y_percentages = [(count/total_brands)*100 for count in y_values]\n",
    "\n",
    "# Plot the percentage values on a bar chart\n",
    "plt.bar(x_values, y_percentages)\n",
    "plt.xlabel('Ambiguity about age group using brands')\n",
    "plt.ylabel('Percentage wise Distribution of Brands')\n",
    "plt.title('Ambiguity Value Distribution')\n",
    "plt.show()"
   ]
  },
  {
   "cell_type": "code",
   "execution_count": null,
   "id": "cb20bbab",
   "metadata": {},
   "outputs": [],
   "source": []
  },
  {
   "cell_type": "code",
   "execution_count": null,
   "id": "13d5c06d",
   "metadata": {},
   "outputs": [],
   "source": []
  },
  {
   "cell_type": "code",
   "execution_count": null,
   "id": "140e7b3c",
   "metadata": {},
   "outputs": [],
   "source": []
  },
  {
   "cell_type": "code",
   "execution_count": 18,
   "id": "24bbcc23",
   "metadata": {},
   "outputs": [
    {
     "name": "stdout",
     "output_type": "stream",
     "text": [
      "           user  time_stamp btag  cate   brand  userid  cms_segid  \\\n",
      "0        916958  1493811673  buy   123   97176  916958         33   \n",
      "1        916958  1493811809  buy   123   97176  916958         33   \n",
      "2        916958  1494055722  buy  4267  178847  916958         33   \n",
      "3        916958  1494037918  buy   123   97176  916958         33   \n",
      "4        916958  1493811673  buy   123   97176  916958         33   \n",
      "...         ...         ...  ...   ...     ...     ...        ...   \n",
      "8825410  319183  1493526092  buy  2505  412044  319183         92   \n",
      "8825411  889393  1493567745  buy  6181  264201  889393         60   \n",
      "8825412  401828  1493532067  buy  1892  398556  401828          0   \n",
      "8825413  614980  1493525415  buy  8998  224985  614980          0   \n",
      "8825414  614980  1493525641  buy  8998  224985  614980          0   \n",
      "\n",
      "         cms_group_id  final_gender_code  age_level  pvalue_level  \\\n",
      "0                   4                  2          4           2.0   \n",
      "1                   4                  2          4           2.0   \n",
      "2                   4                  2          4           2.0   \n",
      "3                   4                  2          4           2.0   \n",
      "4                   4                  2          4           2.0   \n",
      "...               ...                ...        ...           ...   \n",
      "8825410            11                  1          5           2.0   \n",
      "8825411             9                  1          3           1.0   \n",
      "8825412             2                  2          2           NaN   \n",
      "8825413             4                  2          4           NaN   \n",
      "8825414             4                  2          4           NaN   \n",
      "\n",
      "         shopping_level  occupation  new_user_class_level   \n",
      "0                     3           0                    2.0  \n",
      "1                     3           0                    2.0  \n",
      "2                     3           0                    2.0  \n",
      "3                     3           0                    2.0  \n",
      "4                     3           0                    2.0  \n",
      "...                 ...         ...                    ...  \n",
      "8825410               3           0                    3.0  \n",
      "8825411               2           0                    2.0  \n",
      "8825412               3           0                    NaN  \n",
      "8825413               1           0                    NaN  \n",
      "8825414               1           0                    NaN  \n",
      "\n",
      "[8825415 rows x 14 columns]\n",
      "         brand  final_gender_code  user\n",
      "0            2                  1    64\n",
      "1            2                  2   113\n",
      "2            3                  1    13\n",
      "3            3                  2    22\n",
      "4            6                  2     1\n",
      "...        ...                ...   ...\n",
      "315119  461430                  1     1\n",
      "315120  461447                  2     1\n",
      "315121  461453                  2     2\n",
      "315122  461457                  2     1\n",
      "315123  461526                  2     1\n",
      "\n",
      "[315124 rows x 3 columns]\n",
      "final_gender_code      1      2\n",
      "brand                          \n",
      "2                   64.0  113.0\n",
      "3                   13.0   22.0\n",
      "6                    0.0    1.0\n",
      "7                  206.0  193.0\n",
      "8                   41.0  123.0\n",
      "...                  ...    ...\n",
      "461430               1.0    0.0\n",
      "461447               0.0    1.0\n",
      "461453               0.0    2.0\n",
      "461457               0.0    1.0\n",
      "461526               0.0    1.0\n",
      "\n",
      "[204324 rows x 2 columns]\n"
     ]
    }
   ],
   "source": [
    "## Filter the behavior log to only include the rows where the brand was part of Average 15 interacted brands vs Gender ##\n",
    "\n",
    "# Get the value counts of all brands\n",
    "brand_counts = buy_behavior['brand'].value_counts()\n",
    "\n",
    "# Calculate the index of the first and last brand you want to include\n",
    "total_brands = len(brand_counts)\n",
    "middle_index = total_brands // 2\n",
    "first_index = middle_index - 50\n",
    "last_index = middle_index + 50\n",
    "\n",
    "# Get the average 15 interacted brands\n",
    "average_100_brands = brand_counts.iloc[first_index:last_index].index.tolist()\n",
    "\n",
    "# Filter the buy_behavior dataframe to only include the least 15 brands\n",
    "average_100_buy_behavior = buy_behavior[buy_behavior['brand'].isin(average_100_brands)]\n",
    "\n",
    "#top_15_brands = buy_behavior['brand'].value_counts().head(50).index.tolist()\n",
    "#top_15_buy_behavior = buy_behavior[buy_behavior['brand'].isin(top_15_brands)]\n",
    "\n",
    "\n",
    "# Merge the top_5_buy_behavior and user_profile dataframes on the 'userid' column\n",
    "merged_df = pd.merge(buy_behavior, user_profile, left_on='user', right_on='userid')\n",
    "print(merged_df)\n",
    "\n",
    "# Group the merged dataframe by the 'brand' and 'final_gender_code' columns and get the count of each group\n",
    "grouped_df = merged_df.groupby(['brand', 'final_gender_code'], as_index=False).count()[['brand', 'final_gender_code', 'user']]\n",
    "print(grouped_df)\n",
    "\n",
    "# Pivot the grouped dataframe to create a pivot table with the 'brand' column as the index, the 'final_gender_code' column as the columns and the 'user' column as the values\n",
    "pivot_table = grouped_df.pivot(index='brand', columns='final_gender_code', values='user')\n",
    "pivot_table = pivot_table.fillna(0)\n",
    "print(pivot_table)"
   ]
  },
  {
   "cell_type": "code",
   "execution_count": 19,
   "id": "e23faa6d",
   "metadata": {},
   "outputs": [
    {
     "name": "stdout",
     "output_type": "stream",
     "text": [
      "final_gender_code       1       2\n",
      "brand                            \n",
      "2                   63.84   36.16\n",
      "3                   62.86   37.14\n",
      "6                  100.00    0.00\n",
      "7                   48.37   51.63\n",
      "8                   75.00   25.00\n",
      "...                   ...     ...\n",
      "461430               0.00  100.00\n",
      "461447             100.00    0.00\n",
      "461453             100.00    0.00\n",
      "461457             100.00    0.00\n",
      "461526             100.00    0.00\n",
      "\n",
      "[204324 rows x 2 columns]\n",
      "{0.0: 93524, 0.36: 1, 0.51: 1, 0.57: 1, 0.62: 1, 0.68: 1, 0.79: 1, 0.8: 1, 0.82: 1, 0.83: 1, 0.84: 1, 0.85: 1, 0.88: 1, 0.9: 1, 0.95: 1, 0.97: 1, 0.98: 1, 0.99: 1, 1.03: 1, 1.14: 1, 1.15: 1, 1.17: 1, 1.18: 1, 1.2: 1, 1.25: 3, 1.27: 1, 1.3: 1, 1.39: 1, 1.41: 1, 1.43: 1, 1.45: 2, 1.47: 3, 1.48: 1, 1.49: 2, 1.5: 1, 1.52: 1, 1.54: 2, 1.56: 2, 1.59: 1, 1.61: 2, 1.64: 4, 1.67: 3, 1.69: 3, 1.71: 1, 1.72: 4, 1.74: 1, 1.79: 3, 1.8: 1, 1.82: 2, 1.85: 4, 1.87: 1, 1.89: 1, 1.9: 1, 1.92: 5, 1.94: 1, 1.96: 6, 2.0: 3, 2.02: 1, 2.04: 7, 2.08: 6, 2.13: 7, 2.17: 5, 2.22: 8, 2.27: 10, 2.3: 1, 2.33: 11, 2.35: 1, 2.38: 11, 2.42: 1, 2.44: 9, 2.47: 1, 2.5: 12, 2.56: 14, 2.6: 3, 2.63: 16, 2.67: 2, 2.7: 21, 2.72: 1, 2.73: 1, 2.74: 1, 2.76: 1, 2.78: 20, 2.79: 1, 2.82: 3, 2.86: 22, 2.87: 1, 2.91: 1, 2.94: 19, 2.99: 1, 3.03: 27, 3.05: 1, 3.06: 1, 3.08: 4, 3.09: 1, 3.12: 34, 3.17: 4, 3.2: 1, 3.23: 42, 3.26: 2, 3.27: 1, 3.28: 3, 3.29: 1, 3.3: 3, 3.31: 1, 3.33: 38, 3.37: 4, 3.39: 1, 3.45: 42, 3.47: 1, 3.49: 1, 3.51: 8, 3.53: 1, 3.55: 2, 3.57: 48, 3.6: 2, 3.61: 1, 3.64: 8, 3.65: 1, 3.66: 2, 3.69: 1, 3.7: 51, 3.73: 1, 3.74: 1, 3.75: 1, 3.77: 7, 3.79: 1, 3.85: 77, 3.91: 2, 3.92: 8, 3.95: 1, 3.97: 1, 4.0: 82, 4.01: 1, 4.03: 1, 4.05: 5, 4.06: 1, 4.07: 1, 4.08: 10, 4.11: 2, 4.12: 1, 4.17: 95, 4.22: 1, 4.23: 1, 4.26: 10, 4.29: 3, 4.3: 1, 4.32: 1, 4.35: 91, 4.38: 1, 4.4: 2, 4.41: 4, 4.42: 2, 4.43: 1, 4.44: 15, 4.45: 1, 4.46: 1, 4.48: 6, 4.49: 2, 4.5: 1, 4.55: 109, 4.58: 1, 4.59: 2, 4.6: 3, 4.62: 5, 4.63: 1, 4.65: 15, 4.67: 2, 4.69: 6, 4.71: 2, 4.72: 2, 4.75: 1, 4.76: 112, 4.79: 2, 4.8: 1, 4.81: 1, 4.82: 1, 4.84: 7, 4.85: 5, 4.86: 1, 4.88: 19, 4.9: 1, 4.92: 6, 4.94: 2, 4.95: 2, 4.98: 1, 5.0: 182, 5.01: 1, 5.03: 1, 5.05: 3, 5.06: 1, 5.08: 9, 5.1: 4, 5.11: 1, 5.12: 1, 5.13: 27, 5.14: 1, 5.15: 4, 5.17: 3, 5.19: 4, 5.2: 1, 5.21: 1, 5.24: 1, 5.26: 189, 5.28: 1, 5.29: 1, 5.31: 2, 5.32: 2, 5.33: 7, 5.35: 1, 5.36: 12, 5.38: 1, 5.39: 1, 5.41: 29, 5.42: 1, 5.43: 3, 5.44: 1, 5.45: 6, 5.46: 1, 5.47: 1, 5.48: 2, 5.49: 2, 5.5: 1, 5.53: 1, 5.55: 1, 5.56: 203, 5.58: 1, 5.59: 1, 5.61: 2, 5.62: 2, 5.63: 7, 5.65: 1, 5.66: 10, 5.68: 1, 5.69: 1, 5.71: 36, 5.73: 1, 5.74: 1, 5.75: 2, 5.76: 2, 5.77: 7, 5.8: 3, 5.81: 1, 5.83: 2, 5.84: 2, 5.85: 2, 5.88: 273, 5.89: 1, 5.92: 2, 5.93: 5, 5.94: 2, 5.95: 3, 5.96: 1, 5.97: 7, 6.0: 17, 6.01: 1, 6.02: 7, 6.03: 1, 6.06: 43, 6.07: 3, 6.09: 1, 6.1: 3, 6.12: 5, 6.13: 1, 6.15: 5, 6.16: 2, 6.17: 1, 6.18: 2, 6.19: 3, 6.21: 1, 6.22: 1, 6.23: 1, 6.25: 318, 6.29: 5, 6.31: 1, 6.32: 3, 6.33: 6, 6.34: 3, 6.35: 7, 6.36: 1, 6.37: 1, 6.38: 16, 6.4: 1, 6.41: 1, 6.42: 3, 6.43: 1, 6.44: 2, 6.45: 53, 6.47: 2, 6.48: 1, 6.49: 1, 6.51: 1, 6.52: 9, 6.53: 1, 6.54: 2, 6.55: 2, 6.56: 9, 6.57: 3, 6.58: 5, 6.59: 4, 6.6: 4, 6.61: 1, 6.62: 1, 6.63: 1, 6.64: 1, 6.67: 354, 6.69: 1, 6.7: 1, 6.71: 2, 6.72: 1, 6.73: 1, 6.74: 2, 6.76: 10, 6.77: 1, 6.78: 9, 6.79: 1, 6.8: 5, 6.82: 17, 6.83: 1, 6.84: 1, 6.85: 5, 6.86: 2, 6.87: 1, 6.88: 1, 6.9: 63, 6.91: 1, 6.92: 3, 6.93: 1, 6.94: 5, 6.96: 3, 6.97: 1, 6.98: 27, 6.99: 2, 7.0: 3, 7.01: 2, 7.02: 7, 7.03: 1, 7.04: 5, 7.06: 9, 7.07: 4, 7.08: 5, 7.09: 2, 7.1: 1, 7.11: 1, 7.14: 435, 7.16: 1, 7.17: 2, 7.18: 1, 7.19: 3, 7.21: 1, 7.22: 1, 7.23: 4, 7.24: 3, 7.25: 6, 7.26: 5, 7.27: 17, 7.28: 1, 7.29: 8, 7.3: 1, 7.31: 2, 7.32: 31, 7.35: 11, 7.37: 2, 7.38: 1, 7.39: 3, 7.41: 87, 7.42: 2, 7.43: 3, 7.44: 3, 7.45: 2, 7.46: 10, 7.47: 1, 7.48: 2, 7.5: 33, 7.51: 3, 7.52: 1, 7.53: 4, 7.54: 1, 7.55: 20, 7.56: 3, 7.57: 5, 7.58: 5, 7.59: 7, 7.6: 3, 7.61: 2, 7.62: 6, 7.63: 2, 7.64: 2, 7.65: 3, 7.66: 1, 7.69: 521, 7.72: 1, 7.73: 2, 7.74: 1, 7.75: 1, 7.76: 3, 7.78: 2, 7.79: 6, 7.8: 1, 7.81: 10, 7.83: 3, 7.84: 23, 7.86: 1, 7.87: 6, 7.88: 1, 7.89: 50, 7.91: 2, 7.92: 1, 7.94: 8, 7.95: 5, 7.96: 5, 7.97: 2, 7.98: 1, 8.0: 123, 8.02: 3, 8.03: 3, 8.04: 3, 8.05: 2, 8.06: 11, 8.08: 4, 8.09: 2, 8.1: 2, 8.11: 35, 8.12: 1, 8.13: 5, 8.14: 5, 8.15: 6, 8.16: 24, 8.18: 2, 8.2: 13, 8.21: 2, 8.22: 6, 8.24: 1, 8.25: 5, 8.26: 2, 8.27: 2, 8.28: 1, 8.3: 1, 8.31: 1, 8.32: 1, 8.33: 626, 8.37: 1, 8.38: 2, 8.39: 3, 8.4: 3, 8.41: 3, 8.42: 1, 8.43: 8, 8.44: 5, 8.45: 8, 8.46: 3, 8.47: 16, 8.48: 1, 8.49: 2, 8.5: 3, 8.51: 17, 8.52: 1, 8.53: 2, 8.54: 9, 8.55: 3, 8.56: 1, 8.57: 48, 8.59: 1, 8.6: 7, 8.61: 3, 8.62: 13, 8.64: 3, 8.65: 5, 8.66: 1, 8.67: 1, 8.68: 1, 8.7: 145, 8.72: 3, 8.73: 1, 8.74: 3, 8.75: 7, 8.76: 3, 8.77: 15, 8.78: 3, 8.79: 4, 8.8: 2, 8.81: 2, 8.82: 49, 8.84: 2, 8.85: 5, 8.86: 4, 8.87: 4, 8.88: 1, 8.89: 34, 8.9: 2, 8.92: 1, 8.93: 17, 8.95: 1, 8.96: 10, 8.97: 10, 8.98: 1, 8.99: 3, 9.0: 6, 9.01: 2, 9.02: 5, 9.03: 3, 9.04: 1, 9.05: 1, 9.06: 3, 9.07: 3, 9.09: 848, 9.1: 1, 9.11: 1, 9.13: 3, 9.14: 1, 9.15: 4, 9.16: 4, 9.17: 5, 9.18: 5, 9.19: 1, 9.2: 5, 9.21: 6, 9.22: 4, 9.23: 12, 9.24: 3, 9.25: 2, 9.26: 25, 9.27: 2, 9.28: 4, 9.29: 3, 9.3: 33, 9.32: 4, 9.33: 4, 9.34: 3, 9.35: 4, 9.36: 4, 9.38: 64, 9.39: 1, 9.4: 6, 9.41: 8, 9.42: 4, 9.43: 18, 9.44: 1, 9.45: 6, 9.46: 7, 9.47: 2, 9.48: 5, 9.49: 3, 9.5: 1, 9.51: 1, 9.52: 167, 9.53: 2, 9.54: 2, 9.55: 1, 9.56: 1, 9.57: 7, 9.58: 4, 9.59: 9, 9.6: 4, 9.62: 16, 9.63: 1, 9.64: 9, 9.65: 3, 9.66: 2, 9.67: 1, 9.68: 73, 9.7: 7, 9.71: 7, 9.72: 6, 9.73: 7, 9.74: 1, 9.75: 1, 9.76: 34, 9.77: 5, 9.78: 5, 9.79: 4, 9.8: 18, 9.81: 1, 9.82: 4, 9.83: 1, 9.84: 10, 9.86: 7, 9.87: 2, 9.88: 12, 9.89: 4, 9.9: 1, 9.91: 4, 9.92: 1, 9.93: 4, 9.95: 4, 9.97: 1, 9.98: 1, 10.0: 1010, 10.01: 1, 10.02: 2, 10.03: 2, 10.04: 4, 10.05: 1, 10.06: 1, 10.07: 3, 10.08: 2, 10.09: 3, 10.1: 7, 10.11: 10, 10.13: 5, 10.14: 14, 10.15: 2, 10.16: 4, 10.17: 8, 10.18: 2, 10.19: 4, 10.2: 23, 10.21: 2, 10.22: 4, 10.23: 7, 10.24: 2, 10.25: 1, 10.26: 36, 10.27: 1, 10.28: 6, 10.29: 9, 10.3: 1, 10.31: 5, 10.32: 5, 10.33: 2, 10.34: 81, 10.36: 3, 10.37: 3, 10.38: 2, 10.39: 8, 10.4: 6, 10.41: 2, 10.42: 23, 10.43: 1, 10.45: 3, 10.47: 8, 10.48: 2, 10.49: 3, 10.51: 2, 10.52: 1, 10.53: 236, 10.54: 2, 10.55: 2, 10.56: 6, 10.57: 2, 10.58: 7, 10.59: 5, 10.6: 2, 10.61: 16, 10.62: 8, 10.63: 1, 10.64: 29, 10.65: 2, 10.66: 2, 10.67: 9, 10.68: 7, 10.69: 1, 10.7: 2, 10.71: 103, 10.72: 1, 10.73: 1, 10.74: 4, 10.75: 5, 10.76: 3, 10.77: 18, 10.78: 4, 10.79: 4, 10.8: 4, 10.81: 50, 10.83: 3, 10.84: 9, 10.85: 4, 10.87: 32, 10.88: 3, 10.89: 8, 10.9: 2, 10.91: 17, 10.92: 2, 10.93: 1, 10.94: 19, 10.95: 3, 10.96: 7, 10.97: 1, 10.98: 7, 10.99: 8, 11.0: 7, 11.01: 3, 11.02: 6, 11.03: 2, 11.04: 1, 11.05: 3, 11.06: 2, 11.08: 3, 11.09: 2, 11.1: 2, 11.11: 1293, 11.12: 1, 11.13: 1, 11.14: 2, 11.15: 4, 11.16: 1, 11.17: 3, 11.18: 6, 11.19: 7, 11.2: 2, 11.21: 12, 11.22: 5, 11.23: 3, 11.24: 6, 11.25: 5, 11.26: 4, 11.27: 9, 11.28: 7, 11.29: 10, 11.3: 4, 11.31: 1, 11.32: 23, 11.33: 4, 11.34: 5, 11.35: 6, 11.36: 34, 11.37: 2, 11.38: 4, 11.39: 9, 11.4: 6, 11.41: 3, 11.43: 52, 11.44: 2, 11.45: 4, 11.46: 6, 11.47: 1, 11.48: 18, 11.49: 8, 11.5: 4, 11.51: 1, 11.52: 8, 11.54: 133, 11.56: 1, 11.57: 3, 11.58: 6, 11.59: 11, 11.6: 1, 11.61: 6, 11.62: 1, 11.63: 26, 11.64: 4, 11.65: 3, 11.66: 3, 11.67: 10, 11.68: 2, 11.69: 10, 11.7: 7, 11.71: 4, 11.72: 5, 11.73: 3, 11.74: 1, 11.76: 302, 11.77: 1, 11.78: 4, 11.79: 5, 11.8: 3, 11.81: 1, 11.82: 4, 11.83: 6, 11.84: 12, 11.85: 1, 11.86: 27, 11.87: 1, 11.88: 2, 11.89: 2, 11.9: 29, 11.91: 2, 11.92: 5, 11.93: 10, 11.94: 12, 11.95: 1, 11.96: 7, 11.97: 4, 11.98: 4, 11.99: 1, 12.0: 129, 12.01: 2, 12.02: 3, 12.03: 7, 12.04: 3, 12.05: 7, 12.06: 6, 12.07: 14, 12.08: 5, 12.09: 8, 12.1: 5, 12.11: 2, 12.12: 72, 12.13: 1, 12.14: 1, 12.15: 6, 12.16: 13, 12.17: 2, 12.18: 3, 12.19: 1, 12.2: 41, 12.21: 5, 12.22: 9, 12.23: 5, 12.24: 28, 12.25: 1, 12.26: 4, 12.27: 3, 12.28: 24, 12.3: 3, 12.31: 20, 12.32: 3, 12.33: 8, 12.34: 3, 12.35: 4, 12.36: 7, 12.37: 5, 12.38: 7, 12.39: 3, 12.4: 7, 12.41: 3, 12.42: 4, 12.43: 2, 12.44: 2, 12.45: 3, 12.46: 1, 12.47: 1, 12.48: 1, 12.5: 1693, 12.51: 1, 12.52: 2, 12.53: 2, 12.54: 1, 12.55: 5, 12.56: 2, 12.57: 4, 12.58: 5, 12.59: 1, 12.6: 4, 12.61: 9, 12.62: 6, 12.63: 6, 12.64: 6, 12.65: 5, 12.66: 11, 12.67: 1, 12.68: 16, 12.69: 7, 12.7: 21, 12.71: 5, 12.72: 1, 12.73: 14, 12.74: 2, 12.75: 3, 12.77: 28, 12.78: 6, 12.79: 5, 12.8: 7, 12.81: 3, 12.82: 62, 12.83: 1, 12.84: 9, 12.85: 2, 12.86: 13, 12.87: 6, 12.88: 4, 12.89: 4, 12.9: 83, 12.91: 2, 12.92: 1, 12.93: 7, 12.94: 8, 12.95: 3, 12.96: 16, 12.97: 3, 12.98: 3, 12.99: 12, 13.0: 2, 13.01: 5, 13.02: 3, 13.03: 1, 13.04: 167, 13.06: 2, 13.07: 6, 13.08: 6, 13.09: 1, 13.1: 6, 13.11: 11, 13.12: 2, 13.13: 6, 13.14: 6, 13.15: 3, 13.16: 51, 13.17: 7, 13.18: 4, 13.19: 4, 13.2: 1, 13.21: 21, 13.22: 2, 13.23: 1, 13.24: 8, 13.25: 11, 13.26: 2, 13.27: 15, 13.28: 3, 13.29: 5, 13.3: 8, 13.31: 2, 13.32: 2, 13.33: 484, 13.35: 1, 13.36: 3, 13.37: 1, 13.38: 1, 13.39: 4, 13.4: 3, 13.41: 11, 13.42: 1, 13.43: 15, 13.44: 1, 13.45: 4, 13.46: 29, 13.47: 3, 13.48: 12, 13.49: 4, 13.5: 5, 13.51: 52, 13.52: 1, 13.53: 5, 13.54: 4, 13.55: 5, 13.56: 17, 13.57: 2, 13.58: 5, 13.59: 6, 13.6: 4, 13.61: 4, 13.62: 4, 13.64: 183, 13.65: 2, 13.66: 4, 13.67: 5, 13.68: 7, 13.69: 5, 13.7: 19, 13.71: 5, 13.72: 2, 13.73: 16, 13.74: 7, 13.75: 8, 13.76: 5, 13.77: 6, 13.78: 1, 13.79: 78, 13.8: 1, 13.81: 6, 13.82: 4, 13.83: 4, 13.84: 2, 13.85: 18, 13.86: 4, 13.87: 4, 13.88: 1, 13.89: 60, 13.9: 2, 13.91: 8, 13.92: 9, 13.93: 1, 13.94: 3, 13.95: 41, 13.96: 2, 13.97: 3, 13.98: 5, 13.99: 4, 14.0: 34, 14.01: 2, 14.02: 10, 14.03: 1, 14.04: 31, 14.05: 7, 14.06: 18, 14.07: 3, 14.08: 10, 14.09: 4, 14.1: 6, 14.11: 5, 14.12: 14, 14.13: 7, 14.14: 7, 14.15: 6, 14.16: 5, 14.17: 5, 14.18: 6, 14.19: 7, 14.2: 5, 14.21: 3, 14.22: 2, 14.23: 3, 14.24: 2, 14.25: 5, 14.26: 1, 14.29: 2283, 14.3: 1, 14.33: 2, 14.34: 6, 14.36: 5, 14.37: 2, 14.38: 7, 14.39: 4, 14.4: 4, 14.41: 7, 14.42: 7, 14.43: 4, 14.44: 12, 14.45: 5, 14.46: 8, 14.47: 16, 14.48: 3, 14.49: 11, 14.5: 4, 14.51: 4, 14.52: 21, 14.53: 8, 14.54: 1, 14.55: 18, 14.56: 6, 14.57: 3, 14.58: 32, 14.59: 4, 14.6: 3, 14.61: 9, 14.62: 3, 14.63: 44, 14.64: 4, 14.65: 1, 14.66: 4, 14.67: 8, 14.68: 9, 14.69: 4, 14.7: 1, 14.71: 65, 14.72: 5, 14.73: 1, 14.74: 4, 14.75: 28, 14.76: 2, 14.77: 6, 14.78: 3, 14.79: 7, 14.8: 1, 14.81: 122, 14.83: 1, 14.84: 5, 14.85: 8, 14.86: 14, 14.87: 2, 14.88: 5, 14.89: 23, 14.9: 2, 14.91: 9, 14.92: 1, 14.93: 24, 14.94: 7, 14.95: 5, 14.96: 2, 14.97: 4, 14.98: 3, 14.99: 3, 15.0: 212, 15.01: 1, 15.02: 7, 15.03: 3, 15.04: 2, 15.05: 6, 15.06: 4, 15.07: 13, 15.08: 7, 15.09: 26, 15.1: 1, 15.12: 3, 15.13: 8, 15.14: 4, 15.15: 68, 15.16: 1, 15.17: 3, 15.18: 9, 15.19: 10, 15.2: 3, 15.21: 1, 15.22: 36, 15.23: 5, 15.24: 3, 15.25: 19, 15.26: 3, 15.27: 3, 15.28: 14, 15.29: 4, 15.31: 5, 15.32: 5, 15.33: 11, 15.34: 5, 15.35: 3, 15.36: 4, 15.37: 1, 15.38: 635, 15.41: 2, 15.42: 2, 15.43: 4, 15.44: 1, 15.45: 7, 15.46: 2, 15.47: 3, 15.48: 10, 15.49: 14, 15.5: 7, 15.51: 4, 15.52: 19, 15.53: 9, 15.54: 3, 15.56: 42, 15.57: 4, 15.58: 12, 15.59: 2, 15.6: 8, 15.61: 1, 15.62: 96, 15.63: 2, 15.64: 3, 15.65: 9, 15.66: 11, 15.67: 4, 15.68: 4, 15.69: 27, 15.7: 9, 15.71: 10, 15.72: 7, 15.73: 11, 15.74: 5, 15.75: 11, 15.76: 2, 15.77: 4, 15.78: 1, 15.79: 276, 15.8: 3, 15.81: 1, 15.82: 4, 15.83: 8, 15.84: 4, 15.85: 14, 15.86: 4, 15.87: 20, 15.88: 6, 15.89: 6, 15.9: 3, 15.91: 43, 15.92: 3, 15.93: 3, 15.94: 24, 15.95: 3, 15.96: 5, 15.97: 8, 15.98: 4, 15.99: 2, 16.0: 133, 16.01: 2, 16.02: 4, 16.03: 4, 16.04: 4, 16.05: 11, 16.06: 5, 16.07: 21, 16.08: 6, 16.09: 9, 16.1: 2, 16.11: 4, 16.12: 1, 16.13: 79, 16.14: 4, 16.15: 6, 16.16: 1, 16.17: 4, 16.18: 16, 16.19: 5, 16.2: 2, 16.21: 1, 16.22: 75, 16.23: 4, 16.24: 6, 16.25: 11, 16.26: 3, 16.27: 3, 16.28: 34, 16.29: 2, 16.3: 4, 16.31: 3, 16.33: 33, 16.34: 7, 16.35: 8, 16.36: 19, 16.37: 4, 16.38: 7, 16.39: 22, 16.4: 6, 16.41: 2, 16.42: 21, 16.43: 6, 16.44: 13, 16.45: 4, 16.46: 19, 16.47: 4, 16.48: 6, 16.49: 9, 16.5: 7, 16.51: 6, 16.52: 3, 16.53: 5, 16.54: 6, 16.55: 3, 16.56: 6, 16.57: 8, 16.58: 6, 16.59: 1, 16.6: 3, 16.63: 3, 16.64: 2, 16.67: 3206, 16.71: 2, 16.72: 4, 16.73: 3, 16.74: 2, 16.75: 2, 16.76: 5, 16.77: 6, 16.78: 7, 16.79: 7, 16.8: 4, 16.81: 7, 16.82: 8, 16.83: 5, 16.84: 3, 16.85: 9, 16.86: 1, 16.87: 6, 16.88: 13, 16.89: 4, 16.9: 15, 16.91: 3, 16.92: 16, 16.93: 1, 16.94: 3, 16.95: 16, 16.96: 5, 16.97: 3, 16.98: 27, 16.99: 5, 17.0: 12, 17.01: 3, 17.02: 44, 17.03: 4, 17.04: 3, 17.05: 9, 17.06: 1, 17.07: 44, 17.08: 2, 17.09: 3, 17.1: 2, 17.11: 14, 17.12: 7, 17.13: 2, 17.14: 65, 17.15: 3, 17.16: 3, 17.17: 6, 17.18: 6, 17.19: 18, 17.2: 8, 17.21: 4, 17.22: 6, 17.23: 2, 17.24: 108, 17.25: 5, 17.26: 6, 17.27: 6, 17.28: 17, 17.29: 7, 17.3: 1, 17.31: 27, 17.32: 5, 17.33: 10, 17.34: 4, 17.35: 10, 17.36: 5, 17.37: 6, 17.39: 179, 17.4: 2, 17.41: 4, 17.42: 6, 17.43: 4, 17.44: 11, 17.45: 6, 17.46: 13, 17.47: 3, 17.48: 5, 17.49: 3, 17.5: 41, 17.51: 4, 17.52: 4, 17.53: 6, 17.54: 20, 17.55: 2, 17.56: 6, 17.57: 14, 17.58: 18, 17.59: 9, 17.6: 3, 17.61: 5, 17.62: 3, 17.63: 1, 17.64: 1, 17.65: 358, 17.66: 2, 17.68: 8, 17.69: 6, 17.7: 7, 17.71: 13, 17.72: 11, 17.73: 5, 17.74: 12, 17.75: 1, 17.76: 6, 17.77: 3, 17.78: 37, 17.79: 5, 17.8: 7, 17.81: 10, 17.82: 9, 17.84: 5, 17.85: 1, 17.86: 101, 17.87: 3, 17.88: 5, 17.89: 14, 17.9: 1, 17.91: 5, 17.92: 11, 17.93: 3, 17.94: 2, 17.95: 57, 17.96: 1, 17.97: 3, 17.98: 7, 17.99: 5, 18.0: 38, 18.01: 8, 18.02: 7, 18.03: 20, 18.04: 4, 18.05: 3, 18.06: 14, 18.07: 6, 18.08: 6, 18.09: 5, 18.1: 9, 18.11: 4, 18.12: 3, 18.13: 3, 18.14: 4, 18.15: 4, 18.16: 1, 18.17: 1, 18.18: 905, 18.19: 1, 18.2: 2, 18.21: 1, 18.22: 4, 18.23: 5, 18.24: 5, 18.25: 6, 18.26: 10, 18.27: 4, 18.28: 10, 18.29: 7, 18.3: 2, 18.31: 9, 18.32: 6, 18.33: 20, 18.34: 5, 18.35: 4, 18.36: 2, 18.37: 33, 18.38: 4, 18.39: 10, 18.4: 2, 18.41: 1, 18.42: 58, 18.43: 3, 18.44: 3, 18.45: 7, 18.46: 15, 18.47: 6, 18.48: 6, 18.49: 7, 18.5: 2, 18.51: 1, 18.52: 112, 18.55: 4, 18.56: 14, 18.57: 22, 18.58: 4, 18.6: 50, 18.61: 1, 18.62: 4, 18.63: 8, 18.64: 16, 18.65: 1, 18.66: 8, 18.67: 13, 18.68: 10, 18.69: 8, 18.7: 3, 18.71: 5, 18.72: 3, 18.73: 3, 18.74: 1, 18.75: 386, 18.76: 2, 18.77: 4, 18.78: 2, 18.79: 8, 18.8: 5, 18.81: 6, 18.82: 7, 18.83: 4, 18.84: 18, 18.85: 4, 18.86: 2, 18.87: 29, 18.88: 4, 18.89: 6, 18.9: 10, 18.91: 5, 18.92: 55, 18.93: 5, 18.94: 5, 18.95: 9, 18.96: 2, 18.97: 20, 18.98: 4, 18.99: 10, 19.0: 5, 19.01: 5, 19.02: 4, 19.03: 3, 19.05: 210, 19.06: 2, 19.07: 2, 19.08: 5, 19.09: 6, 19.1: 13, 19.11: 6, 19.12: 15, 19.13: 8, 19.14: 5, 19.15: 32, 19.16: 3, 19.17: 3, 19.18: 10, 19.19: 9, 19.2: 6, 19.21: 4, 19.22: 2, 19.23: 145, 19.24: 4, 19.25: 7, 19.26: 4, 19.27: 7, 19.28: 11, 19.29: 6, 19.3: 19, 19.31: 3, 19.32: 8, 19.33: 2, 19.34: 4, 19.35: 75, 19.37: 3, 19.38: 9, 19.39: 5, 19.4: 16, 19.41: 3, 19.42: 7, 19.43: 3, 19.44: 63, 19.45: 1, 19.46: 3, 19.47: 4, 19.48: 13, 19.49: 6, 19.5: 5, 19.51: 40, 19.52: 1, 19.53: 9, 19.54: 8, 19.55: 6, 19.56: 2, 19.57: 37, 19.58: 12, 19.59: 7, 19.6: 3, 19.61: 27, 19.62: 7, 19.63: 6, 19.64: 16, 19.65: 3, 19.66: 4, 19.67: 19, 19.68: 5, 19.69: 3, 19.7: 11, 19.71: 5, 19.72: 11, 19.73: 4, 19.74: 6, 19.75: 8, 19.76: 3, 19.77: 5, 19.78: 9, 19.79: 7, 19.8: 6, 19.81: 11, 19.82: 5, 19.83: 5, 19.84: 6, 19.85: 10, 19.86: 8, 19.87: 4, 19.88: 3, 19.89: 4, 19.9: 5, 19.91: 8, 19.92: 8, 19.93: 1, 19.94: 2, 19.95: 4, 19.96: 2, 19.98: 1, 20.0: 4600, 20.02: 2, 20.04: 2, 20.05: 4, 20.06: 2, 20.07: 2, 20.09: 3, 20.1: 3, 20.11: 6, 20.12: 1, 20.13: 5, 20.14: 4, 20.15: 3, 20.16: 4, 20.17: 3, 20.18: 7, 20.19: 7, 20.2: 9, 20.21: 10, 20.22: 7, 20.23: 5, 20.24: 11, 20.25: 23, 20.26: 1, 20.27: 14, 20.28: 7, 20.29: 17, 20.3: 3, 20.31: 13, 20.32: 3, 20.33: 8, 20.34: 11, 20.35: 4, 20.36: 1, 20.37: 22, 20.38: 6, 20.39: 14, 20.4: 2, 20.41: 25, 20.42: 3, 20.43: 6, 20.44: 3, 20.45: 30, 20.46: 1, 20.47: 10, 20.48: 5, 20.49: 3, 20.5: 4, 20.51: 53, 20.52: 4, 20.53: 2, 20.54: 7, 20.55: 8, 20.56: 5, 20.57: 7, 20.58: 1, 20.59: 73, 20.6: 7, 20.61: 7, 20.62: 8, 20.63: 13, 20.64: 2, 20.65: 8, 20.66: 3, 20.67: 4, 20.68: 1, 20.69: 103, 20.7: 2, 20.71: 6, 20.72: 5, 20.73: 16, 20.74: 3, 20.75: 24, 20.76: 1, 20.77: 3, 20.78: 10, 20.79: 8, 20.8: 2, 20.81: 4, 20.82: 6, 20.83: 153, 20.84: 1, 20.85: 2, 20.86: 8, 20.87: 4, 20.88: 7, 20.9: 27, 20.91: 3, 20.92: 2, 20.93: 47, 20.94: 1, 20.95: 3, 20.96: 3, 20.97: 23, 20.98: 4, 20.99: 11, 21.0: 11, 21.01: 7, 21.02: 4, 21.03: 3, 21.04: 2, 21.05: 288, 21.06: 1, 21.07: 2, 21.08: 3, 21.09: 7, 21.1: 3, 21.11: 5, 21.12: 3, 21.13: 21, 21.14: 8, 21.15: 20, 21.16: 2, 21.17: 4, 21.18: 16, 21.19: 4, 21.2: 1, 21.21: 64, 21.22: 1, 21.23: 7, 21.24: 3, 21.25: 5, 21.26: 11, 21.27: 1, 21.28: 21, 21.29: 5, 21.3: 8, 21.31: 21, 21.32: 2, 21.33: 11, 21.34: 6, 21.35: 4, 21.36: 7, 21.37: 7, 21.38: 5, 21.39: 5, 21.4: 4, 21.41: 3, 21.43: 502, 21.44: 3, 21.45: 1, 21.46: 5, 21.47: 7, 21.48: 6, 21.49: 2, 21.5: 3, 21.51: 8, 21.52: 12, 21.53: 1, 21.54: 22, 21.55: 6, 21.56: 2, 21.57: 18, 21.58: 2, 21.59: 9, 21.6: 1, 21.61: 1, 21.62: 65, 21.63: 5, 21.64: 5, 21.65: 7, 21.66: 2, 21.67: 13, 21.68: 2, 21.69: 14, 21.7: 6, 21.71: 3, 21.72: 6, 21.73: 1, 21.74: 164, 21.76: 5, 21.77: 3, 21.78: 3, 21.79: 13, 21.8: 2, 21.81: 1, 21.82: 19, 21.84: 10, 21.85: 6, 21.86: 3, 21.87: 2, 21.88: 91, 21.89: 1, 21.9: 7, 21.91: 2, 21.92: 8, 21.93: 4, 21.94: 8, 21.95: 41, 21.96: 2, 21.97: 5, 21.98: 9, 21.99: 8, 22.0: 28, 22.01: 7, 22.02: 7, 22.03: 14, 22.04: 3, 22.05: 4, 22.06: 8, 22.07: 3, 22.08: 10, 22.09: 7, 22.1: 5, 22.11: 12, 22.12: 6, 22.14: 5, 22.15: 8, 22.16: 8, 22.17: 4, 22.18: 1, 22.19: 1, 22.21: 1, 22.22: 1391, 22.24: 2, 22.26: 3, 22.27: 6, 22.28: 4, 22.29: 6, 22.3: 4, 22.31: 4, 22.32: 7, 22.33: 4, 22.34: 9, 22.35: 9, 22.36: 2, 22.37: 9, 22.38: 6, 22.39: 15, 22.4: 5, 22.41: 17, 22.42: 3, 22.43: 5, 22.44: 2, 22.45: 26, 22.46: 4, 22.47: 7, 22.48: 3, 22.5: 46, 22.51: 4, 22.52: 7, 22.53: 4, 22.54: 11, 22.55: 9, 22.56: 4, 22.57: 4, 22.58: 93, 22.6: 6, 22.61: 3, 22.62: 12, 22.63: 3, 22.64: 23, 22.65: 2, 22.66: 5, 22.67: 16, 22.68: 3, 22.69: 2, 22.7: 2, 22.71: 3, 22.72: 1, 22.73: 193, 22.74: 1, 22.75: 4, 22.76: 4, 22.77: 8, 22.78: 8, 22.79: 1, 22.8: 3, 22.81: 15, 22.82: 4, 22.83: 8, 22.84: 2, 22.86: 55, 22.87: 5, 22.88: 5, 22.89: 10, 22.9: 4, 22.91: 4, 22.92: 35, 22.93: 1, 22.94: 7, 22.95: 16, 22.96: 2, 22.97: 20, 22.98: 5, 22.99: 11, 23.0: 5, 23.01: 4, 23.02: 5, 23.03: 2, 23.04: 6, 23.06: 1, 23.07: 1, 23.08: 609, 23.09: 3, 23.1: 2, 23.11: 3, 23.12: 5, 23.13: 5, 23.14: 4, 23.15: 6, 23.16: 10, 23.17: 14, 23.18: 3, 23.19: 13, 23.2: 10, 23.21: 23, 23.22: 2, 23.23: 6, 23.24: 2, 23.25: 2, 23.26: 50, 23.27: 4, 23.28: 2, 23.29: 14, 23.3: 10, 23.31: 9, 23.32: 2, 23.33: 81, 23.34: 1, 23.36: 11, 23.37: 3, 23.38: 10, 23.39: 4, 23.4: 36, 23.41: 1, 23.42: 4, 23.43: 2, 23.44: 15, 23.45: 3, 23.46: 11, 23.47: 5, 23.48: 3, 23.49: 3, 23.5: 4, 23.53: 337, 23.55: 4, 23.56: 3, 23.57: 7, 23.58: 12, 23.59: 3, 23.6: 6, 23.61: 16, 23.62: 4, 23.63: 1, 23.64: 14, 23.65: 3, 23.66: 8, 23.67: 2, 23.68: 44, 23.69: 1, 23.7: 8, 23.71: 7, 23.72: 2, 23.73: 16, 23.74: 3, 23.75: 5, 23.76: 3, 23.77: 6, 23.78: 4, 23.79: 2, 23.8: 5, 23.81: 202, 23.82: 2, 23.83: 2, 23.84: 4, 23.85: 8, 23.86: 10, 23.87: 3, 23.88: 17, 23.89: 3, 23.9: 2, 23.91: 35, 23.92: 2, 23.93: 8, 23.94: 11, 23.95: 4, 23.96: 8, 23.97: 7, 23.98: 5, 23.99: 1, 24.0: 123, 24.01: 1, 24.02: 5, 24.03: 6, 24.04: 2, 24.05: 12, 24.06: 5, 24.07: 23, 24.08: 3, 24.09: 4, 24.1: 12, 24.11: 7, 24.12: 3, 24.13: 1, 24.14: 102, 24.15: 1, 24.16: 2, 24.17: 7, 24.18: 12, 24.19: 15, 24.2: 2, 24.21: 14, 24.22: 5, 24.23: 4, 24.24: 75, 24.25: 1, 24.26: 6, 24.27: 10, 24.28: 4, 24.29: 17, 24.3: 10, 24.31: 3, 24.32: 62, 24.33: 2, 24.35: 4, 24.36: 7, 24.37: 8, 24.38: 3, 24.39: 49, 24.4: 4, 24.41: 7, 24.42: 5, 24.43: 2, 24.44: 33, 24.45: 2, 24.46: 3, 24.47: 11, 24.48: 1, 24.49: 29, 24.5: 6, 24.51: 2, 24.52: 1, 24.53: 19, 24.54: 6, 24.55: 6, 24.56: 23, 24.57: 3, 24.58: 7, 24.59: 20, 24.6: 2, 24.61: 3, 24.62: 11, 24.63: 4, 24.64: 8, 24.65: 2, 24.66: 15, 24.67: 3, 24.68: 16, 24.69: 7, 24.7: 2, 24.71: 9, 24.72: 7, 24.73: 10, 24.74: 3, 24.75: 3, 24.76: 3, 24.77: 5, 24.78: 5, 24.79: 2, 24.8: 2, 24.81: 5, 24.82: 6, 24.83: 3, 24.84: 4, 24.85: 2, 24.86: 2, 24.87: 2, 24.88: 5, 24.89: 3, 24.9: 2, 24.91: 2, 24.92: 5, 24.93: 3, 24.94: 1, 24.97: 2, 24.99: 1, 25.0: 6918, 25.02: 1, 25.04: 3, 25.05: 2, 25.06: 1, 25.07: 2, 25.08: 3, 25.09: 2, 25.1: 4, 25.11: 3, 25.12: 3, 25.13: 5, 25.14: 2, 25.15: 1, 25.16: 4, 25.17: 2, 25.18: 2, 25.19: 6, 25.2: 9, 25.21: 1, 25.22: 2, 25.23: 5, 25.24: 6, 25.25: 10, 25.26: 8, 25.27: 9, 25.28: 4, 25.29: 9, 25.3: 5, 25.31: 2, 25.32: 11, 25.33: 9, 25.34: 3, 25.35: 9, 25.36: 4, 25.37: 11, 25.38: 6, 25.4: 16, 25.41: 8, 25.42: 20, 25.43: 6, 25.44: 8, 25.45: 23, 25.46: 1, 25.47: 4, 25.48: 2, 25.49: 25, 25.5: 6, 25.51: 6, 25.52: 6, 25.53: 28, 25.54: 3, 25.55: 3, 25.56: 6, 25.57: 5, 25.58: 39, 25.6: 2, 25.61: 13, 25.62: 10, 25.63: 3, 25.64: 53, 25.65: 2, 25.66: 7, 25.67: 1, 25.68: 14, 25.69: 8, 25.7: 2, 25.71: 59, 25.72: 1, 25.73: 1, 25.74: 3, 25.75: 2, 25.76: 12, 25.77: 16, 25.78: 3, 25.79: 6, 25.8: 1, 25.81: 78, 25.82: 5, 25.83: 3, 25.84: 8, 25.85: 4, 25.86: 27, 25.87: 2, 25.88: 7, 25.89: 5, 25.9: 5, 25.91: 3, 25.92: 1, 25.93: 102, 25.94: 4, 25.95: 4, 25.96: 3, 25.97: 8, 25.98: 1, 25.99: 1, 26.0: 26, 26.01: 1, 26.02: 5, 26.03: 10, 26.04: 8, 26.05: 4, 26.06: 3, 26.07: 1, 26.08: 1, 26.09: 186, 26.1: 3, 26.11: 6, 26.12: 5, 26.13: 4, 26.14: 4, 26.15: 12, 26.16: 2, 26.17: 9, 26.18: 1, 26.19: 34, 26.2: 2, 26.21: 3, 26.22: 3, 26.23: 17, 26.24: 2, 26.25: 7, 26.26: 5, 26.27: 8, 26.28: 5, 26.29: 5, 26.31: 1, 26.32: 244, 26.33: 1, 26.34: 2, 26.35: 2, 26.36: 6, 26.37: 6, 26.38: 1, 26.39: 9, 26.4: 6, 26.41: 2, 26.42: 25, 26.43: 1, 26.44: 8, 26.45: 3, 26.46: 1, 26.47: 70, 26.48: 1, 26.49: 6, 26.5: 4, 26.51: 12, 26.52: 2, 26.53: 25, 26.54: 2, 26.55: 5, 26.56: 20, 26.57: 4, 26.58: 6, 26.6: 3, 26.61: 6, 26.62: 6, 26.63: 4, 26.64: 2, 26.67: 422, 26.68: 2, 26.69: 3, 26.7: 2, 26.71: 5, 26.72: 4, 26.73: 5, 26.74: 6, 26.75: 3, 26.76: 10, 26.77: 2, 26.78: 4, 26.79: 21, 26.8: 9, 26.81: 6, 26.82: 5, 26.83: 42, 26.84: 6, 26.85: 12, 26.86: 5, 26.87: 17, 26.88: 7, 26.89: 8, 26.9: 2, 26.91: 3, 26.92: 103, 26.93: 2, 26.94: 4, 26.95: 2, 26.96: 5, 26.97: 5, 26.98: 27, 26.99: 4, 27.0: 6, 27.01: 4, 27.02: 1, 27.03: 57, 27.04: 3, 27.05: 5, 27.06: 3, 27.07: 1, 27.08: 29, 27.1: 5, 27.11: 1, 27.12: 16, 27.13: 2, 27.14: 9, 27.15: 1, 27.16: 7, 27.17: 4, 27.18: 1, 27.19: 4, 27.2: 6, 27.21: 4, 27.23: 4, 27.24: 2, 27.25: 1, 27.26: 1, 27.27: 840, 27.3: 3, 27.31: 3, 27.32: 2, 27.33: 3, 27.34: 2, 27.35: 6, 27.36: 3, 27.37: 7, 27.38: 6, 27.39: 3, 27.4: 10, 27.41: 5, 27.42: 21, 27.43: 8, 27.44: 2, 27.45: 23, 27.46: 2, 27.47: 6, 27.48: 5, 27.49: 2, 27.5: 53, 27.51: 1, 27.52: 4, 27.53: 2, 27.54: 16, 27.55: 4, 27.56: 2, 27.57: 1, 27.59: 89, 27.6: 4, 27.61: 3, 27.62: 4, 27.63: 14, 27.64: 2, 27.65: 2, 27.66: 35, 27.67: 6, 27.68: 2, 27.69: 7, 27.7: 2, 27.71: 9, 27.72: 4, 27.73: 3, 27.74: 6, 27.75: 5, 27.76: 3, 27.77: 1, 27.78: 260, 27.79: 2, 27.8: 5, 27.81: 6, 27.82: 5, 27.83: 7, 27.84: 2, 27.85: 4, 27.86: 5, 27.87: 11, 27.88: 4, 27.89: 2, 27.9: 2, 27.91: 29, 27.92: 6, 27.93: 3, 27.94: 17, 27.95: 5, 27.96: 5, 27.97: 6, 27.98: 3, 27.99: 4, 28.0: 122, 28.01: 1, 28.03: 6, 28.04: 4, 28.05: 9, 28.06: 5, 28.07: 26, 28.08: 4, 28.09: 5, 28.1: 4, 28.11: 5, 28.12: 55, 28.13: 1, 28.14: 7, 28.15: 2, 28.16: 7, 28.17: 7, 28.18: 6, 28.19: 2, 28.21: 45, 28.22: 3, 28.24: 11, 28.25: 3, 28.26: 25, 28.28: 3, 28.29: 4, 28.3: 13, 28.31: 1, 28.32: 3, 28.33: 20, 28.34: 1, 28.35: 4, 28.36: 8, 28.37: 6, 28.38: 18, 28.39: 2, 28.4: 7, 28.41: 9, 28.42: 7, 28.43: 2, 28.44: 2, 28.45: 3, 28.46: 10, 28.47: 2, 28.48: 7, 28.49: 4, 28.5: 1, 28.51: 3, 28.52: 2, 28.54: 1, 28.57: 2102, 28.58: 1, 28.61: 2, 28.62: 3, 28.64: 2, 28.65: 1, 28.66: 2, 28.67: 3, 28.68: 6, 28.69: 4, 28.7: 8, 28.71: 2, 28.72: 5, 28.73: 3, 28.74: 5, 28.75: 9, 28.76: 6, 28.77: 11, 28.78: 3, 28.79: 19, 28.8: 3, 28.81: 10, 28.82: 2, 28.83: 3, 28.85: 15, 28.86: 2, 28.87: 7, 28.88: 2, 28.89: 32, 28.9: 4, 28.91: 6, 28.92: 5, 28.93: 4, 28.95: 48, 28.96: 2, 28.97: 4, 28.98: 1, 28.99: 6, 29.0: 9, 29.01: 3, 29.02: 2, 29.03: 72, 29.05: 1, 29.06: 1, 29.07: 7, 29.08: 2, 29.09: 20, 29.1: 3, 29.11: 8, 29.12: 1, 29.13: 9, 29.14: 2, 29.15: 4, 29.16: 1, 29.17: 139, 29.18: 4, 29.19: 3, 29.2: 4, 29.21: 8, 29.22: 6, 29.23: 11, 29.24: 2, 29.25: 5, 29.26: 3, 29.27: 34, 29.28: 2, 29.29: 8, 29.3: 1, 29.31: 9, 29.32: 5, 29.33: 6, 29.35: 11, 29.36: 7, 29.37: 1, 29.38: 5, 29.39: 3, 29.41: 323, 29.44: 1, 29.45: 1, 29.46: 5, 29.47: 11, 29.48: 1, 29.49: 10, 29.5: 2, 29.51: 21, 29.52: 4, 29.53: 3, 29.54: 1, 29.55: 33, 29.56: 1, 29.57: 8, 29.58: 12, 29.59: 3, 29.6: 3, 29.61: 1, 29.62: 2, 29.63: 119, 29.64: 2, 29.65: 8, 29.66: 3, 29.67: 6, 29.68: 2, 29.69: 24, 29.7: 4, 29.71: 1, 29.72: 1, 29.73: 55, 29.74: 4, 29.75: 6, 29.76: 5, 29.77: 2, 29.78: 2, 29.79: 21, 29.8: 2, 29.81: 5, 29.82: 20, 29.83: 3, 29.84: 4, 29.85: 12, 29.86: 1, 29.87: 11, 29.88: 4, 29.89: 5, 29.9: 4, 29.91: 5, 29.93: 5, 29.94: 7, 29.95: 1, 29.96: 1, 29.97: 1, 29.98: 1, 29.99: 3, 30.0: 1016, 30.02: 1, 30.03: 1, 30.04: 1, 30.05: 4, 30.06: 3, 30.07: 1, 30.08: 1, 30.09: 4, 30.1: 9, 30.11: 7, 30.12: 8, 30.13: 2, 30.14: 15, 30.15: 2, 30.16: 11, 30.17: 2, 30.18: 2, 30.19: 17, 30.2: 1, 30.21: 3, 30.22: 3, 30.23: 38, 30.25: 7, 30.26: 5, 30.28: 6, 30.29: 1, 30.3: 62, 30.32: 3, 30.33: 5, 30.34: 5, 30.35: 3, 30.36: 18, 30.37: 1, 30.38: 7, 30.39: 1, 30.4: 2, 30.41: 5, 30.43: 152, 30.44: 2, 30.45: 2, 30.46: 2, 30.47: 3, 30.48: 5, 30.49: 10, 30.5: 5, 30.51: 12, 30.52: 1, 30.53: 4, 30.55: 2, 30.56: 58, 30.57: 3, 30.58: 4, 30.59: 6, 30.6: 2, 30.61: 23, 30.62: 2, 30.63: 2, 30.64: 1, 30.65: 14, 30.66: 1, 30.67: 10, 30.68: 1, 30.69: 3, 30.7: 4, 30.71: 4, 30.72: 4, 30.74: 1, 30.75: 2, 30.77: 598, 30.78: 2, 30.79: 1, 30.81: 3, 30.82: 4, 30.83: 3, 30.84: 2, 30.85: 4, 30.86: 5, 30.87: 3, 30.88: 5, 30.89: 1, 30.9: 2, 30.91: 20, 30.92: 3, 30.93: 4, 30.94: 2, 30.95: 35, 30.96: 1, 30.97: 5, 30.98: 1, 30.99: 10, 31.0: 3, 31.01: 6, 31.02: 2, 31.03: 101, 31.06: 3, 31.07: 4, 31.08: 4, 31.09: 2, 31.1: 2, 31.11: 22, 31.12: 3, 31.13: 3, 31.14: 3, 31.15: 11, 31.16: 3, 31.17: 7, 31.18: 5, 31.19: 4, 31.2: 5, 31.21: 3, 31.22: 2, 31.23: 2, 31.25: 315, 31.26: 1, 31.27: 1, 31.28: 2, 31.29: 4, 31.3: 8, 31.31: 3, 31.32: 2, 31.33: 4, 31.34: 15, 31.36: 2, 31.37: 16, 31.38: 2, 31.39: 2, 31.4: 10, 31.41: 3, 31.42: 1, 31.43: 53, 31.44: 1, 31.45: 5, 31.46: 2, 31.47: 9, 31.48: 16, 31.49: 1, 31.5: 3, 31.51: 7, 31.52: 2, 31.53: 4, 31.54: 7, 31.55: 1, 31.56: 2, 31.57: 1, 31.58: 254, 31.59: 3, 31.6: 1, 31.61: 5, 31.63: 2, 31.64: 4, 31.65: 6, 31.67: 18, 31.68: 5, 31.69: 2, 31.7: 3, 31.71: 50, 31.72: 4, 31.73: 4, 31.74: 4, 31.75: 6, 31.76: 3, 31.78: 3, 31.79: 3, 31.8: 2, 31.81: 2, 31.82: 154, 31.83: 1, 31.84: 2, 31.85: 3, 31.86: 6, 31.87: 7, 31.88: 5, 31.89: 6, 31.9: 5, 31.91: 24, 31.92: 2, 31.93: 3, 31.94: 8, 31.95: 2, 31.96: 5, 31.97: 1, 31.98: 3, 31.99: 1, 32.0: 116, 32.02: 1, 32.03: 2, 32.04: 4, 32.05: 6, 32.06: 4, 32.07: 3, 32.08: 21, 32.09: 1, 32.1: 8, 32.11: 5, 32.12: 4, 32.13: 2, 32.14: 90, 32.15: 1, 32.16: 2, 32.17: 3, 32.18: 7, 32.19: 1, 32.2: 18, 32.21: 2, 32.22: 4, 32.23: 2, 32.26: 65, 32.27: 1, 32.28: 2, 32.29: 2, 32.31: 11, 32.32: 3, 32.33: 2, 32.34: 4, 32.35: 57, 32.36: 1, 32.37: 2, 32.38: 2, 32.39: 9, 32.4: 1, 32.41: 3, 32.42: 3, 32.43: 42, 32.45: 1, 32.46: 3, 32.47: 12, 32.48: 3, 32.49: 2, 32.5: 36, 32.52: 1, 32.53: 8, 32.54: 2, 32.55: 1, 32.56: 20, 32.58: 10, 32.59: 1, 32.6: 1, 32.61: 29, 32.62: 1, 32.63: 3, 32.64: 3, 32.65: 18, 32.66: 2, 32.67: 4, 32.68: 1, 32.69: 16, 32.7: 2, 32.71: 4, 32.72: 2, 32.73: 13, 32.74: 3, 32.76: 9, 32.77: 4, 32.78: 1, 32.79: 10, 32.8: 4, 32.81: 14, 32.82: 8, 32.83: 3, 32.84: 10, 32.85: 3, 32.86: 9, 32.87: 1, 32.88: 4, 32.89: 10, 32.91: 10, 32.92: 2, 32.93: 9, 32.94: 2, 32.95: 8, 32.96: 4, 32.97: 7, 32.98: 3, 32.99: 5, 33.0: 5, 33.01: 3, 33.02: 3, 33.03: 3, 33.04: 4, 33.05: 1, 33.06: 4, 33.07: 1, 33.08: 5, 33.09: 3, 33.1: 2, 33.11: 3, 33.12: 4, 33.14: 4, 33.16: 2, 33.17: 2, 33.19: 2, 33.2: 1, 33.21: 3, 33.24: 1, 33.26: 2, 33.28: 1, 33.3: 1, 33.31: 1, 33.33: 11430, 33.38: 1, 33.39: 1, 33.41: 2, 33.43: 1, 33.45: 3, 33.48: 2, 33.49: 2, 33.5: 2, 33.51: 4, 33.53: 3, 33.54: 2, 33.55: 3, 33.56: 3, 33.57: 1, 33.58: 6, 33.59: 5, 33.61: 3, 33.62: 2, 33.63: 1, 33.64: 6, 33.65: 6, 33.66: 4, 33.67: 2, 33.68: 3, 33.69: 2, 33.7: 5, 33.71: 2, 33.72: 3, 33.73: 6, 33.75: 2, 33.76: 4, 33.77: 7, 33.78: 17, 33.79: 4, 33.8: 6, 33.81: 3, 33.82: 13, 33.83: 3, 33.84: 1, 33.85: 12, 33.86: 1, 33.87: 14, 33.88: 2, 33.89: 1, 33.9: 11, 33.91: 4, 33.92: 1, 33.93: 17, 33.94: 3, 33.95: 2, 33.96: 16, 33.97: 2, 33.98: 3, 33.99: 2, 34.0: 20, 34.02: 6, 34.03: 4, 34.04: 21, 34.05: 3, 34.06: 1, 34.07: 4, 34.08: 1, 34.09: 28, 34.1: 2, 34.11: 3, 34.12: 7, 34.13: 1, 34.14: 1, 34.15: 28, 34.16: 1, 34.17: 2, 34.18: 8, 34.19: 2, 34.2: 3, 34.21: 34, 34.22: 1, 34.23: 3, 34.25: 10, 34.26: 1, 34.27: 7, 34.29: 36, 34.3: 1, 34.31: 4, 34.33: 9, 34.34: 3, 34.35: 1, 34.36: 3, 34.37: 1, 34.38: 56, 34.39: 2, 34.4: 2, 34.41: 8, 34.42: 1, 34.43: 12, 34.44: 3, 34.45: 3, 34.46: 1, 34.47: 1, 34.48: 80, 34.5: 3, 34.51: 3, 34.52: 5, 34.53: 1, 34.54: 1, 34.55: 10, 34.56: 3, 34.57: 7, 34.58: 6, 34.59: 2, 34.6: 3, 34.62: 103, 34.63: 2, 34.64: 4, 34.65: 6, 34.66: 3, 34.67: 13, 34.68: 1, 34.69: 21, 34.7: 2, 34.71: 2, 34.72: 6, 34.73: 2, 34.74: 8, 34.75: 6, 34.76: 4, 34.78: 134, 34.79: 2, 34.8: 1, 34.81: 6, 34.82: 3, 34.83: 7, 34.84: 1, 34.85: 11, 34.86: 3, 34.87: 3, 34.88: 44, 34.9: 3, 34.91: 5, 34.92: 8, 34.93: 3, 34.94: 2, 34.95: 3, 34.96: 5, 34.97: 3, 34.98: 3, 34.99: 1, 35.0: 194, 35.02: 3, 35.03: 5, 35.04: 2, 35.05: 6, 35.06: 3, 35.07: 3, 35.09: 20, 35.1: 4, 35.11: 6, 35.13: 2, 35.14: 43, 35.15: 3, 35.16: 7, 35.19: 11, 35.2: 4, 35.21: 7, 35.22: 2, 35.23: 4, 35.24: 3, 35.25: 3, 35.26: 1, 35.27: 2, 35.29: 274, 35.33: 3, 35.34: 6, 35.35: 6, 35.36: 2, 35.37: 4, 35.38: 8, 35.39: 3, 35.4: 2, 35.42: 23, 35.44: 9, 35.45: 2, 35.47: 3, 35.48: 76, 35.49: 2, 35.5: 2, 35.51: 3, 35.53: 9, 35.54: 1, 35.56: 24, 35.57: 4, 35.58: 3, 35.59: 12, 35.61: 3, 35.62: 5, 35.63: 8, 35.64: 2, 35.65: 1, 35.66: 5, 35.68: 2, 35.69: 1, 35.7: 1, 35.71: 435, 35.73: 1, 35.74: 1, 35.75: 1, 35.76: 4, 35.78: 4, 35.79: 6, 35.8: 10, 35.82: 13, 35.83: 4, 35.84: 1, 35.85: 8, 35.86: 1, 35.87: 5, 35.88: 1, 35.89: 1, 35.9: 28, 35.91: 2, 35.92: 4, 35.93: 1, 35.94: 13, 35.95: 1, 35.96: 7, 35.97: 2, 35.98: 3, 36.0: 105, 36.02: 3, 36.03: 1, 36.05: 5, 36.07: 13, 36.08: 6, 36.09: 1, 36.1: 1, 36.11: 42, 36.12: 1, 36.13: 3, 36.14: 8, 36.15: 1, 36.16: 3, 36.17: 31, 36.18: 2, 36.19: 4, 36.2: 2, 36.21: 14, 36.22: 2, 36.23: 3, 36.24: 3, 36.25: 8, 36.26: 6, 36.27: 2, 36.28: 1, 36.3: 4, 36.31: 1, 36.32: 2, 36.33: 2, 36.36: 783, 36.39: 1, 36.4: 2, 36.41: 1, 36.42: 3, 36.43: 2, 36.44: 1, 36.45: 2, 36.46: 3, 36.47: 2, 36.48: 1, 36.49: 5, 36.5: 3, 36.51: 10, 36.52: 5, 36.54: 15, 36.55: 1, 36.56: 3, 36.57: 2, 36.58: 1, 36.59: 29, 36.6: 3, 36.61: 2, 36.62: 4, 36.63: 3, 36.64: 2, 36.65: 1, 36.66: 1, 36.67: 84, 36.68: 2, 36.69: 1, 36.7: 4, 36.71: 4, 36.72: 1, 36.73: 18, 36.74: 1, 36.75: 2, 36.76: 12, 36.77: 3, 36.78: 3, 36.79: 5, 36.8: 3, 36.81: 3, 36.82: 3, 36.83: 1, 36.84: 245, 36.86: 2, 36.87: 1, 36.88: 2, 36.89: 3, 36.9: 4, 36.92: 12, 36.94: 3, 36.95: 1, 36.96: 18, 36.97: 4, 36.99: 14, 37.0: 2, 37.01: 2, 37.02: 4, 37.04: 98, 37.05: 1, 37.06: 1, 37.07: 5, 37.08: 3, 37.09: 1, 37.1: 16, 37.11: 3, 37.12: 1, 37.13: 1, 37.14: 55, 37.15: 1, 37.16: 3, 37.17: 2, 37.18: 8, 37.19: 5, 37.2: 2, 37.21: 40, 37.22: 1, 37.23: 6, 37.24: 2, 37.25: 11, 37.27: 1, 37.29: 15, 37.3: 1, 37.31: 11, 37.32: 1, 37.33: 6, 37.34: 2, 37.35: 3, 37.36: 1, 37.37: 6, 37.38: 2, 37.39: 4, 37.4: 3, 37.41: 1, 37.42: 3, 37.43: 2, 37.44: 2, 37.45: 1, 37.46: 1, 37.5: 1517, 37.52: 1, 37.53: 4, 37.54: 2, 37.55: 4, 37.57: 2, 37.58: 4, 37.59: 2, 37.6: 2, 37.61: 2, 37.62: 3, 37.63: 1, 37.65: 11, 37.66: 5, 37.68: 9, 37.69: 1, 37.7: 12, 37.71: 1, 37.72: 6, 37.74: 6, 37.75: 1, 37.76: 6, 37.78: 24, 37.79: 3, 37.8: 4, 37.81: 1, 37.82: 2, 37.83: 1, 37.84: 40, 37.86: 6, 37.87: 1, 37.88: 12, 37.89: 1, 37.9: 1, 37.91: 3, 37.92: 2, 37.93: 66, 37.94: 1, 37.95: 1, 37.96: 4, 37.97: 5, 37.98: 6, 38.0: 17, 38.01: 4, 38.02: 1, 38.03: 5, 38.04: 3, 38.05: 2, 38.06: 4, 38.07: 3, 38.08: 2, 38.1: 140, 38.11: 1, 38.12: 1, 38.13: 4, 38.14: 5, 38.15: 2, 38.16: 4, 38.17: 2, 38.18: 16, 38.19: 1, 38.2: 8, 38.21: 2, 38.22: 1, 38.24: 39, 38.26: 1, 38.27: 7, 38.28: 3, 38.29: 1, 38.3: 19, 38.31: 4, 38.32: 6, 38.33: 14, 38.34: 1, 38.35: 2, 38.36: 11, 38.37: 3, 38.38: 5, 38.39: 5, 38.4: 5, 38.41: 3, 38.42: 4, 38.43: 3, 38.44: 1, 38.45: 1, 38.46: 503, 38.48: 4, 38.5: 1, 38.52: 3, 38.54: 7, 38.55: 5, 38.56: 3, 38.57: 11, 38.58: 4, 38.59: 2, 38.6: 5, 38.61: 3, 38.62: 2, 38.63: 1, 38.64: 24, 38.65: 2, 38.66: 1, 38.67: 3, 38.68: 3, 38.69: 2, 38.71: 56, 38.73: 2, 38.74: 4, 38.75: 5, 38.76: 2, 38.77: 1, 38.78: 19, 38.79: 4, 38.8: 2, 38.81: 6, 38.82: 8, 38.83: 2, 38.84: 2, 38.85: 5, 38.86: 4, 38.87: 1, 38.88: 1, 38.89: 211, 38.91: 3, 38.93: 1, 38.94: 4, 38.95: 2, 38.96: 4, 38.98: 14, 38.99: 3, 39.0: 2, 39.01: 2, 39.02: 22, 39.04: 3, 39.05: 5, 39.06: 9, 39.08: 5, 39.09: 1, 39.1: 3, 39.11: 1, 39.12: 2, 39.13: 139, 39.14: 1, 39.15: 2, 39.16: 2, 39.17: 1, 39.18: 4, 39.19: 9, 39.2: 1, 39.22: 12, 39.24: 1, 39.25: 3, 39.26: 3, 39.27: 2, 39.29: 74, 39.3: 4, 39.31: 2, 39.32: 1, 39.33: 4, 39.34: 15, 39.35: 1, 39.36: 3, 39.37: 2, 39.38: 2, 39.39: 56, 39.41: 1, 39.42: 7, 39.43: 1, 39.44: 7, 39.45: 5, 39.46: 1, 39.47: 46, 39.49: 1, 39.5: 1, 39.51: 5, 39.52: 2, 39.53: 27, 39.55: 1, 39.56: 6, 39.57: 3, 39.58: 22, 39.59: 1, 39.6: 3, 39.61: 5, 39.62: 19, 39.64: 1, 39.65: 1, 39.66: 15, 39.67: 6, 39.68: 13, 39.69: 3, 39.71: 11, 39.72: 2, 39.73: 5, 39.74: 5, 39.75: 2, 39.76: 3, 39.77: 7, 39.78: 3, 39.8: 6, 39.81: 6, 39.82: 5, 39.83: 4, 39.84: 2, 39.86: 2, 39.87: 2, 39.88: 1, 39.89: 2, 39.9: 1, 39.91: 1, 39.93: 2, 39.96: 1, 39.99: 1, 40.0: 4187, 40.05: 1, 40.06: 1, 40.07: 2, 40.09: 2, 40.1: 1, 40.11: 2, 40.13: 2, 40.14: 1, 40.15: 4, 40.16: 2, 40.18: 2, 40.19: 3, 40.2: 3, 40.21: 3, 40.22: 7, 40.23: 6, 40.24: 7, 40.26: 5, 40.27: 1, 40.28: 14, 40.29: 3, 40.3: 7, 40.31: 3, 40.32: 5, 40.33: 2, 40.34: 2, 40.35: 7, 40.36: 5, 40.37: 2, 40.38: 18, 40.39: 1, 40.4: 10, 40.42: 1, 40.43: 23, 40.44: 1, 40.45: 7, 40.46: 3, 40.48: 27, 40.5: 2, 40.51: 5, 40.52: 1, 40.53: 3, 40.54: 48, 40.55: 1, 40.56: 2, 40.57: 1, 40.58: 11, 40.59: 5, 40.6: 1, 40.61: 4, 40.62: 55, 40.64: 2, 40.65: 3, 40.66: 5, 40.67: 1, 40.68: 14, 40.69: 5, 40.7: 4, 40.71: 6, 40.72: 1, 40.74: 88, 40.76: 2, 40.77: 1, 40.78: 8, 40.79: 6, 40.8: 1, 40.81: 2, 40.82: 20, 40.83: 4, 40.84: 1, 40.85: 8, 40.86: 4, 40.87: 2, 40.88: 1, 40.91: 137, 40.92: 1, 40.93: 3, 40.94: 4, 40.95: 4, 40.96: 3, 40.97: 1, 40.98: 8, 41.0: 3, 41.01: 1, 41.02: 1, 41.03: 28, 41.04: 1, 41.05: 2, 41.06: 2, 41.07: 17, 41.09: 3, 41.1: 10, 41.11: 2, 41.12: 2, 41.13: 5, 41.16: 1, 41.17: 1, 41.18: 272, 41.2: 5, 41.21: 2, 41.23: 5, 41.24: 4, 41.25: 6, 41.26: 1, 41.27: 12, 41.28: 2, 41.29: 1, 41.3: 17, 41.33: 4, 41.34: 1, 41.35: 5, 41.36: 2, 41.38: 89, 41.4: 3, 41.41: 2, 41.43: 10, 41.44: 2, 41.45: 2, 41.46: 18, 41.47: 1, 41.48: 3, 41.49: 3, 41.51: 10, 41.52: 2, 41.53: 5, 41.54: 7, 41.55: 1, 41.56: 3, 41.57: 3, 41.58: 4, 41.59: 3, 41.6: 1, 41.61: 1, 41.63: 1, 41.64: 1, 41.67: 602, 41.69: 1, 41.71: 3, 41.72: 2, 41.73: 1, 41.74: 3, 41.75: 5, 41.76: 1, 41.77: 5, 41.78: 1, 41.79: 5, 41.8: 2, 41.81: 2, 41.82: 14, 41.83: 2, 41.84: 4, 41.85: 2, 41.86: 20, 41.87: 2, 41.88: 3, 41.89: 8, 41.9: 3, 41.91: 2, 41.92: 1, 41.94: 64, 41.95: 3, 41.96: 2, 41.97: 1, 41.98: 5, 41.99: 1, 42.0: 20, 42.01: 1, 42.02: 3, 42.03: 10, 42.05: 5, 42.06: 3, 42.07: 1, 42.08: 2, 42.09: 1, 42.11: 184, 42.12: 1, 42.13: 1, 42.15: 4, 42.16: 5, 42.17: 4, 42.19: 6, 42.2: 6, 42.21: 2, 42.22: 25, 42.23: 1, 42.24: 3, 42.25: 3, 42.27: 1, 42.28: 2, 42.31: 106, 42.32: 1, 42.33: 5, 42.34: 6, 42.35: 4, 42.36: 1, 42.37: 12, 42.39: 3, 42.41: 1, 42.42: 58, 42.44: 3, 42.45: 6, 42.46: 1, 42.47: 8, 42.48: 3, 42.49: 1, 42.5: 25, 42.51: 2, 42.52: 2, 42.53: 5, 42.54: 1, 42.55: 22, 42.57: 4, 42.58: 1, 42.59: 14, 42.61: 2, 42.62: 12, 42.64: 2, 42.65: 8, 42.66: 1, 42.67: 5, 42.68: 6, 42.69: 3, 42.7: 4, 42.72: 3, 42.73: 2, 42.74: 3, 42.75: 4, 42.76: 1, 42.77: 2, 42.78: 2, 42.79: 1, 42.8: 2, 42.81: 1, 42.82: 2, 42.83: 1, 42.84: 1, 42.86: 1966, 42.9: 1, 42.92: 3, 42.93: 2, 42.94: 2, 42.96: 1, 42.98: 6, 42.99: 4, 43.0: 1, 43.01: 4, 43.02: 3, 43.03: 2, 43.04: 13, 43.05: 1, 43.06: 7, 43.07: 4, 43.08: 12, 43.09: 5, 43.1: 15, 43.11: 2, 43.12: 3, 43.13: 1, 43.14: 19, 43.15: 1, 43.16: 3, 43.18: 17, 43.2: 1, 43.21: 2, 43.22: 5, 43.24: 30, 43.26: 2, 43.27: 3, 43.28: 7, 43.29: 5, 43.3: 1, 43.33: 83, 43.34: 1, 43.35: 2, 43.37: 3, 43.38: 1, 43.4: 15, 43.41: 3, 43.42: 6, 43.43: 2, 43.44: 4, 43.47: 3, 43.48: 118, 43.49: 2, 43.5: 1, 43.51: 4, 43.52: 4, 43.53: 1, 43.54: 1, 43.55: 7, 43.56: 4, 43.57: 2, 43.59: 26, 43.62: 5, 43.63: 1, 43.64: 15, 43.65: 1, 43.66: 4, 43.67: 1, 43.68: 4, 43.69: 2, 43.7: 2, 43.71: 1, 43.72: 2, 43.73: 1, 43.75: 325, 43.77: 2, 43.79: 3, 43.8: 2, 43.81: 3, 43.82: 2, 43.83: 4, 43.84: 4, 43.86: 9, 43.87: 3, 43.88: 2, 43.9: 35, 43.92: 1, 43.93: 2, 43.94: 8, 43.96: 1, 43.97: 1, 43.98: 2, 44.0: 89, 44.01: 1, 44.02: 1, 44.03: 2, 44.04: 3, 44.05: 6, 44.06: 2, 44.07: 7, 44.09: 3, 44.1: 3, 44.12: 54, 44.13: 1, 44.14: 5, 44.15: 3, 44.16: 7, 44.17: 2, 44.18: 2, 44.19: 23, 44.2: 5, 44.21: 4, 44.22: 2, 44.23: 13, 44.24: 2, 44.25: 2, 44.26: 12, 44.28: 1, 44.29: 4, 44.3: 5, 44.31: 1, 44.32: 5, 44.33: 1, 44.34: 1, 44.35: 2, 44.37: 1, 44.38: 2, 44.39: 3, 44.41: 2, 44.42: 1, 44.44: 1152, 44.48: 1, 44.49: 1, 44.5: 1, 44.51: 2, 44.52: 3, 44.53: 2, 44.54: 1, 44.55: 3, 44.57: 4, 44.58: 5, 44.59: 6, 44.6: 2, 44.62: 13, 44.63: 2, 44.64: 7, 44.65: 4, 44.66: 1, 44.67: 1, 44.68: 17, 44.7: 2, 44.71: 4, 44.72: 3, 44.73: 2, 44.74: 34, 44.75: 1, 44.76: 4, 44.78: 10, 44.79: 7, 44.8: 1, 44.81: 2, 44.83: 75, 44.86: 2, 44.87: 3, 44.88: 1, 44.9: 13, 44.91: 1, 44.93: 9, 44.94: 3, 44.95: 2, 44.96: 4, 44.97: 1, 44.98: 1, 45.0: 163, 45.02: 1, 45.03: 1, 45.04: 2, 45.05: 6, 45.06: 2, 45.07: 4, 45.08: 2, 45.09: 2, 45.1: 19, 45.11: 3, 45.12: 5, 45.13: 3, 45.15: 2, 45.16: 48, 45.17: 3, 45.19: 2, 45.2: 2, 45.21: 7, 45.22: 2, 45.24: 24, 45.25: 5, 45.26: 6, 45.27: 1, 45.28: 11, 45.29: 3, 45.3: 4, 45.31: 8, 45.33: 5, 45.34: 1, 45.35: 1, 45.36: 4, 45.37: 2, 45.38: 3, 45.4: 1, 45.41: 2, 45.43: 1, 45.45: 736, 45.46: 1, 45.49: 1, 45.5: 3, 45.51: 1, 45.52: 4, 45.54: 5, 45.56: 2, 45.57: 4, 45.58: 1, 45.59: 5, 45.6: 1, 45.61: 9, 45.62: 2, 45.63: 4, 45.64: 3, 45.65: 16, 45.66: 1, 45.67: 1, 45.68: 9, 45.69: 2, 45.7: 3, 45.71: 47, 45.74: 5, 45.75: 2, 45.76: 9, 45.78: 4, 45.79: 1, 45.8: 1, 45.81: 4, 45.83: 101, 45.85: 3, 45.86: 1, 45.87: 3, 45.88: 3, 45.9: 10, 45.92: 1, 45.95: 34, 45.96: 1, 45.97: 1, 45.98: 7, 45.99: 3, 46.0: 10, 46.02: 2, 46.03: 7, 46.04: 3, 46.05: 5, 46.07: 5, 46.08: 3, 46.09: 4, 46.1: 1, 46.11: 5, 46.12: 1, 46.13: 1, 46.14: 1, 46.15: 486, 46.19: 1, 46.21: 1, 46.22: 2, 46.23: 4, 46.24: 2, 46.25: 8, 46.26: 3, 46.27: 9, 46.28: 1, 46.29: 1, 46.3: 9, 46.32: 6, 46.33: 1, 46.34: 31, 46.35: 2, 46.36: 5, 46.37: 1, 46.38: 6, 46.4: 1, 46.43: 84, 46.44: 1, 46.45: 1, 46.46: 5, 46.48: 5, 46.49: 2, 46.5: 2, 46.51: 22, 46.53: 4, 46.54: 1, 46.55: 8, 46.56: 3, 46.58: 6, 46.59: 2, 46.61: 1, 46.62: 3, 46.64: 1, 46.67: 368, 46.69: 1, 46.7: 1, 46.71: 2, 46.72: 5, 46.73: 4, 46.74: 10, 46.75: 8, 46.77: 8, 46.78: 1, 46.8: 1, 46.81: 19, 46.83: 2, 46.84: 1, 46.86: 2, 46.88: 51, 46.89: 1, 46.9: 2, 46.91: 1, 46.92: 2, 46.94: 10, 46.95: 2, 46.96: 5, 46.97: 10, 46.99: 4, 47.0: 3, 47.01: 3, 47.02: 2, 47.03: 2, 47.04: 2, 47.06: 240, 47.08: 1, 47.09: 1, 47.1: 1, 47.11: 3, 47.12: 2, 47.13: 3, 47.14: 10, 47.16: 1, 47.17: 9, 47.18: 2, 47.19: 2, 47.2: 1, 47.21: 1, 47.22: 35, 47.24: 1, 47.25: 3, 47.26: 3, 47.27: 14, 47.29: 2, 47.3: 1, 47.31: 3, 47.32: 2, 47.33: 2, 47.35: 1, 47.37: 202, 47.39: 1, 47.41: 2, 47.43: 1, 47.44: 5, 47.45: 4, 47.46: 5, 47.47: 6, 47.49: 4, 47.5: 27, 47.52: 1, 47.53: 1, 47.54: 6, 47.55: 1, 47.56: 2, 47.57: 6, 47.58: 3, 47.6: 1, 47.62: 162, 47.64: 2, 47.65: 1, 47.66: 1, 47.67: 5, 47.68: 1, 47.69: 10, 47.7: 2, 47.71: 2, 47.72: 2, 47.73: 24, 47.74: 4, 47.75: 3, 47.76: 5, 47.78: 7, 47.79: 3, 47.8: 1, 47.81: 2, 47.82: 1, 47.83: 107, 47.85: 1, 47.86: 2, 47.87: 3, 47.89: 3, 47.9: 1, 47.92: 23, 47.93: 3, 47.94: 1, 47.95: 4, 47.96: 7, 47.97: 6, 47.98: 1, 47.99: 1, 48.0: 80, 48.01: 1, 48.02: 1, 48.03: 2, 48.04: 1, 48.05: 4, 48.08: 10, 48.09: 2, 48.1: 4, 48.11: 4, 48.13: 1, 48.14: 1, 48.15: 73, 48.16: 1, 48.17: 1, 48.18: 2, 48.19: 2, 48.2: 1, 48.21: 13, 48.22: 1, 48.23: 2, 48.24: 7, 48.25: 1, 48.26: 1, 48.28: 57, 48.3: 3, 48.31: 5, 48.33: 6, 48.35: 2, 48.37: 2, 48.39: 41, 48.4: 2, 48.41: 3, 48.42: 2, 48.43: 1, 48.44: 14, 48.45: 2, 48.46: 3, 48.47: 1, 48.48: 50, 48.49: 1, 48.5: 3, 48.51: 1, 48.52: 1, 48.53: 3, 48.54: 1, 48.55: 1, 48.56: 1, 48.57: 48, 48.59: 1, 48.61: 5, 48.62: 3, 48.63: 1, 48.64: 1, 48.65: 33, 48.66: 1, 48.67: 6, 48.68: 4, 48.7: 3, 48.71: 1, 48.72: 21, 48.73: 3, 48.74: 2, 48.75: 5, 48.76: 1, 48.78: 25, 48.8: 1, 48.81: 1, 48.82: 2, 48.83: 3, 48.84: 23, 48.85: 2, 48.86: 1, 48.87: 1, 48.88: 2, 48.89: 15, 48.9: 1, 48.91: 5, 48.92: 3, 48.93: 2, 48.94: 19, 48.95: 4, 48.96: 4, 48.98: 20, 48.99: 1, 49.0: 3, 49.01: 1, 49.02: 12, 49.03: 1, 49.06: 11, 49.07: 4, 49.08: 2, 49.09: 13, 49.1: 3, 49.11: 1, 49.12: 13, 49.13: 1, 49.15: 17, 49.17: 2, 49.18: 9, 49.19: 2, 49.2: 1, 49.21: 8, 49.22: 2, 49.23: 3, 49.24: 1, 49.25: 10, 49.27: 1, 49.28: 6, 49.3: 6, 49.31: 1, 49.32: 4, 49.33: 4, 49.34: 1, 49.35: 4, 49.36: 3, 49.37: 4, 49.38: 5, 49.39: 1, 49.4: 7, 49.41: 4, 49.42: 2, 49.43: 2, 49.44: 7, 49.45: 2, 49.46: 1, 49.47: 1, 49.48: 2, 49.49: 4, 49.5: 2, 49.51: 5, 49.52: 2, 49.53: 1, 49.54: 3, 49.55: 3, 49.57: 4, 49.58: 3, 49.59: 1, 49.6: 2, 49.61: 1, 49.62: 4, 49.63: 2, 49.64: 3, 49.65: 2, 49.67: 2, 49.68: 5, 49.69: 1, 49.7: 1, 49.71: 1, 49.73: 1, 49.74: 4, 49.75: 1, 49.76: 2, 49.77: 2, 49.81: 1, 49.84: 2, 49.86: 1, 49.88: 1, 49.97: 1, 49.99: 1, 50.0: 23048}\n"
     ]
    }
   ],
   "source": [
    "# Pivot the grouped dataframe to create a pivot table with the 'final_gender_code' column as the index, the 'brand' column as the columns and the 'user' column as the values\n",
    "pivot_table = grouped_df.pivot(index='brand', columns='final_gender_code', values='user')\n",
    "\n",
    "# Get the total number of users for each gender\n",
    "brand_totals = pivot_table.sum(axis=1)\n",
    "\n",
    "# Divide the values in the pivot table by the gender totals and multiply by 100 to get the percent values\n",
    "percent_table = (pivot_table / brand_totals.values.reshape(-1, 1)) * 100\n",
    "percent_table = percent_table.fillna(0)\n",
    "\n",
    "# Compute the ambiguity metric values by subtracting the percent values from 100\n",
    "ambiguity_table = 100 - percent_table\n",
    "\n",
    "# Round the values in the ambiguity table to 2 decimal places\n",
    "ambiguity_table = ambiguity_table.round(2)\n",
    "\n",
    "# Print the ambiguity table\n",
    "print(ambiguity_table)\n",
    "\n",
    "ambiguity_counts = {}\n",
    "\n",
    "# Loop through each value in the ambiguity table and count the number of occurrences\n",
    "for ambiguity_value in ambiguity_table.values.flatten():\n",
    "    if ambiguity_value < 50.01:\n",
    "        if ambiguity_value in ambiguity_counts:\n",
    "            ambiguity_counts[ambiguity_value] += 1\n",
    "        else:\n",
    "            ambiguity_counts[ambiguity_value] = 1\n",
    "\n",
    "\n",
    "# Sort the dictionary items by their keys\n",
    "ambiguity_dict = dict(sorted(ambiguity_counts.items(), key=lambda x: x[0]))\n",
    "\n",
    "# Print the sorted dictionary\n",
    "print(ambiguity_dict)"
   ]
  },
  {
   "cell_type": "code",
   "execution_count": 20,
   "id": "a25643e5",
   "metadata": {},
   "outputs": [
    {
     "data": {
      "image/png": "[encoded data removed]",
      "text/plain": [
       "<Figure size 432x288 with 1 Axes>"
      ]
     },
     "metadata": {
      "needs_background": "light"
     },
     "output_type": "display_data"
    }
   ],
   "source": [
    "# `ambiguity_dict` is the sorted dictionary you created earlier\n",
    "x_values = list(ambiguity_dict.keys())\n",
    "y_values = list(ambiguity_dict.values())\n",
    "\n",
    "# Create a histogram with 10 bins\n",
    "plt.hist(x_values, bins=100, weights=y_values)\n",
    "\n",
    "# Add axis labels and a title\n",
    "plt.xlabel('Ambiguity anout gender using brands')\n",
    "plt.ylabel('Distribution of brands')\n",
    "plt.title('Ambiguity Distribution')\n",
    "\n",
    "# Show the plot\n",
    "plt.show()\n"
   ]
  },
  {
   "cell_type": "code",
   "execution_count": 21,
   "id": "6b400be6",
   "metadata": {},
   "outputs": [
    {
     "data": {
      "image/png": "[encoded data removed]",
      "text/plain": [
       "<Figure size 432x288 with 1 Axes>"
      ]
     },
     "metadata": {
      "needs_background": "light"
     },
     "output_type": "display_data"
    }
   ],
   "source": [
    "# `ambiguity_dict` is the sorted dictionary you created earlier\n",
    "x_values = list(ambiguity_dict.keys())\n",
    "y_values = list(ambiguity_dict.values())\n",
    "\n",
    "# Calculate the percentage of each y_value over the total number of brands\n",
    "total_brands = len(unique_brands)\n",
    "y_percentages = [(count/total_brands)*100 for count in y_values]\n",
    "\n",
    "# Plot the percentage values on a bar chart\n",
    "plt.bar(x_values, y_percentages)\n",
    "plt.xlabel('Ambiguity of Gender using brands')\n",
    "plt.ylabel('Percentage wise Distribution of Brands')\n",
    "plt.title('Ambiguity Value Distribution')\n",
    "plt.show()"
   ]
  },
  {
   "cell_type": "code",
   "execution_count": null,
   "id": "eae5a7d3",
   "metadata": {},
   "outputs": [],
   "source": []
  },
  {
   "cell_type": "code",
   "execution_count": 22,
   "id": "c8957a05",
   "metadata": {},
   "outputs": [],
   "source": [
    "top_brands = buy_behavior['brand'].value_counts().head(5).index.tolist()\n",
    "top_brands_data = buy_behavior[buy_behavior['brand'].isin(top_brands)]\n",
    "\n",
    "merged_data = pd.merge(top_brands_data, user_profile, left_on='user', right_on='userid')\n",
    "# Drop the 'userid' column since it contains the same values as 'user'\n",
    "merged_data = merged_data.drop('userid', axis=1)\n",
    "\n",
    "brand_combinations = list(itertools.combinations(top_brands, 2))\n"
   ]
  },
  {
   "cell_type": "code",
   "execution_count": 23,
   "id": "79b40400",
   "metadata": {},
   "outputs": [
    {
     "name": "stdout",
     "output_type": "stream",
     "text": [
      "       age_level final_gender_code       user brand_combined\n",
      "0              3                 2   230906.0  370203_388700\n",
      "2              3                 1  1024116.0  370203_388700\n",
      "3              4                 1   872106.0  370203_388700\n",
      "6              3                 1   903513.0  370203_388700\n",
      "7              5                 2   862985.0  370203_388700\n",
      "...          ...               ...        ...            ...\n",
      "185978         5                 2   243751.0  224985_425589\n",
      "185980         4                 2   133860.0  224985_425589\n",
      "185981         5                 2  1080754.0  224985_425589\n",
      "185983         4                 1   272553.0  224985_425589\n",
      "185984         3                 1   872082.0  224985_425589\n",
      "\n",
      "[80168 rows x 4 columns]\n"
     ]
    }
   ],
   "source": [
    "\n",
    "import warnings\n",
    "from pandas.core.common import SettingWithCopyWarning\n",
    "\n",
    "warnings.simplefilter(action=\"ignore\", category=SettingWithCopyWarning)\n",
    "\n",
    "\n",
    "result_df = pd.DataFrame(columns=['age_level', 'final_gender_code'])\n",
    "\n",
    "for brand_combo in brand_combinations:\n",
    "    brand1, brand2 = brand_combo\n",
    "    brand_data = merged_data[(merged_data['brand']==brand1) & (merged_data['user'].isin(merged_data[merged_data['brand']==brand2]['user'].tolist()))]\n",
    "    brand_data['brand2'] = brand2\n",
    "    user_data = brand_data[['user','brand', 'brand2', 'age_level', 'final_gender_code']]\n",
    "    result_df = result_df.append(user_data, ignore_index=True)\n",
    "result_df = result_df.drop_duplicates(keep='first')\n",
    "\n",
    "# Combine the brand and brand2 columns into a single column called \"brand_combined\"\n",
    "result_df['brand_combined'] = result_df['brand'].fillna(0).astype(int).astype(str) + '_' + result_df['brand2'].fillna(0).astype(int).astype(str)\n",
    "\n",
    "# Drop the original brand and brand2 columns\n",
    "result_df.drop(['brand', 'brand2'], axis=1, inplace=True)\n",
    "print(result_df)"
   ]
  },
  {
   "cell_type": "code",
   "execution_count": 33,
   "id": "58bef934",
   "metadata": {},
   "outputs": [
    {
     "name": "stdout",
     "output_type": "stream",
     "text": [
      "    final_gender_code brand_combined   user\n",
      "0                   1  224985_425589    349\n",
      "1                   1  247789_224985    531\n",
      "2                   1  247789_425589    415\n",
      "3                   1  370203_224985   2728\n",
      "4                   1  370203_247789   3232\n",
      "5                   1  370203_388700  15669\n",
      "6                   1  370203_425589   3162\n",
      "7                   1  388700_224985    953\n",
      "8                   1  388700_247789   1086\n",
      "9                   1  388700_425589   1056\n",
      "10                  2  224985_425589    703\n",
      "11                  2  247789_224985   1934\n",
      "12                  2  247789_425589   1179\n",
      "13                  2  370203_224985   6152\n",
      "14                  2  370203_247789  10053\n",
      "15                  2  370203_388700  20787\n",
      "16                  2  370203_425589   4639\n",
      "17                  2  388700_224985   1582\n",
      "18                  2  388700_247789   2626\n",
      "19                  2  388700_425589   1332\n",
      "final_gender_code      1      2\n",
      "brand_combined                 \n",
      "224985_425589        349    703\n",
      "247789_224985        531   1934\n",
      "247789_425589        415   1179\n",
      "370203_224985       2728   6152\n",
      "370203_247789       3232  10053\n",
      "370203_388700      15669  20787\n",
      "370203_425589       3162   4639\n",
      "388700_224985        953   1582\n",
      "388700_247789       1086   2626\n",
      "388700_425589       1056   1332\n"
     ]
    }
   ],
   "source": [
    "# Group the merged dataframe by the 'age_level' and 'brand' columns and get the count of each group\n",
    "grouped_df = result_df.groupby(['final_gender_code', 'brand_combined'], as_index=False).count()[['final_gender_code', 'brand_combined', 'user']]\n",
    "print(grouped_df)\n",
    "\n",
    "# Pivot the grouped dataframe to create a pivot table with the 'age_level' column as the index, the 'brand' column as the columns and the 'user' column as the values\n",
    "pivot_table = grouped_df.pivot(index='brand_combined', columns='final_gender_code', values='user')\n",
    "pivot_table = pivot_table.fillna(0)\n",
    "print(pivot_table)"
   ]
  },
  {
   "cell_type": "code",
   "execution_count": 34,
   "id": "9fec658e",
   "metadata": {},
   "outputs": [
    {
     "name": "stdout",
     "output_type": "stream",
     "text": [
      "final_gender_code      1      2\n",
      "brand_combined                 \n",
      "224985_425589      66.83  33.17\n",
      "247789_224985      78.46  21.54\n",
      "247789_425589      73.96  26.04\n",
      "370203_224985      69.28  30.72\n",
      "370203_247789      75.67  24.33\n",
      "370203_388700      57.02  42.98\n",
      "370203_425589      59.47  40.53\n",
      "388700_224985      62.41  37.59\n",
      "388700_247789      70.74  29.26\n",
      "388700_425589      55.78  44.22\n",
      "{21.54: 1, 24.33: 1, 26.04: 1, 29.26: 1, 30.72: 1, 33.17: 1, 37.59: 1, 40.53: 1, 42.98: 1, 44.22: 1}\n"
     ]
    }
   ],
   "source": [
    "# Get the total number of users for each gender\n",
    "brand_totals = pivot_table.sum(axis=1)\n",
    "\n",
    "# Divide the values in the pivot table by the gender totals and multiply by 100 to get the percent values\n",
    "percent_table = (pivot_table / brand_totals.values.reshape(-1, 1)) * 100\n",
    "percent_table = percent_table.fillna(0)\n",
    "\n",
    "# Compute the ambiguity metric values by subtracting the percent values from 100\n",
    "ambiguity_table = 100 - percent_table\n",
    "\n",
    "# Round the values in the ambiguity table to 2 decimal places\n",
    "ambiguity_table = ambiguity_table.round(2)\n",
    "\n",
    "# Print the ambiguity table\n",
    "print(ambiguity_table)\n",
    "\n",
    "ambiguity_counts = {}\n",
    "\n",
    "# Loop through each value in the ambiguity table and count the number of occurrences\n",
    "for ambiguity_value in ambiguity_table.values.flatten():\n",
    "    if ambiguity_value < 50.01:\n",
    "        if ambiguity_value in ambiguity_counts:\n",
    "            ambiguity_counts[ambiguity_value] += 1\n",
    "        else:\n",
    "            ambiguity_counts[ambiguity_value] = 1\n",
    "\n",
    "\n",
    "# Sort the dictionary items by their keys\n",
    "ambiguity_dict = dict(sorted(ambiguity_counts.items(), key=lambda x: x[0]))\n",
    "\n",
    "# Print the sorted dictionary\n",
    "print(ambiguity_dict)\n"
   ]
  },
  {
   "cell_type": "code",
   "execution_count": 35,
   "id": "8ade6aa5",
   "metadata": {},
   "outputs": [
    {
     "data": {
      "image/png": "[encoded data removed]",
      "text/plain": [
       "<Figure size 432x288 with 1 Axes>"
      ]
     },
     "metadata": {
      "needs_background": "light"
     },
     "output_type": "display_data"
    }
   ],
   "source": [
    "# `ambiguity_dict` is the sorted dictionary you created earlier\n",
    "x_values = list(ambiguity_dict.keys())\n",
    "y_values = list(ambiguity_dict.values())\n",
    "\n",
    "# Calculate the percentage of each y_value over the total number of brands\n",
    "total_brands = 10\n",
    "y_percentages = [(count/total_brands)*100 for count in y_values]\n",
    "\n",
    "# Plot the percentage values on a bar chart\n",
    "plt.bar(x_values, y_percentages)\n",
    "plt.xlabel('Ambiguity of Gender using brands')\n",
    "plt.ylabel('Percentage wise Distribution of Brands')\n",
    "plt.title('Ambiguity Value Distribution')\n",
    "plt.show()"
   ]
  },
  {
   "cell_type": "code",
   "execution_count": 28,
   "id": "7a0d6b39",
   "metadata": {},
   "outputs": [
    {
     "name": "stdout",
     "output_type": "stream",
     "text": [
      "    age_level brand_combined  user\n",
      "0           0  247789_425589     3\n",
      "1           0  370203_224985     1\n",
      "2           0  370203_247789     7\n",
      "3           0  370203_388700     7\n",
      "4           0  370203_425589     2\n",
      "..        ...            ...   ...\n",
      "62          6  370203_388700   402\n",
      "63          6  370203_425589   115\n",
      "64          6  388700_224985    29\n",
      "65          6  388700_247789    36\n",
      "66          6  388700_425589    47\n",
      "\n",
      "[67 rows x 3 columns]\n",
      "age_level         0       1       2        3       4       5      6\n",
      "brand_combined                                                     \n",
      "224985_425589   0.0    27.0   127.0    341.0   313.0   223.0   21.0\n",
      "247789_224985   0.0    86.0   381.0    791.0   702.0   463.0   42.0\n",
      "247789_425589   3.0    69.0   226.0    499.0   410.0   347.0   40.0\n",
      "370203_224985   1.0   410.0  2058.0   2997.0  2014.0  1295.0  105.0\n",
      "370203_247789   7.0   936.0  3207.0   4263.0  2920.0  1812.0  140.0\n",
      "370203_388700   7.0  3042.0  9366.0  11087.0  7144.0  5408.0  402.0\n",
      "370203_425589   2.0   419.0  1540.0   2504.0  1873.0  1348.0  115.0\n",
      "388700_224985   0.0   154.0   633.0    854.0   534.0   331.0   29.0\n",
      "388700_247789   2.0   304.0   913.0   1135.0   780.0   542.0   36.0\n",
      "388700_425589   1.0   130.0   511.0    760.0   528.0   411.0   47.0\n"
     ]
    }
   ],
   "source": [
    "# Group the merged dataframe by the 'age_level' and 'brand' columns and get the count of each group\n",
    "grouped_df = result_df.groupby(['age_level', 'brand_combined'], as_index=False).count()[['age_level', 'brand_combined', 'user']]\n",
    "print(grouped_df)\n",
    "\n",
    "# Pivot the grouped dataframe to create a pivot table with the 'age_level' column as the index, the 'brand' column as the columns and the 'user' column as the values\n",
    "pivot_table = grouped_df.pivot(index='brand_combined', columns='age_level', values='user')\n",
    "pivot_table = pivot_table.fillna(0)\n",
    "print(pivot_table)"
   ]
  },
  {
   "cell_type": "code",
   "execution_count": 30,
   "id": "38a2499c",
   "metadata": {},
   "outputs": [
    {
     "name": "stdout",
     "output_type": "stream",
     "text": [
      "brand_combined\n",
      "224985_425589     1052.0\n",
      "247789_224985     2465.0\n",
      "247789_425589     1594.0\n",
      "370203_224985     8880.0\n",
      "370203_247789    13285.0\n",
      "370203_388700    36456.0\n",
      "370203_425589     7801.0\n",
      "388700_224985     2535.0\n",
      "388700_247789     3712.0\n",
      "388700_425589     2388.0\n",
      "dtype: float64\n",
      "age_level            0      1      2      3      4      5      6\n",
      "brand_combined                                                  \n",
      "224985_425589   100.00  97.43  87.93  67.59  70.25  78.80  98.00\n",
      "247789_224985   100.00  96.51  84.54  67.91  71.52  81.22  98.30\n",
      "247789_425589    99.81  95.67  85.82  68.70  74.28  78.23  97.49\n",
      "370203_224985    99.99  95.38  76.82  66.25  77.32  85.42  98.82\n",
      "370203_247789    99.95  92.95  75.86  67.91  78.02  86.36  98.95\n",
      "370203_388700    99.98  91.66  74.31  69.59  80.40  85.17  98.90\n",
      "370203_425589    99.97  94.63  80.26  67.90  75.99  82.72  98.53\n",
      "388700_224985   100.00  93.93  75.03  66.31  78.93  86.94  98.86\n",
      "388700_247789    99.95  91.81  75.40  69.42  78.99  85.40  99.03\n",
      "388700_425589    99.96  94.56  78.60  68.17  77.89  82.79  98.03\n",
      "{}\n"
     ]
    }
   ],
   "source": [
    "# Get the total number of users for each gender\n",
    "brand_totals = pivot_table.sum(axis=1)\n",
    "print(brand_totals)\n",
    "\n",
    "# Divide the values in the pivot table by the gender totals and multiply by 100 to get the percent values\n",
    "percent_table = (pivot_table / brand_totals.values.reshape(-1, 1)) * 100\n",
    "percent_table = percent_table.fillna(0)\n",
    "\n",
    "# Compute the ambiguity metric values by subtracting the percent values from 100\n",
    "ambiguity_table = 100 - percent_table\n",
    "\n",
    "# Round the values in the ambiguity table to 2 decimal places\n",
    "ambiguity_table = ambiguity_table.round(2)\n",
    "\n",
    "# Print the ambiguity table\n",
    "print(ambiguity_table)\n",
    "\n",
    "ambiguity_counts = {}\n",
    "\n",
    "# Loop through each value in the ambiguity table and count the number of occurrences\n",
    "for ambiguity_value in ambiguity_table.values.flatten():\n",
    "    if ambiguity_value < 50.01:\n",
    "        if ambiguity_value in ambiguity_counts:\n",
    "            ambiguity_counts[ambiguity_value] += 1\n",
    "        else:\n",
    "            ambiguity_counts[ambiguity_value] = 1\n",
    "\n",
    "\n",
    "# Sort the dictionary items by their keys\n",
    "ambiguity_dict = dict(sorted(ambiguity_counts.items(), key=lambda x: x[0]))\n",
    "\n",
    "# Print the sorted dictionary\n",
    "print(ambiguity_dict)\n"
   ]
  },
  {
   "cell_type": "code",
   "execution_count": 31,
   "id": "08ddcc86",
   "metadata": {},
   "outputs": [
    {
     "data": {
      "image/png": "[encoded data removed]",
      "text/plain": [
       "<Figure size 432x288 with 1 Axes>"
      ]
     },
     "metadata": {
      "needs_background": "light"
     },
     "output_type": "display_data"
    }
   ],
   "source": [
    "# `ambiguity_dict` is the sorted dictionary you created earlier\n",
    "x_values = list(ambiguity_dict.keys())\n",
    "y_values = list(ambiguity_dict.values())\n",
    "\n",
    "# Calculate the percentage of each y_value over the total number of brands\n",
    "total_brands = 5\n",
    "y_percentages = [(count/total_brands)*100 for count in y_values]\n",
    "\n",
    "# Plot the percentage values on a bar chart\n",
    "plt.bar(x_values, y_percentages)\n",
    "plt.xlabel('Ambiguity of Gender using brands')\n",
    "plt.ylabel('Percentage wise Distribution of Brands')\n",
    "plt.title('Ambiguity Value Distribution')\n",
    "plt.show()"
   ]
  },
  {
   "cell_type": "code",
   "execution_count": null,
   "id": "181dd144",
   "metadata": {},
   "outputs": [],
   "source": []
  },
  {
   "cell_type": "code",
   "execution_count": null,
   "id": "1b266fc8",
   "metadata": {},
   "outputs": [],
   "source": []
  },
  {
   "cell_type": "code",
   "execution_count": null,
   "id": "b73ed78a",
   "metadata": {},
   "outputs": [],
   "source": []
  }
 ],
 "metadata": {
  "kernelspec": {
   "display_name": "Python 3",
   "language": "python",
   "name": "python3"
  },
  "language_info": {
   "codemirror_mode": {
    "name": "ipython",
    "version": 3
   },
   "file_extension": ".py",
   "mimetype": "text/x-python",
   "name": "python",
   "nbconvert_exporter": "python",
   "pygments_lexer": "ipython3",
   "version": "3.8.8"
  }
 },
 "nbformat": 4,
 "nbformat_minor": 5
}
