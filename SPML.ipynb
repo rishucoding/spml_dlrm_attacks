{
 "cells": [
  {
   "cell_type": "code",
   "execution_count": 35,
   "id": "178ddaa4",
   "metadata": {},
   "outputs": [],
   "source": [
    "import pandas as pd\n",
    "import csv\n",
    "import matplotlib.pyplot as plt"
   ]
  },
  {
   "cell_type": "code",
   "execution_count": 36,
   "id": "ef75df88",
   "metadata": {},
   "outputs": [
    {
     "data": {
      "text/plain": [
       "'\\nCHUNK_SIZE = 1000 # Number of rows to read at a time\\nheader_written = False\\n\\nwith open(\"behavior_log.csv\", \"r\") as in_file:\\n    reader = csv.reader(in_file)\\n    header = next(reader)\\n\\n    with open(\"buy_behavior_log.csv\", \"a\", newline=\\'\\') as out_file:\\n        writer = csv.writer(out_file)\\n        if not header_written:\\n            writer.writerow(header)\\n            header_written = True\\n\\n        chunk = []\\n        for i, row in enumerate(reader):\\n            if row[2] == \"buy\":\\n                chunk.append(row)\\n            if (i + 1) % CHUNK_SIZE == 0:\\n                writer.writerows(chunk)\\n                chunk = []\\n        writer.writerows(chunk)\\n#In this code, the CHUNK_SIZE variable determines the number of rows to be read and processed at a time.\\n# Use this code to generate buy_behaviour_log.csv file.\\n'"
      ]
     },
     "execution_count": 36,
     "metadata": {},
     "output_type": "execute_result"
    }
   ],
   "source": [
    "\"\"\"\n",
    "CHUNK_SIZE = 1000 # Number of rows to read at a time\n",
    "header_written = False\n",
    "\n",
    "with open(\"behavior_log.csv\", \"r\") as in_file:\n",
    "    reader = csv.reader(in_file)\n",
    "    header = next(reader)\n",
    "\n",
    "    with open(\"buy_behavior_log.csv\", \"a\", newline='') as out_file:\n",
    "        writer = csv.writer(out_file)\n",
    "        if not header_written:\n",
    "            writer.writerow(header)\n",
    "            header_written = True\n",
    "\n",
    "        chunk = []\n",
    "        for i, row in enumerate(reader):\n",
    "            if row[2] == \"buy\":\n",
    "                chunk.append(row)\n",
    "            if (i + 1) % CHUNK_SIZE == 0:\n",
    "                writer.writerows(chunk)\n",
    "                chunk = []\n",
    "        writer.writerows(chunk)\n",
    "#In this code, the CHUNK_SIZE variable determines the number of rows to be read and processed at a time.\n",
    "# Use this code to generate buy_behaviour_log.csv file.\n",
    "\"\"\"\n"
   ]
  },
  {
   "cell_type": "code",
   "execution_count": 37,
   "id": "ae999c3e",
   "metadata": {},
   "outputs": [],
   "source": [
    "#ad_feature = pd.read_csv('PycharmProjects/SPML/ad_feature.csv')\n",
    "ad_feature = pd.read_csv('ad_feature.csv')"
   ]
  },
  {
   "cell_type": "code",
   "execution_count": 38,
   "id": "92697a5e",
   "metadata": {},
   "outputs": [],
   "source": [
    "#raw_sample = pd.read_csv('PycharmProjects/SPML/raw_sample.csv')\n",
    "raw_sample = pd.read_csv('raw_sample.csv')"
   ]
  },
  {
   "cell_type": "code",
   "execution_count": 39,
   "id": "4729c6e0",
   "metadata": {},
   "outputs": [],
   "source": [
    "#user_behavior_log = pd.read_csv('PycharmProjects/SPML/buy_behavior_log.csv')\n",
    "buy_behavior = pd.read_csv('buy_behavior_log.csv')\n"
   ]
  },
  {
   "cell_type": "code",
   "execution_count": 54,
   "id": "4af41788",
   "metadata": {},
   "outputs": [
    {
     "name": "stdout",
     "output_type": "stream",
     "text": [
      "[5 2 4 6 3 1 0]\n"
     ]
    }
   ],
   "source": [
    "#user_profile = pd.read_csv('PycharmProjects/SPML/user_profile.csv')\n",
    "user_profile = pd.read_csv('user_profile.csv')\n",
    "\n",
    "unique_age_levels = user_profile[\"age_level\"].unique()\n",
    "\n",
    "# Print the unique values of age_level\n",
    "print(unique_age_levels)"
   ]
  },
  {
   "cell_type": "code",
   "execution_count": 41,
   "id": "7104cf53",
   "metadata": {},
   "outputs": [],
   "source": [
    "clicks_brand = pd.merge(raw_sample, ad_feature[['brand', 'adgroup_id']], how='left', on='adgroup_id')"
   ]
  },
  {
   "cell_type": "code",
   "execution_count": 42,
   "id": "9baf0645",
   "metadata": {},
   "outputs": [
    {
     "name": "stdout",
     "output_type": "stream",
     "text": [
      "          userid  cms_segid  cms_group_id  final_gender_code  age_level  \\\n",
      "0            234          0             5                  2          5   \n",
      "1            523          5             2                  2          2   \n",
      "2            612          0             8                  1          2   \n",
      "3           1670          0             4                  2          4   \n",
      "4           2545          0            10                  1          4   \n",
      "...          ...        ...           ...                ...        ...   \n",
      "1061763  1137955          0             3                  2          3   \n",
      "1061764  1138545          0             4                  2          4   \n",
      "1061765  1138902         67             9                  1          3   \n",
      "1061766  1139632          0             7                  1          1   \n",
      "1061767  1139870          8             2                  2          2   \n",
      "\n",
      "         pvalue_level  shopping_level  occupation  new_user_class_level   \n",
      "0                 NaN               3           0                    3.0  \n",
      "1                 1.0               3           1                    2.0  \n",
      "2                 2.0               3           0                    NaN  \n",
      "3                 NaN               1           0                    NaN  \n",
      "4                 NaN               3           0                    NaN  \n",
      "...               ...             ...         ...                    ...  \n",
      "1061763           NaN               3           0                    4.0  \n",
      "1061764           NaN               3           0                    3.0  \n",
      "1061765           2.0               3           0                    4.0  \n",
      "1061766           NaN               1           0                    NaN  \n",
      "1061767           2.0               3           0                    3.0  \n",
      "\n",
      "[1061768 rows x 9 columns]\n",
      "            user  time_stamp btag  cate   brand\n",
      "0         916958  1493811673  buy   123   97176\n",
      "1         916958  1493811809  buy   123   97176\n",
      "2         628854  1493781424  buy  4262  370203\n",
      "3         623496  1493810730  buy  4262  370203\n",
      "4        1099015  1493774927  buy  9390  347564\n",
      "...          ...         ...  ...   ...     ...\n",
      "9115914   191188  1493539199  buy  6261  419804\n",
      "9115915   564686  1493544321  buy  6806  247789\n",
      "9115916     4721  1493532722  buy  4288  105308\n",
      "9115917   493898  1493538685  buy  8056    1703\n",
      "9115918   228116  1493522902  buy  6427  346455\n",
      "\n",
      "[9115919 rows x 5 columns]\n"
     ]
    }
   ],
   "source": [
    "print(user_profile)\n",
    "\n",
    "print(buy_behavior)"
   ]
  },
  {
   "cell_type": "code",
   "execution_count": 43,
   "id": "f66b20c6",
   "metadata": {},
   "outputs": [],
   "source": [
    "clicks_with_brand = pd.merge(left=raw_sample, right=ad_feature, how='inner', on='adgroup_id')"
   ]
  },
  {
   "cell_type": "code",
   "execution_count": 66,
   "id": "910b40a5",
   "metadata": {},
   "outputs": [
    {
     "name": "stdout",
     "output_type": "stream",
     "text": [
      "age_level    0      1       2       3       4      5     6\n",
      "brand                                                     \n",
      "224985      13   1563    6653   12724   11363   7732   751\n",
      "247789      23   3422   10764   19509   17115  11737  1265\n",
      "370203     116  49809  170628  196661  129074  93324  7336\n",
      "388700      29  13554   43388   48397   28786  21409  1902\n",
      "425589      26   1584    5714   10794    9327   7659   899\n"
     ]
    },
    {
     "data": {
      "image/png": "[encoded data removed]",
      "text/plain": [
       "<Figure size 432x288 with 1 Axes>"
      ]
     },
     "metadata": {
      "needs_background": "light"
     },
     "output_type": "display_data"
    }
   ],
   "source": [
    "clicks_user_brand = pd.merge(clicks_brand, user_profile[['final_gender_code', 'age_level', 'userid']], how='left',\n",
    "                             left_on='user', right_on='userid')\n",
    "#filter out columns not required\n",
    "#join columns with behavior log and user datasets\n",
    "\n",
    "top_5_brands = buy_behavior['brand'].value_counts().head(5).index.tolist()\n",
    "top_5_buy_behavior = buy_behavior[buy_behavior['brand'].isin(top_5_brands)]\n",
    "\n",
    "\n",
    "# Merge the top_5_buy_behavior and user_profile dataframes on the 'userid' column\n",
    "merged_df = pd.merge(top_5_buy_behavior, user_profile, left_on='user', right_on='userid')\n",
    "\n",
    "\n",
    "# Group the merged dataframe by the 'age_level' and 'brand' columns and get the count of each group\n",
    "grouped_df = merged_df.groupby(['age_level', 'brand'], as_index=False).count()[['age_level', 'brand', 'user']]\n",
    "\n",
    "\n",
    "# Pivot the grouped dataframe to create a pivot table with the 'age_level' column as the index, the 'brand' column as the columns and the 'user' column as the values\n",
    "pivot_table = grouped_df.pivot(index='brand', columns='age_level', values='user')\n",
    "print(pivot_table)\n",
    "\n",
    "# Plot the pivot table as a bar plot\n",
    "pivot_table.plot(kind='bar', stacked=True)\n",
    "\n",
    "# Add labels to the x and y axis and add a title to the plot\n",
    "plt.xlabel('Brands', rotation = 'horizontal')\n",
    "plt.ylabel('Number of Users')\n",
    "plt.title('Interested Brands vs Users (based on age_levels) (Top 5 Brands)')\n",
    "\n",
    "# Show the plot\n",
    "plt.show()\n",
    "\n",
    "\n",
    "\n",
    "\n",
    "\n",
    "\n",
    "\n",
    "\n",
    "\n",
    "\n",
    "\n"
   ]
  },
  {
   "cell_type": "code",
   "execution_count": 63,
   "id": "cc4cded0",
   "metadata": {},
   "outputs": [
    {
     "name": "stdout",
     "output_type": "stream",
     "text": [
      "age_level     0     1      2      3      4      5     6\n",
      "brand                                                  \n",
      "224985     0.03  3.83  16.31  31.19  27.85  18.95  1.84\n",
      "247789     0.04  5.36  16.86  30.56  26.81  18.39  1.98\n",
      "370203     0.02  7.70  26.37  30.40  19.95  14.43  1.13\n",
      "388700     0.02  8.61  27.55  30.74  18.28  13.60  1.21\n",
      "425589     0.07  4.40  15.87  29.98  25.91  21.27  2.50\n"
     ]
    }
   ],
   "source": [
    "###### Following is a table generated that shows for top 5 brands how each age group interacts with each brand #########\n",
    "##### Using this information we can create dummy figure 4  #####\n",
    "\n",
    "\n",
    "# Get the total number of users for each age level\n",
    "brand_totals = pivot_table.sum(axis=1)\n",
    "\n",
    "# Divide the values in the pivot table by the age level totals and multiply by 100 to get the percent values\n",
    "percent_table = (pivot_table / brand_totals.values.reshape(-1, 1)) * 100\n",
    "\n",
    "# Round the values in the percent table to 2 decimal places\n",
    "percent_table = percent_table.round(2)\n",
    "\n",
    "# Print the percent table\n",
    "print(percent_table)"
   ]
  },
  {
   "cell_type": "code",
   "execution_count": null,
   "id": "74e78801",
   "metadata": {},
   "outputs": [],
   "source": []
  },
  {
   "cell_type": "code",
   "execution_count": null,
   "id": "9010eb3b",
   "metadata": {},
   "outputs": [],
   "source": []
  },
  {
   "cell_type": "code",
   "execution_count": 47,
   "id": "07429abc",
   "metadata": {},
   "outputs": [],
   "source": [
    "brands = clicks_user_brand.brand.unique()"
   ]
  },
  {
   "cell_type": "code",
   "execution_count": 48,
   "id": "2b6c49fc",
   "metadata": {},
   "outputs": [
    {
     "name": "stdout",
     "output_type": "stream",
     "text": [
      "[ 2. nan  5.  3.  4.  6.  1.  0.]\n",
      "[0.0, 1.0, 2.0, 3.0, 4.0, 5.0, 6.0]\n"
     ]
    }
   ],
   "source": [
    "print((clicks_user_brand.age_level.unique()))\n",
    "age_levels = [x for x in clicks_user_brand.age_level.unique() if x==x]\n",
    "age_levels.sort()\n",
    "print(age_levels)"
   ]
  },
  {
   "cell_type": "code",
   "execution_count": 49,
   "id": "ba988134",
   "metadata": {},
   "outputs": [
    {
     "name": "stdout",
     "output_type": "stream",
     "text": [
      "99815\n"
     ]
    }
   ],
   "source": [
    "print(len(brands))"
   ]
  },
  {
   "cell_type": "code",
   "execution_count": 50,
   "id": "5922ce75",
   "metadata": {},
   "outputs": [
    {
     "name": "stdout",
     "output_type": "stream",
     "text": [
      "99815\n"
     ]
    }
   ],
   "source": [
    "print(len(brands))"
   ]
  },
  {
   "cell_type": "code",
   "execution_count": 51,
   "id": "ac93cd85",
   "metadata": {},
   "outputs": [
    {
     "ename": "SyntaxError",
     "evalue": "invalid syntax (<ipython-input-51-d128c773e28c>, line 13)",
     "output_type": "error",
     "traceback": [
      "\u001b[1;36m  File \u001b[1;32m\"<ipython-input-51-d128c773e28c>\"\u001b[1;36m, line \u001b[1;32m13\u001b[0m\n\u001b[1;33m    brand_count[brand = age_perc_list]\u001b[0m\n\u001b[1;37m                      ^\u001b[0m\n\u001b[1;31mSyntaxError\u001b[0m\u001b[1;31m:\u001b[0m invalid syntax\n"
     ]
    }
   ],
   "source": [
    "#brand_id : [count of brand query for each age group]\n",
    "#debug\n",
    "brand_count = {}\n",
    "for brand in brands[:2]:\n",
    "    print(brand)\n",
    "    brand_clicks = clicks_user_brand.loc[clicks_user_brand['brand'] == brand]\n",
    "    total_queries = brand_clicks[brand_clicks['age_level'].isin(age_levels)].shape[0]\n",
    "    age_perc_list =[]\n",
    "    for age_level in age_levels:\n",
    "        queries_from_age = clicks_user_brand.loc[clicks_user_brand['age_level'] == age_level].shape[0]\n",
    "        age_percentage = (queries_from_age/total_queries)*100\n",
    "        age_perc_list.append(age_percentage)\n",
    "    brand_count[brand = age_perc_list]\n",
    "    "
   ]
  },
  {
   "cell_type": "code",
   "execution_count": null,
   "id": "c7bd7581",
   "metadata": {},
   "outputs": [],
   "source": [
    "print(brand_count)"
   ]
  },
  {
   "cell_type": "code",
   "execution_count": 56,
   "id": "9fec658e",
   "metadata": {},
   "outputs": [
    {
     "data": {
      "image/png": "[encoded data removed]",
      "text/plain": [
       "<Figure size 432x288 with 1 Axes>"
      ]
     },
     "metadata": {
      "needs_background": "light"
     },
     "output_type": "display_data"
    }
   ],
   "source": [
    "####### Generating figure 5 results #########\n",
    "\n",
    "df = pd.merge(buy_behavior, user_profile, left_on=\"user\", right_on=\"userid\")\n",
    "\n",
    "# Get the top 5 brands\n",
    "top_brands = df[\"brand\"].value_counts().nlargest(5).index.tolist()\n",
    "\n",
    "# Filter the DataFrame to only include the top 5 brands\n",
    "df = df[df[\"brand\"].isin(top_brands)]\n",
    "\n",
    "# Create a pivot table to get the age_level frequency for each brand\n",
    "pivot_table = pd.pivot_table(df, values=\"user\", index=\"brand\", columns=\"age_level\", aggfunc=\"count\")\n",
    "\n",
    "# Normalize the pivot table to get the percentage of each age_level for each brand\n",
    "normalized_table = pivot_table.div(pivot_table.sum(axis=1), axis=0)\n",
    "\n",
    "# Calculate the ambiguity for each brand\n",
    "ambiguity = 100 - normalized_table.max(axis=1)\n",
    "\n",
    "# Plot the ambiguity as a bar chart\n",
    "ambiguity.plot(kind=\"bar\")\n",
    "\n",
    "# Add labels to the x-axis and y-axis\n",
    "plt.xlabel(\"Brand\")\n",
    "plt.ylabel(\"Ambiguity (%)\")\n",
    "\n",
    "# Show the plot\n",
    "plt.show()"
   ]
  },
  {
   "cell_type": "code",
   "execution_count": null,
   "id": "6601880e",
   "metadata": {},
   "outputs": [],
   "source": []
  }
 ],
 "metadata": {
  "kernelspec": {
   "display_name": "Python 3",
   "language": "python",
   "name": "python3"
  },
  "language_info": {
   "codemirror_mode": {
    "name": "ipython",
    "version": 3
   },
   "file_extension": ".py",
   "mimetype": "text/x-python",
   "name": "python",
   "nbconvert_exporter": "python",
   "pygments_lexer": "ipython3",
   "version": "3.8.8"
  }
 },
 "nbformat": 4,
 "nbformat_minor": 5
}
