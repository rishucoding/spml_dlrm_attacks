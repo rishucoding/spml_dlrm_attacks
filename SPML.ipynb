{
 "cells": [
  {
   "cell_type": "code",
   "execution_count": 35,
   "id": "178ddaa4",
   "metadata": {},
   "outputs": [],
   "source": [
    "import pandas as pd\n",
    "import csv\n",
    "import matplotlib.pyplot as plt"
   ]
  },
  {
   "cell_type": "code",
   "execution_count": 36,
   "id": "702b9f13",
   "metadata": {},
   "outputs": [
    {
     "data": {
      "text/plain": [
       "'\\nCHUNK_SIZE = 1000 # Number of rows to read at a time\\nheader_written = False\\n\\nwith open(\"behavior_log.csv\", \"r\") as in_file:\\n    reader = csv.reader(in_file)\\n    header = next(reader)\\n\\n    with open(\"buy_behavior_log.csv\", \"a\", newline=\\'\\') as out_file:\\n        writer = csv.writer(out_file)\\n        if not header_written:\\n            writer.writerow(header)\\n            header_written = True\\n\\n        chunk = []\\n        for i, row in enumerate(reader):\\n            if row[2] == \"buy\":\\n                chunk.append(row)\\n            if (i + 1) % CHUNK_SIZE == 0:\\n                writer.writerows(chunk)\\n                chunk = []\\n        writer.writerows(chunk)\\n#In this code, the CHUNK_SIZE variable determines the number of rows to be read and processed at a time.\\n# Use this code to generate buy_behaviour_log.csv file.\\n'"
      ]
     },
     "execution_count": 36,
     "metadata": {},
     "output_type": "execute_result"
    }
   ],
   "source": [
    "\"\"\"\n",
    "CHUNK_SIZE = 1000 # Number of rows to read at a time\n",
    "header_written = False\n",
    "\n",
    "with open(\"behavior_log.csv\", \"r\") as in_file:\n",
    "    reader = csv.reader(in_file)\n",
    "    header = next(reader)\n",
    "\n",
    "    with open(\"buy_behavior_log.csv\", \"a\", newline='') as out_file:\n",
    "        writer = csv.writer(out_file)\n",
    "        if not header_written:\n",
    "            writer.writerow(header)\n",
    "            header_written = True\n",
    "\n",
    "        chunk = []\n",
    "        for i, row in enumerate(reader):\n",
    "            if row[2] == \"buy\":\n",
    "                chunk.append(row)\n",
    "            if (i + 1) % CHUNK_SIZE == 0:\n",
    "                writer.writerows(chunk)\n",
    "                chunk = []\n",
    "        writer.writerows(chunk)\n",
    "#In this code, the CHUNK_SIZE variable determines the number of rows to be read and processed at a time.\n",
    "# Use this code to generate buy_behaviour_log.csv file.\n",
    "\"\"\"\n"
   ]
  },
  {
   "cell_type": "code",
   "execution_count": 37,
   "id": "ae999c3e",
   "metadata": {},
   "outputs": [],
   "source": [
    "#ad_feature = pd.read_csv('PycharmProjects/SPML/ad_feature.csv')\n",
    "ad_feature = pd.read_csv('ad_feature.csv')"
   ]
  },
  {
   "cell_type": "code",
   "execution_count": 38,
   "id": "92697a5e",
   "metadata": {},
   "outputs": [],
   "source": [
    "#raw_sample = pd.read_csv('PycharmProjects/SPML/raw_sample.csv')\n",
    "raw_sample = pd.read_csv('raw_sample.csv')"
   ]
  },
  {
   "cell_type": "code",
   "execution_count": 39,
   "id": "4729c6e0",
   "metadata": {},
   "outputs": [],
   "source": [
    "#user_behavior_log = pd.read_csv('PycharmProjects/SPML/buy_behavior_log.csv')\n",
    "buy_behavior = pd.read_csv('buy_behavior_log.csv')\n"
   ]
  },
  {
   "cell_type": "code",
   "execution_count": 54,
   "id": "4af41788",
   "metadata": {},
   "outputs": [
    {
     "name": "stdout",
     "output_type": "stream",
     "text": [
      "[5 2 4 6 3 1 0]\n"
     ]
    }
   ],
   "source": [
    "#user_profile = pd.read_csv('PycharmProjects/SPML/user_profile.csv')\n",
    "user_profile = pd.read_csv('user_profile.csv')\n",
    "\n",
    "unique_age_levels = user_profile[\"age_level\"].unique()\n",
    "\n",
    "# Print the unique values of age_level\n",
    "print(unique_age_levels)"
   ]
  },
  {
   "cell_type": "code",
   "execution_count": 41,
   "id": "7104cf53",
   "metadata": {},
   "outputs": [],
   "source": [
    "clicks_brand = pd.merge(raw_sample, ad_feature[['brand', 'adgroup_id']], how='left', on='adgroup_id')"
   ]
  },
  {
   "cell_type": "code",
   "execution_count": 42,
   "id": "9baf0645",
   "metadata": {},
   "outputs": [
    {
     "name": "stdout",
     "output_type": "stream",
     "text": [
      "          userid  cms_segid  cms_group_id  final_gender_code  age_level  \\\n",
      "0            234          0             5                  2          5   \n",
      "1            523          5             2                  2          2   \n",
      "2            612          0             8                  1          2   \n",
      "3           1670          0             4                  2          4   \n",
      "4           2545          0            10                  1          4   \n",
      "...          ...        ...           ...                ...        ...   \n",
      "1061763  1137955          0             3                  2          3   \n",
      "1061764  1138545          0             4                  2          4   \n",
      "1061765  1138902         67             9                  1          3   \n",
      "1061766  1139632          0             7                  1          1   \n",
      "1061767  1139870          8             2                  2          2   \n",
      "\n",
      "         pvalue_level  shopping_level  occupation  new_user_class_level   \n",
      "0                 NaN               3           0                    3.0  \n",
      "1                 1.0               3           1                    2.0  \n",
      "2                 2.0               3           0                    NaN  \n",
      "3                 NaN               1           0                    NaN  \n",
      "4                 NaN               3           0                    NaN  \n",
      "...               ...             ...         ...                    ...  \n",
      "1061763           NaN               3           0                    4.0  \n",
      "1061764           NaN               3           0                    3.0  \n",
      "1061765           2.0               3           0                    4.0  \n",
      "1061766           NaN               1           0                    NaN  \n",
      "1061767           2.0               3           0                    3.0  \n",
      "\n",
      "[1061768 rows x 9 columns]\n",
      "            user  time_stamp btag  cate   brand\n",
      "0         916958  1493811673  buy   123   97176\n",
      "1         916958  1493811809  buy   123   97176\n",
      "2         628854  1493781424  buy  4262  370203\n",
      "3         623496  1493810730  buy  4262  370203\n",
      "4        1099015  1493774927  buy  9390  347564\n",
      "...          ...         ...  ...   ...     ...\n",
      "9115914   191188  1493539199  buy  6261  419804\n",
      "9115915   564686  1493544321  buy  6806  247789\n",
      "9115916     4721  1493532722  buy  4288  105308\n",
      "9115917   493898  1493538685  buy  8056    1703\n",
      "9115918   228116  1493522902  buy  6427  346455\n",
      "\n",
      "[9115919 rows x 5 columns]\n"
     ]
    }
   ],
   "source": [
    "print(user_profile)\n",
    "\n",
    "print(buy_behavior)"
   ]
  },
  {
   "cell_type": "code",
   "execution_count": 43,
   "id": "f66b20c6",
   "metadata": {},
   "outputs": [],
   "source": [
    "clicks_with_brand = pd.merge(left=raw_sample, right=ad_feature, how='inner', on='adgroup_id')"
   ]
  },
  {
   "cell_type": "code",
   "execution_count": 53,
   "id": "910b40a5",
   "metadata": {},
   "outputs": [
    {
     "data": {
      "image/png": "[encoded data removed]",
      "text/plain": [
       "<Figure size 432x288 with 1 Axes>"
      ]
     },
     "metadata": {
      "needs_background": "light"
     },
     "output_type": "display_data"
    }
   ],
   "source": [
    "clicks_user_brand = pd.merge(clicks_brand, user_profile[['final_gender_code', 'age_level', 'userid']], how='left',\n",
    "                             left_on='user', right_on='userid')\n",
    "#filter out columns not required\n",
    "#join columns with behavior log and user datasets\n",
    "\n",
    "top_5_brands = buy_behavior['brand'].value_counts().head(5).index.tolist()\n",
    "top_5_buy_behavior = buy_behavior[buy_behavior['brand'].isin(top_5_brands)]\n",
    "\n",
    "# Merge the top_5_buy_behavior and user_profile dataframes on the 'userid' column\n",
    "merged_df = pd.merge(top_5_buy_behavior, user_profile, left_on='user', right_on='userid')\n",
    "\n",
    "# Group the merged dataframe by the 'age_level' and 'brand' columns and get the count of each group\n",
    "grouped_df = merged_df.groupby(['age_level', 'brand'], as_index=False).count()[['age_level', 'brand', 'user']]\n",
    "\n",
    "# Pivot the grouped dataframe to create a pivot table with the 'age_level' column as the index, the 'brand' column as the columns and the 'user' column as the values\n",
    "pivot_table = grouped_df.pivot(index='age_level', columns='brand', values='user')\n",
    "\n",
    "\n",
    "# Plot the pivot table as a bar plot\n",
    "pivot_table.plot(kind='bar', stacked=True)\n",
    "\n",
    "# Add labels to the x and y axis and add a title to the plot\n",
    "plt.xlabel('Age Level')\n",
    "plt.ylabel('Number of Users')\n",
    "plt.title('Age Level vs Interested Brands (Top 5 Brands)')\n",
    "\n",
    "# Show the plot\n",
    "plt.show()\n",
    "\n",
    "\n",
    "\n",
    "\n",
    "\n",
    "\n",
    "\n",
    "\n",
    "\n",
    "\n",
    "\n"
   ]
  },
  {
   "cell_type": "code",
   "execution_count": 45,
   "id": "cc4cded0",
   "metadata": {},
   "outputs": [
    {
     "name": "stdout",
     "output_type": "stream",
     "text": [
      "brand      224985  247789  370203  388700  425589\n",
      "age_level                                        \n",
      "0            6.28   11.11   56.04   14.01   12.56\n",
      "1            2.24    4.89   71.22   19.38    2.27\n",
      "2            2.81    4.54   71.95   18.30    2.41\n",
      "3            4.42    6.77   68.26   16.80    3.75\n",
      "4            5.81    8.75   65.97   14.71    4.77\n",
      "5            5.45    8.27   65.79   15.09    5.40\n",
      "6            6.18   10.41   60.36   15.65    7.40\n"
     ]
    }
   ],
   "source": [
    "###### Following is a table generated that shows for top 5 brands how each age group interacts with each brand #########\n",
    "##### Using this information we can create dummy figure 4  #####\n",
    "\n",
    "\n",
    "# Get the total number of users for each age level\n",
    "age_level_totals = pivot_table.sum(axis=1)\n",
    "\n",
    "# Divide the values in the pivot table by the age level totals and multiply by 100 to get the percent values\n",
    "percent_table = (pivot_table / age_level_totals.values.reshape(-1, 1)) * 100\n",
    "\n",
    "# Round the values in the percent table to 2 decimal places\n",
    "percent_table = percent_table.round(2)\n",
    "\n",
    "# Print the percent table\n",
    "print(percent_table)"
   ]
  },
  {
   "cell_type": "code",
   "execution_count": null,
   "id": "f035b3e1",
   "metadata": {},
   "outputs": [],
   "source": []
  },
  {
   "cell_type": "code",
   "execution_count": null,
   "id": "01764a76",
   "metadata": {},
   "outputs": [],
   "source": []
  },
  {
   "cell_type": "code",
   "execution_count": 47,
   "id": "07429abc",
   "metadata": {},
   "outputs": [],
   "source": [
    "brands = clicks_user_brand.brand.unique()"
   ]
  },
  {
   "cell_type": "code",
   "execution_count": 48,
   "id": "2b6c49fc",
   "metadata": {},
   "outputs": [
    {
     "name": "stdout",
     "output_type": "stream",
     "text": [
      "[ 2. nan  5.  3.  4.  6.  1.  0.]\n",
      "[0.0, 1.0, 2.0, 3.0, 4.0, 5.0, 6.0]\n"
     ]
    }
   ],
   "source": [
    "print((clicks_user_brand.age_level.unique()))\n",
    "age_levels = [x for x in clicks_user_brand.age_level.unique() if x==x]\n",
    "age_levels.sort()\n",
    "print(age_levels)"
   ]
  },
  {
   "cell_type": "code",
   "execution_count": 49,
   "id": "ba988134",
   "metadata": {},
   "outputs": [
    {
     "name": "stdout",
     "output_type": "stream",
     "text": [
      "99815\n"
     ]
    }
   ],
   "source": [
    "print(len(brands))"
   ]
  },
  {
   "cell_type": "code",
   "execution_count": 50,
   "id": "5922ce75",
   "metadata": {},
   "outputs": [
    {
     "name": "stdout",
     "output_type": "stream",
     "text": [
      "99815\n"
     ]
    }
   ],
   "source": [
    "print(len(brands))"
   ]
  },
  {
   "cell_type": "code",
   "execution_count": 51,
   "id": "ac93cd85",
   "metadata": {},
   "outputs": [
    {
     "ename": "SyntaxError",
     "evalue": "invalid syntax (<ipython-input-51-d128c773e28c>, line 13)",
     "output_type": "error",
     "traceback": [
      "\u001b[1;36m  File \u001b[1;32m\"<ipython-input-51-d128c773e28c>\"\u001b[1;36m, line \u001b[1;32m13\u001b[0m\n\u001b[1;33m    brand_count[brand = age_perc_list]\u001b[0m\n\u001b[1;37m                      ^\u001b[0m\n\u001b[1;31mSyntaxError\u001b[0m\u001b[1;31m:\u001b[0m invalid syntax\n"
     ]
    }
   ],
   "source": [
    "#brand_id : [count of brand query for each age group]\n",
    "#debug\n",
    "brand_count = {}\n",
    "for brand in brands[:2]:\n",
    "    print(brand)\n",
    "    brand_clicks = clicks_user_brand.loc[clicks_user_brand['brand'] == brand]\n",
    "    total_queries = brand_clicks[brand_clicks['age_level'].isin(age_levels)].shape[0]\n",
    "    age_perc_list =[]\n",
    "    for age_level in age_levels:\n",
    "        queries_from_age = clicks_user_brand.loc[clicks_user_brand['age_level'] == age_level].shape[0]\n",
    "        age_percentage = (queries_from_age/total_queries)*100\n",
    "        age_perc_list.append(age_percentage)\n",
    "    brand_count[brand = age_perc_list]\n",
    "    "
   ]
  },
  {
   "cell_type": "code",
   "execution_count": null,
   "id": "c7bd7581",
   "metadata": {},
   "outputs": [],
   "source": [
    "print(brand_count)"
   ]
  },
  {
   "cell_type": "code",
   "execution_count": null,
   "id": "9fec658e",
   "metadata": {},
   "outputs": [],
   "source": []
  }
 ],
 "metadata": {
  "kernelspec": {
   "display_name": "Python 3",
   "language": "python",
   "name": "python3"
  },
  "language_info": {
   "codemirror_mode": {
    "name": "ipython",
    "version": 3
   },
   "file_extension": ".py",
   "mimetype": "text/x-python",
   "name": "python",
   "nbconvert_exporter": "python",
   "pygments_lexer": "ipython3",
   "version": "3.8.8"
  }
 },
 "nbformat": 4,
 "nbformat_minor": 5
}
