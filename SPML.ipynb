{
 "cells": [
  {
   "cell_type": "code",
   "execution_count": 12,
   "id": "178ddaa4",
   "metadata": {},
   "outputs": [],
   "source": [
    "import pandas as pd\n",
    "import csv"
   ]
  },
  {
   "cell_type": "code",
   "execution_count": 13,
   "id": "ae999c3e",
   "metadata": {},
   "outputs": [],
   "source": [
    "#ad_feature = pd.read_csv('PycharmProjects/SPML/ad_feature.csv')\n",
    "ad_feature = pd.read_csv('ad_feature.csv')"
   ]
  },
  {
   "cell_type": "code",
   "execution_count": 14,
   "id": "92697a5e",
   "metadata": {},
   "outputs": [],
   "source": [
    "#raw_sample = pd.read_csv('PycharmProjects/SPML/raw_sample.csv')\n",
    "raw_sample = pd.read_csv('raw_sample.csv')"
   ]
  },
  {
   "cell_type": "code",
   "execution_count": 19,
   "id": "4729c6e0",
   "metadata": {},
   "outputs": [],
   "source": [
    "CHUNK_SIZE = 1000 # Number of rows to read at a time\n",
    "header_written = False\n",
    "\n",
    "with open(\"behavior_log.csv\", \"r\") as in_file:\n",
    "    reader = csv.reader(in_file)\n",
    "    header = next(reader)\n",
    "\n",
    "    with open(\"buy_behavior_log.csv\", \"a\", newline='') as out_file:\n",
    "        writer = csv.writer(out_file)\n",
    "        if not header_written:\n",
    "            writer.writerow(header)\n",
    "            header_written = True\n",
    "\n",
    "        chunk = []\n",
    "        for i, row in enumerate(reader):\n",
    "            if row[2] == \"buy\":\n",
    "                chunk.append(row)\n",
    "            if (i + 1) % CHUNK_SIZE == 0:\n",
    "                writer.writerows(chunk)\n",
    "                chunk = []\n",
    "        writer.writerows(chunk)\n",
    "#In this code, the CHUNK_SIZE variable determines the number of rows to be read and processed at a time.\n",
    "\n",
    "\n",
    "\n",
    "\n"
   ]
  },
  {
   "cell_type": "code",
   "execution_count": 6,
   "id": "4af41788",
   "metadata": {},
   "outputs": [],
   "source": [
    "#user_profile = pd.read_csv('PycharmProjects/SPML/user_profile.csv')\n",
    "user_profile = pd.read_csv('user_profile.csv')\n",
    "# add behavior log dataset"
   ]
  },
  {
   "cell_type": "code",
   "execution_count": 7,
   "id": "7104cf53",
   "metadata": {},
   "outputs": [],
   "source": [
    "clicks_brand = pd.merge(raw_sample, ad_feature[['brand', 'adgroup_id']], how='left', on='adgroup_id')"
   ]
  },
  {
   "cell_type": "code",
   "execution_count": 9,
   "id": "9baf0645",
   "metadata": {},
   "outputs": [
    {
     "name": "stdout",
     "output_type": "stream",
     "text": [
      "          userid  cms_segid  cms_group_id  final_gender_code  age_level  \\\n",
      "0            234          0             5                  2          5   \n",
      "1            523          5             2                  2          2   \n",
      "2            612          0             8                  1          2   \n",
      "3           1670          0             4                  2          4   \n",
      "4           2545          0            10                  1          4   \n",
      "...          ...        ...           ...                ...        ...   \n",
      "1061763  1137955          0             3                  2          3   \n",
      "1061764  1138545          0             4                  2          4   \n",
      "1061765  1138902         67             9                  1          3   \n",
      "1061766  1139632          0             7                  1          1   \n",
      "1061767  1139870          8             2                  2          2   \n",
      "\n",
      "         pvalue_level  shopping_level  occupation  new_user_class_level   \n",
      "0                 NaN               3           0                    3.0  \n",
      "1                 1.0               3           1                    2.0  \n",
      "2                 2.0               3           0                    NaN  \n",
      "3                 NaN               1           0                    NaN  \n",
      "4                 NaN               3           0                    NaN  \n",
      "...               ...             ...         ...                    ...  \n",
      "1061763           NaN               3           0                    4.0  \n",
      "1061764           NaN               3           0                    3.0  \n",
      "1061765           2.0               3           0                    4.0  \n",
      "1061766           NaN               1           0                    NaN  \n",
      "1061767           2.0               3           0                    3.0  \n",
      "\n",
      "[1061768 rows x 9 columns]\n"
     ]
    }
   ],
   "source": [
    "print(user_profile)"
   ]
  },
  {
   "cell_type": "code",
   "execution_count": 7,
   "id": "f66b20c6",
   "metadata": {},
   "outputs": [],
   "source": [
    "clicks_with_brand = pd.merge(left=raw_sample, right=ad_feature, how='inner', on='adgroup_id')"
   ]
  },
  {
   "cell_type": "code",
   "execution_count": 9,
   "id": "910b40a5",
   "metadata": {},
   "outputs": [],
   "source": [
    "clicks_user_brand = pd.merge(clicks_brand, user_profile[['final_gender_code', 'age_level', 'userid']], how='left',\n",
    "                             left_on='user', right_on='userid')\n",
    "#filter out columns not required\n",
    "#join columns with behavior log and user datasets"
   ]
  },
  {
   "cell_type": "code",
   "execution_count": null,
   "id": "cc4cded0",
   "metadata": {},
   "outputs": [],
   "source": []
  },
  {
   "cell_type": "code",
   "execution_count": 10,
   "id": "07429abc",
   "metadata": {},
   "outputs": [],
   "source": [
    "brands = clicks_user_brand.brand.unique()"
   ]
  },
  {
   "cell_type": "code",
   "execution_count": 27,
   "id": "2b6c49fc",
   "metadata": {},
   "outputs": [
    {
     "name": "stdout",
     "output_type": "stream",
     "text": [
      "[ 2. nan  5.  3.  4.  6.  1.  0.]\n",
      "[0.0, 1.0, 2.0, 3.0, 4.0, 5.0, 6.0]\n"
     ]
    }
   ],
   "source": [
    "print((clicks_user_brand.age_level.unique()))\n",
    "age_levels = [x for x in clicks_user_brand.age_level.unique() if x==x]\n",
    "age_levels.sort()\n",
    "print(age_levels)"
   ]
  },
  {
   "cell_type": "code",
   "execution_count": 20,
   "id": "ba988134",
   "metadata": {},
   "outputs": [
    {
     "name": "stdout",
     "output_type": "stream",
     "text": [
      "99815\n"
     ]
    }
   ],
   "source": [
    "print(len(brands))"
   ]
  },
  {
   "cell_type": "code",
   "execution_count": null,
   "id": "5922ce75",
   "metadata": {},
   "outputs": [],
   "source": [
    "print(len(brands))"
   ]
  },
  {
   "cell_type": "code",
   "execution_count": null,
   "id": "ac93cd85",
   "metadata": {},
   "outputs": [],
   "source": [
    "#brand_id : [count of brand query for each age group]\n",
    "#debug\n",
    "brand_count = {}\n",
    "for brand in brands[:2]:\n",
    "    print(brand)\n",
    "    brand_clicks = clicks_user_brand.loc[clicks_user_brand['brand'] == brand]\n",
    "    total_queries = brand_clicks[brand_clicks['age_level'].isin(age_levels)].shape[0]\n",
    "    age_perc_list =[]\n",
    "    for age_level in age_levels:\n",
    "        queries_from_age = clicks_user_brand.loc[clicks_user_brand['age_level'] == age_level].shape[0]\n",
    "        age_percentage = (queries_from_age/total_queries)*100\n",
    "        age_perc_list.append(age_percentage)\n",
    "    brand_count[brand = age_perc_list]\n",
    "    "
   ]
  },
  {
   "cell_type": "code",
   "execution_count": null,
   "id": "c7bd7581",
   "metadata": {},
   "outputs": [],
   "source": [
    "print(brand_count)"
   ]
  },
  {
   "cell_type": "code",
   "execution_count": null,
   "id": "9fec658e",
   "metadata": {},
   "outputs": [],
   "source": []
  }
 ],
 "metadata": {
  "kernelspec": {
   "display_name": "Python 3",
   "language": "python",
   "name": "python3"
  },
  "language_info": {
   "codemirror_mode": {
    "name": "ipython",
    "version": 3
   },
   "file_extension": ".py",
   "mimetype": "text/x-python",
   "name": "python",
   "nbconvert_exporter": "python",
   "pygments_lexer": "ipython3",
   "version": "3.8.8"
  }
 },
 "nbformat": 4,
 "nbformat_minor": 5
}
